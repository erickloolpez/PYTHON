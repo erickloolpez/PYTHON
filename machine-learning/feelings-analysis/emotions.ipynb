{
 "cells": [
  {
   "cell_type": "markdown",
   "id": "51ee94e8a61e6c55",
   "metadata": {},
   "source": [
    "# <center>PONTIFICIA UNIVERSIDAD CATÓLICA DEL ECUADOR</center>\n",
    "### <center>Datos estructurados de Youtube</center>\n",
    "### <center>CASO DE ESTUDIO: Análisis de sentimientos de la pelicula interestelar </center>\n"
   ]
  },
  {
   "cell_type": "markdown",
   "id": "7e88f3c5cc034ad3",
   "metadata": {},
   "source": [
    "<center><img src=\"https://i.blogs.es/1b6bfa/nintendo-switch-2/500_333.jpeg\" width=\"60%\"></center>"
   ]
  },
  {
   "cell_type": "markdown",
   "id": "55dfec5a3e2419de",
   "metadata": {},
   "source": [
    "## Objetivos\n",
    "\n",
    "### Objetivo General\n",
    "Realizar análisis de sentimientos usando la api de Youtube sobre el primer vistazo de la Nintendo Switch 2\n",
    "\n",
    "### Objetivos Específicos\n",
    "* Revisar el marco teórico de aprendizaje automático / IA\n",
    "* Identificar numéricamente las palabras mas usadas en los comentarios del video.\n",
    "* Identificar gráficamente las palabras mas usadas en los comentarios del video.\n"
   ]
  },
  {
   "cell_type": "markdown",
   "id": "bfe417dceb05455f",
   "metadata": {},
   "source": [
    "## Herramientas:\n",
    "* Cuaderno Jupyter\n",
    "* Python\n"
   ]
  },
  {
   "cell_type": "code",
   "execution_count": 2,
   "id": "94e3aeb0eac0b22",
   "metadata": {
    "ExecuteTime": {
     "end_time": "2025-01-24T05:39:55.517698Z",
     "start_time": "2025-01-24T05:39:51.411709Z"
    }
   },
   "outputs": [],
   "source": [
    "import pandas as pd\n",
    "import numpy as np\n",
    "import seaborn as sns\n",
    "import re\n",
    "from wordcloud import WordCloud, STOPWORDS\n",
    "import googleapiclient.discovery\n",
    "from collections import Counter\n",
    "from sklearn.feature_extraction.text import TfidfVectorizer\n",
    "from imblearn.over_sampling import RandomOverSampler\n",
    "from imblearn.under_sampling import RandomUnderSampler\n",
    "\n",
    "from sklearn.model_selection import train_test_split\n",
    "from sklearn.model_selection import cross_val_score\n",
    "from sklearn.model_selection import cross_val_predict\n",
    "\n",
    "from sklearn.tree import DecisionTreeClassifier\n",
    "from sklearn.metrics import accuracy_score\n",
    "from sklearn.metrics import confusion_matrix\n",
    "\n",
    "from sklearn.ensemble import RandomForestClassifier\n",
    "from sklearn.metrics import classification_report\n",
    "\n",
    "from sklearn.svm import SVC\n"
   ]
  },
  {
   "cell_type": "code",
   "execution_count": 2,
   "id": "0c161e00-f7fb-4a12-a13e-8aa0bd4a56a4",
   "metadata": {
    "ExecuteTime": {
     "end_time": "2025-01-22T01:35:49.173099Z",
     "start_time": "2025-01-22T01:35:49.168760Z"
    }
   },
   "outputs": [],
   "source": [
    "dev = \"your_key\""
   ]
  },
  {
   "cell_type": "code",
   "execution_count": 3,
   "id": "764b5c4f-1e6a-4d9e-bf9d-c096be6e9a40",
   "metadata": {
    "ExecuteTime": {
     "end_time": "2025-01-22T01:40:22.841462Z",
     "start_time": "2025-01-22T01:35:51.354533Z"
    }
   },
   "outputs": [
    {
     "name": "stdout",
     "output_type": "stream",
     "text": [
      "<class 'pandas.core.frame.DataFrame'>\n",
      "RangeIndex: 78917 entries, 0 to 78916\n",
      "Data columns (total 5 columns):\n",
      " #   Column      Non-Null Count  Dtype \n",
      "---  ------      --------------  ----- \n",
      " 0   author      78917 non-null  object\n",
      " 1   updated_at  78917 non-null  object\n",
      " 2   like_count  78917 non-null  int64 \n",
      " 3   text        78917 non-null  object\n",
      " 4   public      78917 non-null  bool  \n",
      "dtypes: bool(1), int64(1), object(3)\n",
      "memory usage: 2.5+ MB\n"
     ]
    }
   ],
   "source": [
    "import googleapiclient.discovery\n",
    "\n",
    "api_service_name = \"youtube\"\n",
    "api_version = \"v3\"\n",
    "DEVELOPER_KEY = dev\n",
    "\n",
    "youtube = googleapiclient.discovery.build(\n",
    "    api_service_name, api_version, developerKey=DEVELOPER_KEY)\n",
    "\n",
    "request = youtube.commentThreads().list(\n",
    "    part=\"snippet\",\n",
    "    videoId=\"itpcsQQvgAQ\",\n",
    "    maxResults=100,\n",
    ")\n",
    "\n",
    "comments = []\n",
    "\n",
    "# Execute the request.\n",
    "response = request.execute()\n",
    "\n",
    "# Get the comments from the response.\n",
    "for item in response['items']:\n",
    "    comment = item['snippet']['topLevelComment']['snippet']\n",
    "    public = item['snippet']['isPublic']\n",
    "    comments.append([\n",
    "        comment['authorDisplayName'],\n",
    "        comment['publishedAt'],\n",
    "        comment['likeCount'],\n",
    "        comment['textOriginal'],\n",
    "        public\n",
    "    ])\n",
    "\n",
    "while (1 == 1):\n",
    "  try:\n",
    "   nextPageToken = response['nextPageToken']\n",
    "  except KeyError:\n",
    "   break\n",
    "  nextPageToken = response['nextPageToken']\n",
    "  # Create a new request object with the next page token.\n",
    "  nextRequest = youtube.commentThreads().list(part=\"snippet\", videoId=\"itpcsQQvgAQ\", maxResults=100, pageToken=nextPageToken)\n",
    "  # Execute the next request.\n",
    "  response = nextRequest.execute()\n",
    "  # Get the comments from the next response.\n",
    "  for item in response['items']:\n",
    "    comment = item['snippet']['topLevelComment']['snippet']\n",
    "    public = item['snippet']['isPublic']\n",
    "    comments.append([\n",
    "        comment['authorDisplayName'],\n",
    "        comment['publishedAt'],\n",
    "        comment['likeCount'],\n",
    "        comment['textOriginal'],\n",
    "        public\n",
    "    ])\n",
    "\n",
    "df = pd.DataFrame(comments, columns=['author', 'updated_at', 'like_count', 'text','public'])\n",
    "df.info()"
   ]
  },
  {
   "cell_type": "code",
   "execution_count": 4,
   "id": "bd699543-899e-4dfc-bb45-37409115e57e",
   "metadata": {
    "ExecuteTime": {
     "end_time": "2025-01-22T01:40:38.079287Z",
     "start_time": "2025-01-22T01:40:38.070310Z"
    }
   },
   "outputs": [
    {
     "data": {
      "text/plain": [
       "(78917, 5)"
      ]
     },
     "execution_count": 4,
     "metadata": {},
     "output_type": "execute_result"
    }
   ],
   "source": [
    "df.shape"
   ]
  },
  {
   "cell_type": "code",
   "execution_count": 35,
   "id": "67e7b6abd0eaa159",
   "metadata": {
    "ExecuteTime": {
     "end_time": "2025-01-22T01:56:47.843913Z",
     "start_time": "2025-01-22T01:56:47.321542Z"
    }
   },
   "outputs": [],
   "source": [
    "df.to_csv(\"comments.csv\",index=False)"
   ]
  },
  {
   "cell_type": "code",
   "execution_count": 6,
   "id": "60d47152-1d44-468b-ab62-2508d0c15647",
   "metadata": {
    "ExecuteTime": {
     "end_time": "2025-01-22T01:42:59.691528Z",
     "start_time": "2025-01-22T01:42:59.678627Z"
    }
   },
   "outputs": [
    {
     "data": {
      "text/html": [
       "<div>\n",
       "<style scoped>\n",
       "    .dataframe tbody tr th:only-of-type {\n",
       "        vertical-align: middle;\n",
       "    }\n",
       "\n",
       "    .dataframe tbody tr th {\n",
       "        vertical-align: top;\n",
       "    }\n",
       "\n",
       "    .dataframe thead th {\n",
       "        text-align: right;\n",
       "    }\n",
       "</style>\n",
       "<table border=\"1\" class=\"dataframe\">\n",
       "  <thead>\n",
       "    <tr style=\"text-align: right;\">\n",
       "      <th></th>\n",
       "      <th>author</th>\n",
       "      <th>updated_at</th>\n",
       "      <th>like_count</th>\n",
       "      <th>text</th>\n",
       "      <th>public</th>\n",
       "    </tr>\n",
       "  </thead>\n",
       "  <tbody>\n",
       "    <tr>\n",
       "      <th>0</th>\n",
       "      <td>@GametronixZ</td>\n",
       "      <td>2025-01-22T01:35:35Z</td>\n",
       "      <td>0</td>\n",
       "      <td>Hope the quality format is in 4K (2160p) for T...</td>\n",
       "      <td>True</td>\n",
       "    </tr>\n",
       "    <tr>\n",
       "      <th>1</th>\n",
       "      <td>@kelvinkegel2304</td>\n",
       "      <td>2025-01-22T01:30:36Z</td>\n",
       "      <td>0</td>\n",
       "      <td>Looks way better than Switch 1, now let's wait...</td>\n",
       "      <td>True</td>\n",
       "    </tr>\n",
       "    <tr>\n",
       "      <th>2</th>\n",
       "      <td>@phannectionsextremetierexe</td>\n",
       "      <td>2025-01-22T01:29:25Z</td>\n",
       "      <td>0</td>\n",
       "      <td>please tell me the buttons no longer wiggle an...</td>\n",
       "      <td>True</td>\n",
       "    </tr>\n",
       "    <tr>\n",
       "      <th>3</th>\n",
       "      <td>@bdesoto1180</td>\n",
       "      <td>2025-01-22T01:29:23Z</td>\n",
       "      <td>1</td>\n",
       "      <td>A Nintendo  to know how are we going to get th...</td>\n",
       "      <td>True</td>\n",
       "    </tr>\n",
       "    <tr>\n",
       "      <th>4</th>\n",
       "      <td>@cjfox45</td>\n",
       "      <td>2025-01-22T01:20:00Z</td>\n",
       "      <td>0</td>\n",
       "      <td>Better have fixed that issue with the controll...</td>\n",
       "      <td>True</td>\n",
       "    </tr>\n",
       "  </tbody>\n",
       "</table>\n",
       "</div>"
      ],
      "text/plain": [
       "                        author            updated_at  like_count  \\\n",
       "0                 @GametronixZ  2025-01-22T01:35:35Z           0   \n",
       "1             @kelvinkegel2304  2025-01-22T01:30:36Z           0   \n",
       "2  @phannectionsextremetierexe  2025-01-22T01:29:25Z           0   \n",
       "3                 @bdesoto1180  2025-01-22T01:29:23Z           1   \n",
       "4                     @cjfox45  2025-01-22T01:20:00Z           0   \n",
       "\n",
       "                                                text  public  \n",
       "0  Hope the quality format is in 4K (2160p) for T...    True  \n",
       "1  Looks way better than Switch 1, now let's wait...    True  \n",
       "2  please tell me the buttons no longer wiggle an...    True  \n",
       "3  A Nintendo  to know how are we going to get th...    True  \n",
       "4  Better have fixed that issue with the controll...    True  "
      ]
     },
     "execution_count": 6,
     "metadata": {},
     "output_type": "execute_result"
    }
   ],
   "source": [
    "df.head()"
   ]
  },
  {
   "cell_type": "code",
   "execution_count": 7,
   "id": "ea260564-893a-4f72-8e7e-ca3ce6067ae7",
   "metadata": {
    "ExecuteTime": {
     "end_time": "2025-01-22T01:43:12.952907Z",
     "start_time": "2025-01-22T01:43:12.939133Z"
    }
   },
   "outputs": [
    {
     "data": {
      "text/html": [
       "<div>\n",
       "<style scoped>\n",
       "    .dataframe tbody tr th:only-of-type {\n",
       "        vertical-align: middle;\n",
       "    }\n",
       "\n",
       "    .dataframe tbody tr th {\n",
       "        vertical-align: top;\n",
       "    }\n",
       "\n",
       "    .dataframe thead th {\n",
       "        text-align: right;\n",
       "    }\n",
       "</style>\n",
       "<table border=\"1\" class=\"dataframe\">\n",
       "  <thead>\n",
       "    <tr style=\"text-align: right;\">\n",
       "      <th></th>\n",
       "      <th>text</th>\n",
       "    </tr>\n",
       "  </thead>\n",
       "  <tbody>\n",
       "    <tr>\n",
       "      <th>0</th>\n",
       "      <td>Hope the quality format is in 4K (2160p) for T...</td>\n",
       "    </tr>\n",
       "    <tr>\n",
       "      <th>1</th>\n",
       "      <td>Looks way better than Switch 1, now let's wait...</td>\n",
       "    </tr>\n",
       "    <tr>\n",
       "      <th>2</th>\n",
       "      <td>please tell me the buttons no longer wiggle an...</td>\n",
       "    </tr>\n",
       "    <tr>\n",
       "      <th>3</th>\n",
       "      <td>A Nintendo  to know how are we going to get th...</td>\n",
       "    </tr>\n",
       "    <tr>\n",
       "      <th>4</th>\n",
       "      <td>Better have fixed that issue with the controll...</td>\n",
       "    </tr>\n",
       "  </tbody>\n",
       "</table>\n",
       "</div>"
      ],
      "text/plain": [
       "                                                text\n",
       "0  Hope the quality format is in 4K (2160p) for T...\n",
       "1  Looks way better than Switch 1, now let's wait...\n",
       "2  please tell me the buttons no longer wiggle an...\n",
       "3  A Nintendo  to know how are we going to get th...\n",
       "4  Better have fixed that issue with the controll..."
      ]
     },
     "execution_count": 7,
     "metadata": {},
     "output_type": "execute_result"
    }
   ],
   "source": [
    "df = df[[\"text\"]]\n",
    "df.head()"
   ]
  },
  {
   "cell_type": "markdown",
   "id": "dd670c20-3c91-4019-b0d6-52e808a0961a",
   "metadata": {},
   "source": [
    "## Limpieza de los datos"
   ]
  },
  {
   "cell_type": "code",
   "execution_count": 8,
   "id": "75bbfbdb-02a7-4cd1-98cd-1d68537218a1",
   "metadata": {
    "ExecuteTime": {
     "end_time": "2025-01-22T01:43:15.767055Z",
     "start_time": "2025-01-22T01:43:15.761482Z"
    }
   },
   "outputs": [],
   "source": [
    "def clean_text(texto):\n",
    "    texto = re.sub(r'^RT[\\s]+','', texto)\n",
    "    texto = re.sub(r'https?:\\/\\/.*[\\r\\n*]','', texto)\n",
    "    texto = re.sub(r'#','', texto)\n",
    "    texto = re.sub(r'@[A-Za-z0-9_]+', '', texto) \n",
    "    texto = re.sub(r'http\\S+|www.\\S+|pic.\\S+|\\S+.com\\S*|\\S+.org\\S*|\\S+.net\\S*', '', texto)\n",
    "    texto = re.sub(r'[^\\w\\s]', '', texto)\n",
    "    texto = re.sub(r'^\\d+$', '', texto)\n",
    "    texto = texto.lower().strip()\n",
    "    return texto"
   ]
  },
  {
   "cell_type": "code",
   "execution_count": 9,
   "id": "37486b8e-9872-40d1-a98b-aeec7ce2be7c",
   "metadata": {
    "ExecuteTime": {
     "end_time": "2025-01-22T01:43:18.751289Z",
     "start_time": "2025-01-22T01:43:18.741808Z"
    }
   },
   "outputs": [
    {
     "data": {
      "text/plain": [
       "0        Hope the quality format is in 4K (2160p) for T...\n",
       "1        Looks way better than Switch 1, now let's wait...\n",
       "2        please tell me the buttons no longer wiggle an...\n",
       "3        A Nintendo  to know how are we going to get th...\n",
       "4        Better have fixed that issue with the controll...\n",
       "                               ...                        \n",
       "78912                                              OH CRAP\n",
       "78913                                                   YO\n",
       "78914                                             ITS HERE\n",
       "78915                                             REAL????\n",
       "78916                                                  Hey\n",
       "Name: text, Length: 78917, dtype: object"
      ]
     },
     "execution_count": 9,
     "metadata": {},
     "output_type": "execute_result"
    }
   ],
   "source": [
    "df['text']"
   ]
  },
  {
   "cell_type": "code",
   "execution_count": 10,
   "id": "73ecebf9-f029-4888-a8af-19c84d7905d3",
   "metadata": {
    "ExecuteTime": {
     "end_time": "2025-01-22T01:43:28.559072Z",
     "start_time": "2025-01-22T01:43:26.794113Z"
    }
   },
   "outputs": [],
   "source": [
    "df['clean_text'] = df['text'].apply(clean_text)"
   ]
  },
  {
   "cell_type": "code",
   "execution_count": 11,
   "id": "26fcafd4-36e9-4b7d-a638-05559425fabc",
   "metadata": {
    "ExecuteTime": {
     "end_time": "2025-01-22T01:43:31.027864Z",
     "start_time": "2025-01-22T01:43:31.016810Z"
    }
   },
   "outputs": [
    {
     "data": {
      "text/html": [
       "<div>\n",
       "<style scoped>\n",
       "    .dataframe tbody tr th:only-of-type {\n",
       "        vertical-align: middle;\n",
       "    }\n",
       "\n",
       "    .dataframe tbody tr th {\n",
       "        vertical-align: top;\n",
       "    }\n",
       "\n",
       "    .dataframe thead th {\n",
       "        text-align: right;\n",
       "    }\n",
       "</style>\n",
       "<table border=\"1\" class=\"dataframe\">\n",
       "  <thead>\n",
       "    <tr style=\"text-align: right;\">\n",
       "      <th></th>\n",
       "      <th>text</th>\n",
       "      <th>clean_text</th>\n",
       "    </tr>\n",
       "  </thead>\n",
       "  <tbody>\n",
       "    <tr>\n",
       "      <th>0</th>\n",
       "      <td>Hope the quality format is in 4K (2160p) for T...</td>\n",
       "      <td>hope the quality format is in 4k 2160p for tv ...</td>\n",
       "    </tr>\n",
       "    <tr>\n",
       "      <th>1</th>\n",
       "      <td>Looks way better than Switch 1, now let's wait...</td>\n",
       "      <td>looks way better than switch 1 now lets wait t...</td>\n",
       "    </tr>\n",
       "    <tr>\n",
       "      <th>2</th>\n",
       "      <td>please tell me the buttons no longer wiggle an...</td>\n",
       "      <td>please tell me the buttons no longer wiggle an...</td>\n",
       "    </tr>\n",
       "    <tr>\n",
       "      <th>3</th>\n",
       "      <td>A Nintendo  to know how are we going to get th...</td>\n",
       "      <td>a nintendo  to know how are we going to get th...</td>\n",
       "    </tr>\n",
       "    <tr>\n",
       "      <th>4</th>\n",
       "      <td>Better have fixed that issue with the controll...</td>\n",
       "      <td>better have fixed that issue with the controll...</td>\n",
       "    </tr>\n",
       "    <tr>\n",
       "      <th>...</th>\n",
       "      <td>...</td>\n",
       "      <td>...</td>\n",
       "    </tr>\n",
       "    <tr>\n",
       "      <th>78912</th>\n",
       "      <td>OH CRAP</td>\n",
       "      <td>oh crap</td>\n",
       "    </tr>\n",
       "    <tr>\n",
       "      <th>78913</th>\n",
       "      <td>YO</td>\n",
       "      <td>yo</td>\n",
       "    </tr>\n",
       "    <tr>\n",
       "      <th>78914</th>\n",
       "      <td>ITS HERE</td>\n",
       "      <td>its here</td>\n",
       "    </tr>\n",
       "    <tr>\n",
       "      <th>78915</th>\n",
       "      <td>REAL????</td>\n",
       "      <td>real</td>\n",
       "    </tr>\n",
       "    <tr>\n",
       "      <th>78916</th>\n",
       "      <td>Hey</td>\n",
       "      <td>hey</td>\n",
       "    </tr>\n",
       "  </tbody>\n",
       "</table>\n",
       "<p>78917 rows × 2 columns</p>\n",
       "</div>"
      ],
      "text/plain": [
       "                                                    text  \\\n",
       "0      Hope the quality format is in 4K (2160p) for T...   \n",
       "1      Looks way better than Switch 1, now let's wait...   \n",
       "2      please tell me the buttons no longer wiggle an...   \n",
       "3      A Nintendo  to know how are we going to get th...   \n",
       "4      Better have fixed that issue with the controll...   \n",
       "...                                                  ...   \n",
       "78912                                            OH CRAP   \n",
       "78913                                                 YO   \n",
       "78914                                           ITS HERE   \n",
       "78915                                           REAL????   \n",
       "78916                                                Hey   \n",
       "\n",
       "                                              clean_text  \n",
       "0      hope the quality format is in 4k 2160p for tv ...  \n",
       "1      looks way better than switch 1 now lets wait t...  \n",
       "2      please tell me the buttons no longer wiggle an...  \n",
       "3      a nintendo  to know how are we going to get th...  \n",
       "4      better have fixed that issue with the controll...  \n",
       "...                                                  ...  \n",
       "78912                                            oh crap  \n",
       "78913                                                 yo  \n",
       "78914                                           its here  \n",
       "78915                                               real  \n",
       "78916                                                hey  \n",
       "\n",
       "[78917 rows x 2 columns]"
      ]
     },
     "execution_count": 11,
     "metadata": {},
     "output_type": "execute_result"
    }
   ],
   "source": [
    "df"
   ]
  },
  {
   "cell_type": "code",
   "execution_count": 12,
   "id": "f34fe3fa-6acb-423b-a1eb-c335659075ed",
   "metadata": {
    "ExecuteTime": {
     "end_time": "2025-01-22T01:43:36.920331Z",
     "start_time": "2025-01-22T01:43:36.898797Z"
    }
   },
   "outputs": [],
   "source": [
    "df = df.reset_index(drop=True)"
   ]
  },
  {
   "cell_type": "markdown",
   "id": "0733f907-3587-4ebd-ae41-02e92386577f",
   "metadata": {},
   "source": [
    "## Etiquetado de los datos"
   ]
  },
  {
   "cell_type": "code",
   "execution_count": 13,
   "id": "1f1885dc-c08d-46e4-b16b-7a207917e90e",
   "metadata": {
    "ExecuteTime": {
     "end_time": "2025-01-22T01:43:45.863908Z",
     "start_time": "2025-01-22T01:43:39.515124Z"
    }
   },
   "outputs": [],
   "source": [
    "from nltk.sentiment import SentimentIntensityAnalyzer\n",
    "from tqdm.notebook import tqdm\n",
    "\n",
    "sia = SentimentIntensityAnalyzer()"
   ]
  },
  {
   "cell_type": "code",
   "execution_count": 14,
   "id": "a938ddf1-6361-4cb7-8ff4-52778f25e982",
   "metadata": {
    "ExecuteTime": {
     "end_time": "2025-01-22T01:44:02.482178Z",
     "start_time": "2025-01-22T01:43:48.874252Z"
    }
   },
   "outputs": [
    {
     "data": {
      "application/vnd.jupyter.widget-view+json": {
       "model_id": "e723f3a8e23441aeaf02a9363857547a",
       "version_major": 2,
       "version_minor": 0
      },
      "text/plain": [
       "  0%|          | 0/78917 [00:00<?, ?it/s]"
      ]
     },
     "metadata": {},
     "output_type": "display_data"
    }
   ],
   "source": [
    "res = []\n",
    "\n",
    "for i, row in tqdm(df.iterrows(), total=len(df)):\n",
    "    text = row['clean_text']\n",
    "    polarity_score = sia.polarity_scores(text)  \n",
    "    res.append(polarity_score)  \n",
    "\n",
    "polarity_df = pd.DataFrame(res) \n",
    "df = pd.concat([df, polarity_df], axis=1) \n"
   ]
  },
  {
   "cell_type": "code",
   "execution_count": 15,
   "id": "559678cc-b696-499c-98d9-60edb5e08c55",
   "metadata": {
    "ExecuteTime": {
     "end_time": "2025-01-22T01:44:07.607589Z",
     "start_time": "2025-01-22T01:44:07.594335Z"
    }
   },
   "outputs": [
    {
     "data": {
      "text/html": [
       "<div>\n",
       "<style scoped>\n",
       "    .dataframe tbody tr th:only-of-type {\n",
       "        vertical-align: middle;\n",
       "    }\n",
       "\n",
       "    .dataframe tbody tr th {\n",
       "        vertical-align: top;\n",
       "    }\n",
       "\n",
       "    .dataframe thead th {\n",
       "        text-align: right;\n",
       "    }\n",
       "</style>\n",
       "<table border=\"1\" class=\"dataframe\">\n",
       "  <thead>\n",
       "    <tr style=\"text-align: right;\">\n",
       "      <th></th>\n",
       "      <th>text</th>\n",
       "      <th>clean_text</th>\n",
       "      <th>neg</th>\n",
       "      <th>neu</th>\n",
       "      <th>pos</th>\n",
       "      <th>compound</th>\n",
       "    </tr>\n",
       "  </thead>\n",
       "  <tbody>\n",
       "    <tr>\n",
       "      <th>0</th>\n",
       "      <td>Hope the quality format is in 4K (2160p) for T...</td>\n",
       "      <td>hope the quality format is in 4k 2160p for tv ...</td>\n",
       "      <td>0.000</td>\n",
       "      <td>0.840</td>\n",
       "      <td>0.160</td>\n",
       "      <td>0.6908</td>\n",
       "    </tr>\n",
       "    <tr>\n",
       "      <th>1</th>\n",
       "      <td>Looks way better than Switch 1, now let's wait...</td>\n",
       "      <td>looks way better than switch 1 now lets wait t...</td>\n",
       "      <td>0.124</td>\n",
       "      <td>0.760</td>\n",
       "      <td>0.116</td>\n",
       "      <td>-0.0516</td>\n",
       "    </tr>\n",
       "    <tr>\n",
       "      <th>2</th>\n",
       "      <td>please tell me the buttons no longer wiggle an...</td>\n",
       "      <td>please tell me the buttons no longer wiggle an...</td>\n",
       "      <td>0.081</td>\n",
       "      <td>0.824</td>\n",
       "      <td>0.095</td>\n",
       "      <td>0.2023</td>\n",
       "    </tr>\n",
       "    <tr>\n",
       "      <th>3</th>\n",
       "      <td>A Nintendo  to know how are we going to get th...</td>\n",
       "      <td>a nintendo  to know how are we going to get th...</td>\n",
       "      <td>0.000</td>\n",
       "      <td>1.000</td>\n",
       "      <td>0.000</td>\n",
       "      <td>0.0000</td>\n",
       "    </tr>\n",
       "    <tr>\n",
       "      <th>4</th>\n",
       "      <td>Better have fixed that issue with the controll...</td>\n",
       "      <td>better have fixed that issue with the controll...</td>\n",
       "      <td>0.000</td>\n",
       "      <td>0.734</td>\n",
       "      <td>0.266</td>\n",
       "      <td>0.4404</td>\n",
       "    </tr>\n",
       "    <tr>\n",
       "      <th>...</th>\n",
       "      <td>...</td>\n",
       "      <td>...</td>\n",
       "      <td>...</td>\n",
       "      <td>...</td>\n",
       "      <td>...</td>\n",
       "      <td>...</td>\n",
       "    </tr>\n",
       "    <tr>\n",
       "      <th>78912</th>\n",
       "      <td>OH CRAP</td>\n",
       "      <td>oh crap</td>\n",
       "      <td>0.722</td>\n",
       "      <td>0.278</td>\n",
       "      <td>0.000</td>\n",
       "      <td>-0.3818</td>\n",
       "    </tr>\n",
       "    <tr>\n",
       "      <th>78913</th>\n",
       "      <td>YO</td>\n",
       "      <td>yo</td>\n",
       "      <td>0.000</td>\n",
       "      <td>1.000</td>\n",
       "      <td>0.000</td>\n",
       "      <td>0.0000</td>\n",
       "    </tr>\n",
       "    <tr>\n",
       "      <th>78914</th>\n",
       "      <td>ITS HERE</td>\n",
       "      <td>its here</td>\n",
       "      <td>0.000</td>\n",
       "      <td>1.000</td>\n",
       "      <td>0.000</td>\n",
       "      <td>0.0000</td>\n",
       "    </tr>\n",
       "    <tr>\n",
       "      <th>78915</th>\n",
       "      <td>REAL????</td>\n",
       "      <td>real</td>\n",
       "      <td>0.000</td>\n",
       "      <td>1.000</td>\n",
       "      <td>0.000</td>\n",
       "      <td>0.0000</td>\n",
       "    </tr>\n",
       "    <tr>\n",
       "      <th>78916</th>\n",
       "      <td>Hey</td>\n",
       "      <td>hey</td>\n",
       "      <td>0.000</td>\n",
       "      <td>1.000</td>\n",
       "      <td>0.000</td>\n",
       "      <td>0.0000</td>\n",
       "    </tr>\n",
       "  </tbody>\n",
       "</table>\n",
       "<p>78917 rows × 6 columns</p>\n",
       "</div>"
      ],
      "text/plain": [
       "                                                    text  \\\n",
       "0      Hope the quality format is in 4K (2160p) for T...   \n",
       "1      Looks way better than Switch 1, now let's wait...   \n",
       "2      please tell me the buttons no longer wiggle an...   \n",
       "3      A Nintendo  to know how are we going to get th...   \n",
       "4      Better have fixed that issue with the controll...   \n",
       "...                                                  ...   \n",
       "78912                                            OH CRAP   \n",
       "78913                                                 YO   \n",
       "78914                                           ITS HERE   \n",
       "78915                                           REAL????   \n",
       "78916                                                Hey   \n",
       "\n",
       "                                              clean_text    neg    neu    pos  \\\n",
       "0      hope the quality format is in 4k 2160p for tv ...  0.000  0.840  0.160   \n",
       "1      looks way better than switch 1 now lets wait t...  0.124  0.760  0.116   \n",
       "2      please tell me the buttons no longer wiggle an...  0.081  0.824  0.095   \n",
       "3      a nintendo  to know how are we going to get th...  0.000  1.000  0.000   \n",
       "4      better have fixed that issue with the controll...  0.000  0.734  0.266   \n",
       "...                                                  ...    ...    ...    ...   \n",
       "78912                                            oh crap  0.722  0.278  0.000   \n",
       "78913                                                 yo  0.000  1.000  0.000   \n",
       "78914                                           its here  0.000  1.000  0.000   \n",
       "78915                                               real  0.000  1.000  0.000   \n",
       "78916                                                hey  0.000  1.000  0.000   \n",
       "\n",
       "       compound  \n",
       "0        0.6908  \n",
       "1       -0.0516  \n",
       "2        0.2023  \n",
       "3        0.0000  \n",
       "4        0.4404  \n",
       "...         ...  \n",
       "78912   -0.3818  \n",
       "78913    0.0000  \n",
       "78914    0.0000  \n",
       "78915    0.0000  \n",
       "78916    0.0000  \n",
       "\n",
       "[78917 rows x 6 columns]"
      ]
     },
     "execution_count": 15,
     "metadata": {},
     "output_type": "execute_result"
    }
   ],
   "source": [
    "df"
   ]
  },
  {
   "cell_type": "code",
   "execution_count": 24,
   "id": "ad29880d-afda-43b5-bfe8-14e8963609e5",
   "metadata": {
    "ExecuteTime": {
     "end_time": "2025-01-22T01:50:52.310580Z",
     "start_time": "2025-01-22T01:50:52.306585Z"
    }
   },
   "outputs": [],
   "source": [
    "def applyEmotion(label):\n",
    "    if label < 0:\n",
    "        return \"negative\"\n",
    "    elif label == 0:\n",
    "        return \"neutral\"\n",
    "    elif label > 0:\n",
    "        return \"positive\""
   ]
  },
  {
   "cell_type": "code",
   "execution_count": 25,
   "id": "77bcdff5-b0f9-40fb-823a-d2c86e658a8a",
   "metadata": {
    "ExecuteTime": {
     "end_time": "2025-01-22T01:50:54.361386Z",
     "start_time": "2025-01-22T01:50:54.336708Z"
    }
   },
   "outputs": [],
   "source": [
    "df['emotion_labels'] = df['compound'].apply(applyEmotion)"
   ]
  },
  {
   "cell_type": "code",
   "execution_count": 26,
   "id": "d084a3f6-1bfc-45b4-8f3b-5c1995c523a3",
   "metadata": {
    "ExecuteTime": {
     "end_time": "2025-01-22T01:50:56.078229Z",
     "start_time": "2025-01-22T01:50:56.063892Z"
    }
   },
   "outputs": [
    {
     "data": {
      "text/html": [
       "<div>\n",
       "<style scoped>\n",
       "    .dataframe tbody tr th:only-of-type {\n",
       "        vertical-align: middle;\n",
       "    }\n",
       "\n",
       "    .dataframe tbody tr th {\n",
       "        vertical-align: top;\n",
       "    }\n",
       "\n",
       "    .dataframe thead th {\n",
       "        text-align: right;\n",
       "    }\n",
       "</style>\n",
       "<table border=\"1\" class=\"dataframe\">\n",
       "  <thead>\n",
       "    <tr style=\"text-align: right;\">\n",
       "      <th></th>\n",
       "      <th>text</th>\n",
       "      <th>clean_text</th>\n",
       "      <th>neg</th>\n",
       "      <th>neu</th>\n",
       "      <th>pos</th>\n",
       "      <th>compound</th>\n",
       "      <th>emotion_labels</th>\n",
       "    </tr>\n",
       "  </thead>\n",
       "  <tbody>\n",
       "    <tr>\n",
       "      <th>0</th>\n",
       "      <td>Hope the quality format is in 4K (2160p) for T...</td>\n",
       "      <td>hope the quality format is in 4k 2160p for tv ...</td>\n",
       "      <td>0.000</td>\n",
       "      <td>0.840</td>\n",
       "      <td>0.160</td>\n",
       "      <td>0.6908</td>\n",
       "      <td>positive</td>\n",
       "    </tr>\n",
       "    <tr>\n",
       "      <th>1</th>\n",
       "      <td>Looks way better than Switch 1, now let's wait...</td>\n",
       "      <td>looks way better than switch 1 now lets wait t...</td>\n",
       "      <td>0.124</td>\n",
       "      <td>0.760</td>\n",
       "      <td>0.116</td>\n",
       "      <td>-0.0516</td>\n",
       "      <td>negative</td>\n",
       "    </tr>\n",
       "    <tr>\n",
       "      <th>2</th>\n",
       "      <td>please tell me the buttons no longer wiggle an...</td>\n",
       "      <td>please tell me the buttons no longer wiggle an...</td>\n",
       "      <td>0.081</td>\n",
       "      <td>0.824</td>\n",
       "      <td>0.095</td>\n",
       "      <td>0.2023</td>\n",
       "      <td>positive</td>\n",
       "    </tr>\n",
       "    <tr>\n",
       "      <th>3</th>\n",
       "      <td>A Nintendo  to know how are we going to get th...</td>\n",
       "      <td>a nintendo  to know how are we going to get th...</td>\n",
       "      <td>0.000</td>\n",
       "      <td>1.000</td>\n",
       "      <td>0.000</td>\n",
       "      <td>0.0000</td>\n",
       "      <td>neutral</td>\n",
       "    </tr>\n",
       "    <tr>\n",
       "      <th>4</th>\n",
       "      <td>Better have fixed that issue with the controll...</td>\n",
       "      <td>better have fixed that issue with the controll...</td>\n",
       "      <td>0.000</td>\n",
       "      <td>0.734</td>\n",
       "      <td>0.266</td>\n",
       "      <td>0.4404</td>\n",
       "      <td>positive</td>\n",
       "    </tr>\n",
       "    <tr>\n",
       "      <th>...</th>\n",
       "      <td>...</td>\n",
       "      <td>...</td>\n",
       "      <td>...</td>\n",
       "      <td>...</td>\n",
       "      <td>...</td>\n",
       "      <td>...</td>\n",
       "      <td>...</td>\n",
       "    </tr>\n",
       "    <tr>\n",
       "      <th>78912</th>\n",
       "      <td>OH CRAP</td>\n",
       "      <td>oh crap</td>\n",
       "      <td>0.722</td>\n",
       "      <td>0.278</td>\n",
       "      <td>0.000</td>\n",
       "      <td>-0.3818</td>\n",
       "      <td>negative</td>\n",
       "    </tr>\n",
       "    <tr>\n",
       "      <th>78913</th>\n",
       "      <td>YO</td>\n",
       "      <td>yo</td>\n",
       "      <td>0.000</td>\n",
       "      <td>1.000</td>\n",
       "      <td>0.000</td>\n",
       "      <td>0.0000</td>\n",
       "      <td>neutral</td>\n",
       "    </tr>\n",
       "    <tr>\n",
       "      <th>78914</th>\n",
       "      <td>ITS HERE</td>\n",
       "      <td>its here</td>\n",
       "      <td>0.000</td>\n",
       "      <td>1.000</td>\n",
       "      <td>0.000</td>\n",
       "      <td>0.0000</td>\n",
       "      <td>neutral</td>\n",
       "    </tr>\n",
       "    <tr>\n",
       "      <th>78915</th>\n",
       "      <td>REAL????</td>\n",
       "      <td>real</td>\n",
       "      <td>0.000</td>\n",
       "      <td>1.000</td>\n",
       "      <td>0.000</td>\n",
       "      <td>0.0000</td>\n",
       "      <td>neutral</td>\n",
       "    </tr>\n",
       "    <tr>\n",
       "      <th>78916</th>\n",
       "      <td>Hey</td>\n",
       "      <td>hey</td>\n",
       "      <td>0.000</td>\n",
       "      <td>1.000</td>\n",
       "      <td>0.000</td>\n",
       "      <td>0.0000</td>\n",
       "      <td>neutral</td>\n",
       "    </tr>\n",
       "  </tbody>\n",
       "</table>\n",
       "<p>78917 rows × 7 columns</p>\n",
       "</div>"
      ],
      "text/plain": [
       "                                                    text  \\\n",
       "0      Hope the quality format is in 4K (2160p) for T...   \n",
       "1      Looks way better than Switch 1, now let's wait...   \n",
       "2      please tell me the buttons no longer wiggle an...   \n",
       "3      A Nintendo  to know how are we going to get th...   \n",
       "4      Better have fixed that issue with the controll...   \n",
       "...                                                  ...   \n",
       "78912                                            OH CRAP   \n",
       "78913                                                 YO   \n",
       "78914                                           ITS HERE   \n",
       "78915                                           REAL????   \n",
       "78916                                                Hey   \n",
       "\n",
       "                                              clean_text    neg    neu    pos  \\\n",
       "0      hope the quality format is in 4k 2160p for tv ...  0.000  0.840  0.160   \n",
       "1      looks way better than switch 1 now lets wait t...  0.124  0.760  0.116   \n",
       "2      please tell me the buttons no longer wiggle an...  0.081  0.824  0.095   \n",
       "3      a nintendo  to know how are we going to get th...  0.000  1.000  0.000   \n",
       "4      better have fixed that issue with the controll...  0.000  0.734  0.266   \n",
       "...                                                  ...    ...    ...    ...   \n",
       "78912                                            oh crap  0.722  0.278  0.000   \n",
       "78913                                                 yo  0.000  1.000  0.000   \n",
       "78914                                           its here  0.000  1.000  0.000   \n",
       "78915                                               real  0.000  1.000  0.000   \n",
       "78916                                                hey  0.000  1.000  0.000   \n",
       "\n",
       "       compound emotion_labels  \n",
       "0        0.6908       positive  \n",
       "1       -0.0516       negative  \n",
       "2        0.2023       positive  \n",
       "3        0.0000        neutral  \n",
       "4        0.4404       positive  \n",
       "...         ...            ...  \n",
       "78912   -0.3818       negative  \n",
       "78913    0.0000        neutral  \n",
       "78914    0.0000        neutral  \n",
       "78915    0.0000        neutral  \n",
       "78916    0.0000        neutral  \n",
       "\n",
       "[78917 rows x 7 columns]"
      ]
     },
     "execution_count": 26,
     "metadata": {},
     "output_type": "execute_result"
    }
   ],
   "source": [
    "df"
   ]
  },
  {
   "cell_type": "code",
   "execution_count": 3,
   "id": "a99b976d2c71caa9",
   "metadata": {
    "ExecuteTime": {
     "end_time": "2025-01-24T05:40:01.732326Z",
     "start_time": "2025-01-24T05:40:01.100623Z"
    }
   },
   "outputs": [],
   "source": [
    "df = pd.read_csv(\"comments.csv\")"
   ]
  },
  {
   "cell_type": "code",
   "execution_count": 4,
   "id": "f7040d47d4586277",
   "metadata": {
    "ExecuteTime": {
     "end_time": "2025-01-24T05:40:05.455528Z",
     "start_time": "2025-01-24T05:40:05.390133Z"
    }
   },
   "outputs": [],
   "source": [
    "df.dropna(subset=['clean_text'], inplace=True)"
   ]
  },
  {
   "cell_type": "code",
   "execution_count": 5,
   "id": "acfe985c-9064-442d-b82a-6670c0421dfd",
   "metadata": {
    "ExecuteTime": {
     "end_time": "2025-01-24T05:40:07.089481Z",
     "start_time": "2025-01-24T05:40:06.698723Z"
    }
   },
   "outputs": [
    {
     "data": {
      "image/png": "[encoded data removed]",
      "text/plain": [
       "<Figure size 640x480 with 1 Axes>"
      ]
     },
     "metadata": {},
     "output_type": "display_data"
    }
   ],
   "source": [
    "import matplotlib.pyplot as plt\n",
    "labels = ['neutral', 'positive', 'negative']\n",
    "colors = ['#f6aa30', '#1fb99e', '#c1382a']\n",
    "counts = df['emotion_labels'].value_counts()\n",
    "\n",
    "plt.bar(labels, counts, color=colors)\n",
    "plt.title('Nintendo Switch 2 - Sentimientos', fontsize=20)\n",
    "plt.xlabel('Sentimientos')\n",
    "plt.ylabel('Cantidad')\n",
    "plt.show()"
   ]
  },
  {
   "cell_type": "code",
   "execution_count": 6,
   "id": "0456134c-42de-4983-b20c-16142d7736b4",
   "metadata": {
    "ExecuteTime": {
     "end_time": "2025-01-24T05:40:12.219587Z",
     "start_time": "2025-01-24T05:40:12.204363Z"
    }
   },
   "outputs": [
    {
     "data": {
      "text/plain": [
       "neutral     34533\n",
       "positive    31436\n",
       "negative    12141\n",
       "Name: emotion_labels, dtype: int64"
      ]
     },
     "execution_count": 6,
     "metadata": {},
     "output_type": "execute_result"
    }
   ],
   "source": [
    "df['emotion_labels'].value_counts()"
   ]
  },
  {
   "cell_type": "code",
   "execution_count": 7,
   "id": "ee4557c45b9794d0",
   "metadata": {
    "ExecuteTime": {
     "end_time": "2025-01-24T05:40:14.793967Z",
     "start_time": "2025-01-24T05:40:14.387891Z"
    }
   },
   "outputs": [],
   "source": [
    "text = \" \".join(df['clean_text'].astype(str))\n",
    "words = text.split()  # Divide el texto en palabras\n",
    "\n",
    "stopwords = set(STOPWORDS)\n",
    "words_filter = [word for word in words if word not in stopwords]\n",
    "frequency = Counter(words_filter)"
   ]
  },
  {
   "cell_type": "code",
   "execution_count": 8,
   "id": "130f121f5582e4ce",
   "metadata": {
    "ExecuteTime": {
     "end_time": "2025-01-24T05:40:18.987188Z",
     "start_time": "2025-01-24T05:40:17.236661Z"
    }
   },
   "outputs": [],
   "source": [
    "# Generar nube de palabras\n",
    "word_cloud = WordCloud(\n",
    "    random_state=1,\n",
    "    collocations=False,\n",
    "    stopwords=STOPWORDS\n",
    ").generate(text)\n"
   ]
  },
  {
   "cell_type": "code",
   "execution_count": 9,
   "id": "fda3e553987f28bf",
   "metadata": {
    "ExecuteTime": {
     "end_time": "2025-01-24T05:40:23.048654Z",
     "start_time": "2025-01-24T05:40:22.755120Z"
    }
   },
   "outputs": [
    {
     "data": {
      "image/png": "[encoded data removed]",
      "text/plain": [
       "<Figure size 640x480 with 1 Axes>"
      ]
     },
     "metadata": {},
     "output_type": "display_data"
    }
   ],
   "source": [
    "# Mostrar la nube generada\n",
    "plt.imshow(word_cloud)\n",
    "plt.axis(\"off\")\n",
    "plt.show()"
   ]
  },
  {
   "cell_type": "code",
   "execution_count": 10,
   "id": "e9d8acb4e2cc07ef",
   "metadata": {
    "ExecuteTime": {
     "end_time": "2025-01-24T05:40:25.659448Z",
     "start_time": "2025-01-24T05:40:25.592722Z"
    }
   },
   "outputs": [],
   "source": [
    "# Convertir las frecuencias a un DataFrame\n",
    "df_frequency = pd.DataFrame(frequency.items(), columns=['Word', 'Frequency'])\n",
    "\n",
    "# Ordenar las palabras por frecuencia descendente\n",
    "df_frequency_sort = df_frequency.sort_values(by='Frequency', ascending=False)"
   ]
  },
  {
   "cell_type": "code",
   "execution_count": 11,
   "id": "ae349d7d91ccf33e",
   "metadata": {
    "ExecuteTime": {
     "end_time": "2025-01-23T17:45:53.136298Z",
     "start_time": "2025-01-23T17:45:53.125966Z"
    }
   },
   "outputs": [
    {
     "data": {
      "text/html": [
       "<div>\n",
       "<style scoped>\n",
       "    .dataframe tbody tr th:only-of-type {\n",
       "        vertical-align: middle;\n",
       "    }\n",
       "\n",
       "    .dataframe tbody tr th {\n",
       "        vertical-align: top;\n",
       "    }\n",
       "\n",
       "    .dataframe thead th {\n",
       "        text-align: right;\n",
       "    }\n",
       "</style>\n",
       "<table border=\"1\" class=\"dataframe\">\n",
       "  <thead>\n",
       "    <tr style=\"text-align: right;\">\n",
       "      <th></th>\n",
       "      <th>Word</th>\n",
       "      <th>Frequency</th>\n",
       "    </tr>\n",
       "  </thead>\n",
       "  <tbody>\n",
       "    <tr>\n",
       "      <th>21</th>\n",
       "      <td>switch</td>\n",
       "      <td>19876</td>\n",
       "    </tr>\n",
       "    <tr>\n",
       "      <th>56</th>\n",
       "      <td>nintendo</td>\n",
       "      <td>15407</td>\n",
       "    </tr>\n",
       "    <tr>\n",
       "      <th>59</th>\n",
       "      <td>2</td>\n",
       "      <td>11410</td>\n",
       "    </tr>\n",
       "    <tr>\n",
       "      <th>9</th>\n",
       "      <td>new</td>\n",
       "      <td>6734</td>\n",
       "    </tr>\n",
       "    <tr>\n",
       "      <th>11</th>\n",
       "      <td>mario</td>\n",
       "      <td>5924</td>\n",
       "    </tr>\n",
       "    <tr>\n",
       "      <th>...</th>\n",
       "      <td>...</td>\n",
       "      <td>...</td>\n",
       "    </tr>\n",
       "    <tr>\n",
       "      <th>16183</th>\n",
       "      <td>principales</td>\n",
       "      <td>1</td>\n",
       "    </tr>\n",
       "    <tr>\n",
       "      <th>16182</th>\n",
       "      <td>temperature</td>\n",
       "      <td>1</td>\n",
       "    </tr>\n",
       "    <tr>\n",
       "      <th>16180</th>\n",
       "      <td>hollyyyyyy</td>\n",
       "      <td>1</td>\n",
       "    </tr>\n",
       "    <tr>\n",
       "      <th>16179</th>\n",
       "      <td>ateee</td>\n",
       "      <td>1</td>\n",
       "    </tr>\n",
       "    <tr>\n",
       "      <th>30204</th>\n",
       "      <td>boooiiiiiiiii</td>\n",
       "      <td>1</td>\n",
       "    </tr>\n",
       "  </tbody>\n",
       "</table>\n",
       "<p>30205 rows × 2 columns</p>\n",
       "</div>"
      ],
      "text/plain": [
       "                Word  Frequency\n",
       "21            switch      19876\n",
       "56          nintendo      15407\n",
       "59                 2      11410\n",
       "9                new       6734\n",
       "11             mario       5924\n",
       "...              ...        ...\n",
       "16183    principales          1\n",
       "16182    temperature          1\n",
       "16180     hollyyyyyy          1\n",
       "16179          ateee          1\n",
       "30204  boooiiiiiiiii          1\n",
       "\n",
       "[30205 rows x 2 columns]"
      ]
     },
     "execution_count": 11,
     "metadata": {},
     "output_type": "execute_result"
    }
   ],
   "source": [
    "df_frequency_sort"
   ]
  },
  {
   "cell_type": "code",
   "execution_count": 11,
   "id": "9480950d-a236-4b83-91b9-ac0fa248945c",
   "metadata": {
    "ExecuteTime": {
     "end_time": "2025-01-24T05:40:28.496644Z",
     "start_time": "2025-01-24T05:40:28.489109Z"
    }
   },
   "outputs": [],
   "source": [
    "# Seleccion las columnas de interés\n",
    "features = df['clean_text']\n",
    "labels = df['emotion_labels']"
   ]
  },
  {
   "cell_type": "markdown",
   "id": "237e8bcd-06d6-4135-9952-538d076725d5",
   "metadata": {},
   "source": [
    "## Vectorización y Mapeo de los comentarios"
   ]
  },
  {
   "cell_type": "markdown",
   "id": "6290077a0bcff3e0",
   "metadata": {},
   "source": [
    "### TF_IDF: Medir la relevancia de las palabras\n",
    "TF-IDF (Frecuencia de Término - Frecuencia Inversa de Documento) mide la importancia de una palabra en un texto respecto a todo el conjunto de textos. Esto evita que palabras muy comunes como \"el\", \"es\" o \"de\" tengan demasiada influencia.\n",
    "\n"
   ]
  },
  {
   "cell_type": "code",
   "execution_count": 12,
   "id": "872faa8c2e9e6e29",
   "metadata": {
    "ExecuteTime": {
     "end_time": "2025-01-24T05:40:38.866559Z",
     "start_time": "2025-01-24T05:40:37.199516Z"
    }
   },
   "outputs": [],
   "source": [
    "# Transformar texto a numeros usando TF-IDF\n",
    "vectorizer = TfidfVectorizer()\n",
    "\n",
    "X = vectorizer.fit_transform(features)"
   ]
  },
  {
   "cell_type": "markdown",
   "id": "4fd8fbee-af00-4276-8a83-0c2f2718647c",
   "metadata": {},
   "source": [
    "### Mapeo de las etiquetas de sentimiento a valores numéricos"
   ]
  },
  {
   "cell_type": "code",
   "execution_count": 13,
   "id": "8b56276f-c62e-4162-8498-3c01a1211caa",
   "metadata": {
    "ExecuteTime": {
     "end_time": "2025-01-24T05:40:42.075358Z",
     "start_time": "2025-01-24T05:40:42.047491Z"
    }
   },
   "outputs": [],
   "source": [
    "y = labels"
   ]
  },
  {
   "cell_type": "markdown",
   "id": "96a13c5b-cb73-4bd6-9c5b-620df3b6538f",
   "metadata": {},
   "source": [
    "## División del conjunto de datos en conjuntos de entrenamiento y prueba"
   ]
  },
  {
   "cell_type": "code",
   "execution_count": 14,
   "id": "c5ba6a57-5a6c-4aa3-b01d-b9038976e035",
   "metadata": {
    "ExecuteTime": {
     "end_time": "2025-01-24T05:40:44.348789Z",
     "start_time": "2025-01-24T05:40:44.313796Z"
    }
   },
   "outputs": [],
   "source": [
    "X_train, X_test, y_train, y_test = train_test_split(X, y, test_size=0.2, random_state=42)"
   ]
  },
  {
   "cell_type": "markdown",
   "id": "ec91ba94-77db-412d-bbba-e5e3bbd23966",
   "metadata": {},
   "source": [
    "## Balanceo de las clases"
   ]
  },
  {
   "cell_type": "code",
   "execution_count": 15,
   "id": "8e4fdbce-d2ec-4b82-b0f3-ff678d96153c",
   "metadata": {
    "ExecuteTime": {
     "end_time": "2025-01-24T05:41:02.251395Z",
     "start_time": "2025-01-24T05:41:01.735942Z"
    }
   },
   "outputs": [
    {
     "name": "stdout",
     "output_type": "stream",
     "text": [
      "Balance de clases después del sobremuestreo:\n",
      "{'negative': 27697, 'neutral': 27697, 'positive': 27697}\n",
      "Balance de clases después del submuestreo:\n",
      "{'negative': 9688, 'neutral': 9688, 'positive': 9688}\n"
     ]
    }
   ],
   "source": [
    "# Crear instancias de RandomOverSampler y RandomUnderSampler\n",
    "over_sampler = RandomOverSampler(random_state=42)\n",
    "under_sampler = RandomUnderSampler(random_state=42)\n",
    "\n",
    "# Aplicar sobremuestreo a los datos\n",
    "X_over, y_over = over_sampler.fit_resample(X_train, y_train)\n",
    "\n",
    "# Aplicar submuestreo a los datos\n",
    "X_under, y_under = under_sampler.fit_resample(X_train, y_train)\n",
    "\n",
    "# Verificar el balance de clases después del remuestreo\n",
    "unique, counts = np.unique(y_over, return_counts=True)\n",
    "print(\"Balance de clases después del sobremuestreo:\")\n",
    "print(dict(zip(unique, counts)))\n",
    "\n",
    "unique, counts = np.unique(y_under, return_counts=True)\n",
    "print(\"Balance de clases después del submuestreo:\")\n",
    "print(dict(zip(unique, counts)))"
   ]
  },
  {
   "cell_type": "markdown",
   "id": "c6ec2ec0-b1d2-44a3-857f-a8e56147fbb6",
   "metadata": {},
   "source": [
    "## Exportacion de df Balanceados"
   ]
  },
  {
   "cell_type": "code",
   "execution_count": 47,
   "id": "c49b51c4-5cb0-4080-b6f6-8412cca25943",
   "metadata": {
    "ExecuteTime": {
     "end_time": "2025-01-24T13:24:18.247066Z",
     "start_time": "2025-01-24T13:24:16.957439Z"
    }
   },
   "outputs": [
    {
     "name": "stdout",
     "output_type": "stream",
     "text": [
      "Balance de clases inicial:\n",
      "{'neutral': 34533, 'positive': 31436, 'negative': 12141}\n",
      "Balance de clases después del sobremuestreo:\n",
      "{'negative': 34533, 'neutral': 34533, 'positive': 34533}\n",
      "Balance de clases después del submuestreo:\n",
      "{'negative': 12141, 'neutral': 12141, 'positive': 12141}\n",
      "Archivos exportados: 'oversampled_data.csv' y 'undersampled_data.csv'\n"
     ]
    }
   ],
   "source": [
    "from sklearn.utils import resample\n",
    "\n",
    "# Verificar el balance inicial de las clases\n",
    "initial_balance = df['emotion_labels'].value_counts().to_dict()\n",
    "print(f\"Balance de clases inicial:\\n{initial_balance}\")\n",
    "\n",
    "# Dividir el DataFrame por clases\n",
    "negative = df[df['emotion_labels'] == 'negative']\n",
    "neutral = df[df['emotion_labels'] == 'neutral']\n",
    "positive = df[df['emotion_labels'] == 'positive']\n",
    "\n",
    "### Sobremuestreo (Oversampling)\n",
    "# Sobremuestrear todas las clases al tamaño de la clase mayoritaria\n",
    "majority_size = max(len(negative), len(neutral), len(positive))\n",
    "\n",
    "negative_oversampled = resample(negative, replace=True, n_samples=majority_size, random_state=42)\n",
    "neutral_oversampled = resample(neutral, replace=True, n_samples=majority_size, random_state=42)\n",
    "positive_oversampled = resample(positive, replace=True, n_samples=majority_size, random_state=42)\n",
    "\n",
    "# Combinar las clases sobremuestreadas\n",
    "df_oversampled = pd.concat([negative_oversampled, neutral_oversampled, positive_oversampled])\n",
    "\n",
    "# Verificar el balance después del sobremuestreo\n",
    "oversampled_balance = df_oversampled['emotion_labels'].value_counts().to_dict()\n",
    "print(f\"Balance de clases después del sobremuestreo:\\n{oversampled_balance}\")\n",
    "\n",
    "### Submuestreo (Undersampling)\n",
    "# Submuestrear todas las clases al tamaño de la clase minoritaria\n",
    "minority_size = min(len(negative), len(neutral), len(positive))\n",
    "\n",
    "negative_undersampled = resample(negative, replace=False, n_samples=minority_size, random_state=42)\n",
    "neutral_undersampled = resample(neutral, replace=False, n_samples=minority_size, random_state=42)\n",
    "positive_undersampled = resample(positive, replace=False, n_samples=minority_size, random_state=42)\n",
    "\n",
    "# Combinar las clases submuestreadas\n",
    "df_undersampled = pd.concat([negative_undersampled, neutral_undersampled, positive_undersampled])\n",
    "\n",
    "# Verificar el balance después del submuestreo\n",
    "undersampled_balance = df_undersampled['emotion_labels'].value_counts().to_dict()\n",
    "print(f\"Balance de clases después del submuestreo:\\n{undersampled_balance}\")\n",
    "\n",
    "### Exportar datasets a CSV\n",
    "df_oversampled.to_csv(\"oversampled_data.csv\", index=False)\n",
    "df_undersampled.to_csv(\"undersampled_data.csv\", index=False)\n",
    "\n",
    "print(\"Archivos exportados: 'oversampled_data.csv' y 'undersampled_data.csv'\")"
   ]
  },
  {
   "cell_type": "code",
   "execution_count": 48,
   "id": "db5bb5c15680a17",
   "metadata": {
    "ExecuteTime": {
     "end_time": "2025-01-24T13:32:33.888922Z",
     "start_time": "2025-01-24T13:32:32.733087Z"
    }
   },
   "outputs": [],
   "source": [
    "df_oversampled.to_csv(\"oversampled_data.csv\", index=False)\n",
    "df_undersampled.to_csv(\"undersampled_data.csv\", index=False)"
   ]
  },
  {
   "cell_type": "markdown",
   "id": "717fc727-3bbe-4605-99af-873d5ddb8530",
   "metadata": {},
   "source": [
    "## Modelamiento"
   ]
  },
  {
   "cell_type": "markdown",
   "id": "79cdbbb0-adaf-4bd2-b310-3c79164ac2ff",
   "metadata": {},
   "source": [
    "### DecisionTreeClassifier"
   ]
  },
  {
   "cell_type": "markdown",
   "id": "612ed3c0c85651d9",
   "metadata": {},
   "source": [
    "#### Datos Normales"
   ]
  },
  {
   "cell_type": "code",
   "execution_count": 34,
   "id": "9697d93c-649b-4de4-985b-d509a4611886",
   "metadata": {
    "ExecuteTime": {
     "end_time": "2025-01-23T00:20:12.995085Z",
     "start_time": "2025-01-23T00:18:30.526547Z"
    }
   },
   "outputs": [
    {
     "name": "stdout",
     "output_type": "stream",
     "text": [
      "Exactitud de cada fold: [0.85349656 0.85597696 0.85101616 0.84684324 0.86412739]\n",
      "Exactitud promedio: 0.8542920622600889\n"
     ]
    }
   ],
   "source": [
    "# Crear instancia del modelo\n",
    "model = DecisionTreeClassifier()\n",
    "\n",
    "# Realizar validación cruzada\n",
    "scores = cross_val_score(model, X_train, y_train, cv=5)\n",
    "\n",
    "# Imprimir los resultados de la validación cruzada\n",
    "print(\"Exactitud de cada fold:\", scores)\n",
    "print(\"Exactitud promedio:\", np.mean(scores))"
   ]
  },
  {
   "cell_type": "code",
   "execution_count": 35,
   "id": "c1b8630e60ab80e0",
   "metadata": {
    "ExecuteTime": {
     "end_time": "2025-01-23T00:21:54.353437Z",
     "start_time": "2025-01-23T00:21:27.315037Z"
    }
   },
   "outputs": [
    {
     "data": {
      "text/html": [
       "<style>#sk-container-id-1 {color: black;background-color: white;}#sk-container-id-1 pre{padding: 0;}#sk-container-id-1 div.sk-toggleable {background-color: white;}#sk-container-id-1 label.sk-toggleable__label {cursor: pointer;display: block;width: 100%;margin-bottom: 0;padding: 0.3em;box-sizing: border-box;text-align: center;}#sk-container-id-1 label.sk-toggleable__label-arrow:before {content: \"▸\";float: left;margin-right: 0.25em;color: #696969;}#sk-container-id-1 label.sk-toggleable__label-arrow:hover:before {color: black;}#sk-container-id-1 div.sk-estimator:hover label.sk-toggleable__label-arrow:before {color: black;}#sk-container-id-1 div.sk-toggleable__content {max-height: 0;max-width: 0;overflow: hidden;text-align: left;background-color: #f0f8ff;}#sk-container-id-1 div.sk-toggleable__content pre {margin: 0.2em;color: black;border-radius: 0.25em;background-color: #f0f8ff;}#sk-container-id-1 input.sk-toggleable__control:checked~div.sk-toggleable__content {max-height: 200px;max-width: 100%;overflow: auto;}#sk-container-id-1 input.sk-toggleable__control:checked~label.sk-toggleable__label-arrow:before {content: \"▾\";}#sk-container-id-1 div.sk-estimator input.sk-toggleable__control:checked~label.sk-toggleable__label {background-color: #d4ebff;}#sk-container-id-1 div.sk-label input.sk-toggleable__control:checked~label.sk-toggleable__label {background-color: #d4ebff;}#sk-container-id-1 input.sk-hidden--visually {border: 0;clip: rect(1px 1px 1px 1px);clip: rect(1px, 1px, 1px, 1px);height: 1px;margin: -1px;overflow: hidden;padding: 0;position: absolute;width: 1px;}#sk-container-id-1 div.sk-estimator {font-family: monospace;background-color: #f0f8ff;border: 1px dotted black;border-radius: 0.25em;box-sizing: border-box;margin-bottom: 0.5em;}#sk-container-id-1 div.sk-estimator:hover {background-color: #d4ebff;}#sk-container-id-1 div.sk-parallel-item::after {content: \"\";width: 100%;border-bottom: 1px solid gray;flex-grow: 1;}#sk-container-id-1 div.sk-label:hover label.sk-toggleable__label {background-color: #d4ebff;}#sk-container-id-1 div.sk-serial::before {content: \"\";position: absolute;border-left: 1px solid gray;box-sizing: border-box;top: 0;bottom: 0;left: 50%;z-index: 0;}#sk-container-id-1 div.sk-serial {display: flex;flex-direction: column;align-items: center;background-color: white;padding-right: 0.2em;padding-left: 0.2em;position: relative;}#sk-container-id-1 div.sk-item {position: relative;z-index: 1;}#sk-container-id-1 div.sk-parallel {display: flex;align-items: stretch;justify-content: center;background-color: white;position: relative;}#sk-container-id-1 div.sk-item::before, #sk-container-id-1 div.sk-parallel-item::before {content: \"\";position: absolute;border-left: 1px solid gray;box-sizing: border-box;top: 0;bottom: 0;left: 50%;z-index: -1;}#sk-container-id-1 div.sk-parallel-item {display: flex;flex-direction: column;z-index: 1;position: relative;background-color: white;}#sk-container-id-1 div.sk-parallel-item:first-child::after {align-self: flex-end;width: 50%;}#sk-container-id-1 div.sk-parallel-item:last-child::after {align-self: flex-start;width: 50%;}#sk-container-id-1 div.sk-parallel-item:only-child::after {width: 0;}#sk-container-id-1 div.sk-dashed-wrapped {border: 1px dashed gray;margin: 0 0.4em 0.5em 0.4em;box-sizing: border-box;padding-bottom: 0.4em;background-color: white;}#sk-container-id-1 div.sk-label label {font-family: monospace;font-weight: bold;display: inline-block;line-height: 1.2em;}#sk-container-id-1 div.sk-label-container {text-align: center;}#sk-container-id-1 div.sk-container {/* jupyter's `normalize.less` sets `[hidden] { display: none; }` but bootstrap.min.css set `[hidden] { display: none !important; }` so we also need the `!important` here to be able to override the default hidden behavior on the sphinx rendered scikit-learn.org. See: https://github.com/scikit-learn/scikit-learn/issues/21755 */display: inline-block !important;position: relative;}#sk-container-id-1 div.sk-text-repr-fallback {display: none;}</style><div id=\"sk-container-id-1\" class=\"sk-top-container\"><div class=\"sk-text-repr-fallback\"><pre>DecisionTreeClassifier()</pre><b>In a Jupyter environment, please rerun this cell to show the HTML representation or trust the notebook. <br />On GitHub, the HTML representation is unable to render, please try loading this page with nbviewer.org.</b></div><div class=\"sk-container\" hidden><div class=\"sk-item\"><div class=\"sk-estimator sk-toggleable\"><input class=\"sk-toggleable__control sk-hidden--visually\" id=\"sk-estimator-id-1\" type=\"checkbox\" checked><label for=\"sk-estimator-id-1\" class=\"sk-toggleable__label sk-toggleable__label-arrow\">DecisionTreeClassifier</label><div class=\"sk-toggleable__content\"><pre>DecisionTreeClassifier()</pre></div></div></div></div></div>"
      ],
      "text/plain": [
       "DecisionTreeClassifier()"
      ]
     },
     "execution_count": 35,
     "metadata": {},
     "output_type": "execute_result"
    }
   ],
   "source": [
    "model.fit(X_train, y_train)"
   ]
  },
  {
   "cell_type": "markdown",
   "id": "212d95768b3c4379",
   "metadata": {},
   "source": [
    "Accuracy Test"
   ]
  },
  {
   "cell_type": "code",
   "execution_count": 36,
   "id": "3d0d578b67081276",
   "metadata": {
    "ExecuteTime": {
     "end_time": "2025-01-23T00:22:07.263604Z",
     "start_time": "2025-01-23T00:22:07.242476Z"
    }
   },
   "outputs": [],
   "source": [
    "y_pred = model.predict(X_test)"
   ]
  },
  {
   "cell_type": "code",
   "execution_count": 37,
   "id": "4b67147fcaa2072f",
   "metadata": {
    "ExecuteTime": {
     "end_time": "2025-01-23T00:22:09.056284Z",
     "start_time": "2025-01-23T00:22:09.039266Z"
    }
   },
   "outputs": [
    {
     "name": "stdout",
     "output_type": "stream",
     "text": [
      "Model accuracy score with criterion gini index: 0.8619\n"
     ]
    }
   ],
   "source": [
    "print('Model accuracy score with criterion gini index: {0:0.4f}'. format(accuracy_score(y_test, y_pred)))"
   ]
  },
  {
   "cell_type": "markdown",
   "id": "5678b842db42909e",
   "metadata": {},
   "source": [
    "Accuracy Train"
   ]
  },
  {
   "cell_type": "code",
   "execution_count": 39,
   "id": "66b51c200e0e93d7",
   "metadata": {
    "ExecuteTime": {
     "end_time": "2025-01-23T00:22:13.339018Z",
     "start_time": "2025-01-23T00:22:13.287020Z"
    }
   },
   "outputs": [],
   "source": [
    "y_pred_train = model.predict(X_train)"
   ]
  },
  {
   "cell_type": "code",
   "execution_count": 40,
   "id": "8f2a8f885c31e6ea",
   "metadata": {
    "ExecuteTime": {
     "end_time": "2025-01-23T00:22:15.768568Z",
     "start_time": "2025-01-23T00:22:15.711055Z"
    }
   },
   "outputs": [
    {
     "name": "stdout",
     "output_type": "stream",
     "text": [
      "Model accuracy score with criterion gini index: 1.0000\n"
     ]
    }
   ],
   "source": [
    "print('Model accuracy score with criterion gini index: {0:0.4f}'. format(accuracy_score(y_train, y_pred_train)))"
   ]
  },
  {
   "cell_type": "markdown",
   "id": "38b901f31e7cfb5",
   "metadata": {},
   "source": [
    "Check for overfitting and underfitting"
   ]
  },
  {
   "cell_type": "code",
   "execution_count": 41,
   "id": "57b2ab5f82a1a868",
   "metadata": {
    "ExecuteTime": {
     "end_time": "2025-01-23T00:22:18.923866Z",
     "start_time": "2025-01-23T00:22:18.798489Z"
    }
   },
   "outputs": [
    {
     "name": "stdout",
     "output_type": "stream",
     "text": [
      "Training set score: 1.0000\n",
      "Test set score: 0.8619\n"
     ]
    }
   ],
   "source": [
    "print('Training set score: {:.4f}'.format(model.score(X_train, y_train)))\n",
    "\n",
    "print('Test set score: {:.4f}'.format(model.score(X_test, y_test)))"
   ]
  },
  {
   "cell_type": "markdown",
   "id": "3c11e44b117bed4",
   "metadata": {},
   "source": [
    "Matriz de Confusion"
   ]
  },
  {
   "cell_type": "code",
   "execution_count": 42,
   "id": "e141d23862e6efeb",
   "metadata": {
    "ExecuteTime": {
     "end_time": "2025-01-23T00:22:22.114264Z",
     "start_time": "2025-01-23T00:22:22.067781Z"
    }
   },
   "outputs": [
    {
     "name": "stdout",
     "output_type": "stream",
     "text": [
      "Confusion matrix\n",
      "\n",
      " [[1532  328  593]\n",
      " [ 167 6489  180]\n",
      " [ 478  411 5444]]\n"
     ]
    }
   ],
   "source": [
    "cm = confusion_matrix(y_test, y_pred)\n",
    "\n",
    "print('Confusion matrix\\n\\n', cm)"
   ]
  },
  {
   "cell_type": "code",
   "execution_count": 43,
   "id": "f5934da23cba3574",
   "metadata": {
    "ExecuteTime": {
     "end_time": "2025-01-23T00:22:23.850687Z",
     "start_time": "2025-01-23T00:22:23.714074Z"
    }
   },
   "outputs": [
    {
     "data": {
      "image/png": "[encoded data removed]",
      "text/plain": [
       "<Figure size 800x600 with 1 Axes>"
      ]
     },
     "metadata": {},
     "output_type": "display_data"
    }
   ],
   "source": [
    "# Crear el gráfico\n",
    "plt.figure(figsize=(8, 6))\n",
    "\n",
    "labels =['negative', 'neutral','positive']\n",
    "\n",
    "sns.heatmap(cm, annot=True, fmt='d', cmap='Blues', cbar=False,xticklabels=labels, yticklabels=labels)\n",
    "\n",
    "# Configurar etiquetas\n",
    "plt.title('Matriz de Confusión', fontsize=16)\n",
    "plt.xlabel('Predicted Labels', fontsize=14)\n",
    "plt.ylabel('True Labels', fontsize=14)\n",
    "plt.xticks(fontsize=12)\n",
    "plt.yticks(fontsize=12)\n",
    "\n",
    "# Mostrar el gráfico\n",
    "plt.show()"
   ]
  },
  {
   "cell_type": "markdown",
   "id": "952400e2d3909b31",
   "metadata": {},
   "source": [
    "Reporte de Clasificacion"
   ]
  },
  {
   "cell_type": "code",
   "execution_count": 44,
   "id": "b6de868f03b7326c",
   "metadata": {
    "ExecuteTime": {
     "end_time": "2025-01-23T00:22:29.699827Z",
     "start_time": "2025-01-23T00:22:29.304331Z"
    }
   },
   "outputs": [
    {
     "name": "stdout",
     "output_type": "stream",
     "text": [
      "              precision    recall  f1-score   support\n",
      "\n",
      "    negative       0.70      0.62      0.66      2453\n",
      "     neutral       0.90      0.95      0.92      6836\n",
      "    positive       0.88      0.86      0.87      6333\n",
      "\n",
      "    accuracy                           0.86     15622\n",
      "   macro avg       0.83      0.81      0.82     15622\n",
      "weighted avg       0.86      0.86      0.86     15622\n",
      "\n"
     ]
    }
   ],
   "source": [
    "print(classification_report(y_test, y_pred))"
   ]
  },
  {
   "cell_type": "markdown",
   "id": "adcfc5d3849141e5",
   "metadata": {},
   "source": [
    "#### Datos con SobreMuestreo"
   ]
  },
  {
   "cell_type": "code",
   "execution_count": 45,
   "id": "f951e07c-b5d0-4546-9277-c9cd7173065b",
   "metadata": {
    "ExecuteTime": {
     "end_time": "2025-01-23T00:24:48.538004Z",
     "start_time": "2025-01-23T00:22:53.150358Z"
    }
   },
   "outputs": [
    {
     "name": "stdout",
     "output_type": "stream",
     "text": [
      "Exactitud de cada fold: [0.89427763 0.8922253  0.91443014 0.91142135 0.93127934]\n",
      "Exactitud promedio: 0.9087267507806711\n"
     ]
    }
   ],
   "source": [
    "# Crear instancia del modelo\n",
    "model = DecisionTreeClassifier()\n",
    "\n",
    "# Realizar validación cruzada\n",
    "scores = cross_val_score(model, X_over, y_over, cv=5)\n",
    "\n",
    "# Imprimir los resultados de la validación cruzada\n",
    "print(\"Exactitud de cada fold:\", scores)\n",
    "print(\"Exactitud promedio:\", np.mean(scores))"
   ]
  },
  {
   "cell_type": "markdown",
   "id": "eaa642ca8bb38aac",
   "metadata": {},
   "source": [
    "Accuracy Train"
   ]
  },
  {
   "cell_type": "code",
   "execution_count": 46,
   "id": "939cd5871700232a",
   "metadata": {
    "ExecuteTime": {
     "end_time": "2025-01-23T00:28:44.282557Z",
     "start_time": "2025-01-23T00:26:49.247455Z"
    }
   },
   "outputs": [],
   "source": [
    "predicted = cross_val_predict(model, X_over, y_over, cv=5)"
   ]
  },
  {
   "cell_type": "code",
   "execution_count": 48,
   "id": "617bfc9844104d3f",
   "metadata": {
    "ExecuteTime": {
     "end_time": "2025-01-23T00:35:01.199900Z",
     "start_time": "2025-01-23T00:35:01.121336Z"
    }
   },
   "outputs": [
    {
     "name": "stdout",
     "output_type": "stream",
     "text": [
      "Model accuracy score with criterion gini index: 0.9093\n"
     ]
    }
   ],
   "source": [
    "print('Model accuracy score with criterion gini index: {0:0.4f}'. format(accuracy_score(y_over, predicted)))"
   ]
  },
  {
   "cell_type": "markdown",
   "id": "4addc8b4a7aa2828",
   "metadata": {},
   "source": [
    "Matriz de Confusion"
   ]
  },
  {
   "cell_type": "code",
   "execution_count": 49,
   "id": "bf502ef5c3ae2a5e",
   "metadata": {
    "ExecuteTime": {
     "end_time": "2025-01-23T00:35:02.817999Z",
     "start_time": "2025-01-23T00:35:02.582614Z"
    }
   },
   "outputs": [
    {
     "name": "stdout",
     "output_type": "stream",
     "text": [
      "Confusion matrix\n",
      "\n",
      " [[27054   245   398]\n",
      " [ 1325 25110  1262]\n",
      " [ 2474  1831 23392]]\n"
     ]
    }
   ],
   "source": [
    "cm = confusion_matrix(y_over, predicted)\n",
    "\n",
    "print('Confusion matrix\\n\\n', cm)"
   ]
  },
  {
   "cell_type": "code",
   "execution_count": 50,
   "id": "4ec44191cdbb6194",
   "metadata": {
    "ExecuteTime": {
     "end_time": "2025-01-23T00:35:04.446853Z",
     "start_time": "2025-01-23T00:35:04.325830Z"
    }
   },
   "outputs": [
    {
     "data": {
      "image/png": "[encoded data removed]",
      "text/plain": [
       "<Figure size 800x600 with 1 Axes>"
      ]
     },
     "metadata": {},
     "output_type": "display_data"
    }
   ],
   "source": [
    "# Crear el gráfico\n",
    "plt.figure(figsize=(8, 6))\n",
    "\n",
    "labels =['negative', 'neutral','positive']\n",
    "\n",
    "sns.heatmap(cm, annot=True, fmt='d', cmap='Blues', cbar=False,xticklabels=labels, yticklabels=labels)\n",
    "\n",
    "# Configurar etiquetas\n",
    "plt.title('Matriz de Confusión', fontsize=16)\n",
    "plt.xlabel('Predicted Labels', fontsize=14)\n",
    "plt.ylabel('True Labels', fontsize=14)\n",
    "plt.xticks(fontsize=12)\n",
    "plt.yticks(fontsize=12)\n",
    "\n",
    "# Mostrar el gráfico\n",
    "plt.show()"
   ]
  },
  {
   "cell_type": "markdown",
   "id": "27fec36f33f05763",
   "metadata": {},
   "source": [
    "Reporte de clasificacion"
   ]
  },
  {
   "cell_type": "code",
   "execution_count": 47,
   "id": "3536c8760ced0b9e",
   "metadata": {
    "ExecuteTime": {
     "end_time": "2025-01-23T00:34:40.582820Z",
     "start_time": "2025-01-23T00:34:37.975295Z"
    }
   },
   "outputs": [
    {
     "name": "stdout",
     "output_type": "stream",
     "text": [
      "              precision    recall  f1-score   support\n",
      "\n",
      "    negative       0.88      0.98      0.92     27697\n",
      "     neutral       0.92      0.91      0.92     27697\n",
      "    positive       0.93      0.84      0.89     27697\n",
      "\n",
      "    accuracy                           0.91     83091\n",
      "   macro avg       0.91      0.91      0.91     83091\n",
      "weighted avg       0.91      0.91      0.91     83091\n",
      "\n"
     ]
    }
   ],
   "source": [
    "print(classification_report(y_over, predicted))"
   ]
  },
  {
   "cell_type": "markdown",
   "id": "8ff0a8df4c798b3e",
   "metadata": {},
   "source": [
    "#### Datos con SubMuestreo"
   ]
  },
  {
   "cell_type": "code",
   "execution_count": 52,
   "id": "284d39506dc72ac0",
   "metadata": {
    "ExecuteTime": {
     "end_time": "2025-01-23T00:38:35.269797Z",
     "start_time": "2025-01-23T00:37:58.118227Z"
    }
   },
   "outputs": [
    {
     "name": "stdout",
     "output_type": "stream",
     "text": [
      "Exactitud de cada fold: [0.76260107 0.75847239 0.76604163 0.7725787  0.76376462]\n",
      "Exactitud promedio: 0.7646916829390991\n"
     ]
    }
   ],
   "source": [
    "# Crear instancia del modelo\n",
    "model = DecisionTreeClassifier()\n",
    "\n",
    "# Realizar validación cruzada\n",
    "scores = cross_val_score(model, X_under, y_under, cv=5)\n",
    "\n",
    "# Imprimir los resultados de la validación cruzada\n",
    "print(\"Exactitud de cada fold:\", scores)\n",
    "print(\"Exactitud promedio:\", np.mean(scores))"
   ]
  },
  {
   "cell_type": "markdown",
   "id": "c698ca16ca2f3542",
   "metadata": {},
   "source": [
    "Accuracy Train"
   ]
  },
  {
   "cell_type": "code",
   "execution_count": 53,
   "id": "7c2f7d8edf5755b4",
   "metadata": {
    "ExecuteTime": {
     "end_time": "2025-01-23T00:39:31.261160Z",
     "start_time": "2025-01-23T00:38:55.089520Z"
    }
   },
   "outputs": [],
   "source": [
    "predicted = cross_val_predict(model, X_under, y_under, cv=5)"
   ]
  },
  {
   "cell_type": "code",
   "execution_count": 55,
   "id": "344b730b6fe8c1b0",
   "metadata": {
    "ExecuteTime": {
     "end_time": "2025-01-23T00:39:42.972212Z",
     "start_time": "2025-01-23T00:39:42.941613Z"
    }
   },
   "outputs": [
    {
     "name": "stdout",
     "output_type": "stream",
     "text": [
      "Model accuracy score with criterion gini index: 0.7645\n"
     ]
    }
   ],
   "source": [
    "print('Model accuracy score with criterion gini index: {0:0.4f}'. format(accuracy_score(y_under, predicted)))"
   ]
  },
  {
   "cell_type": "markdown",
   "id": "fb346f8396259c4b",
   "metadata": {},
   "source": [
    "Matriz de Confusion"
   ]
  },
  {
   "cell_type": "code",
   "execution_count": 57,
   "id": "2c61846b497c7e10",
   "metadata": {
    "ExecuteTime": {
     "end_time": "2025-01-23T00:39:52.084127Z",
     "start_time": "2025-01-23T00:39:52.003352Z"
    }
   },
   "outputs": [
    {
     "name": "stdout",
     "output_type": "stream",
     "text": [
      "Confusion matrix\n",
      "\n",
      " [[6756 1233 1699]\n",
      " [ 957 8321  410]\n",
      " [1719  827 7142]]\n"
     ]
    }
   ],
   "source": [
    "cm = confusion_matrix(y_under, predicted)\n",
    "\n",
    "print('Confusion matrix\\n\\n', cm)"
   ]
  },
  {
   "cell_type": "code",
   "execution_count": 58,
   "id": "a094d95f9e0ac6a0",
   "metadata": {
    "ExecuteTime": {
     "end_time": "2025-01-23T00:39:55.134435Z",
     "start_time": "2025-01-23T00:39:55.008775Z"
    }
   },
   "outputs": [
    {
     "data": {
      "image/png": "[encoded data removed]",
      "text/plain": [
       "<Figure size 800x600 with 1 Axes>"
      ]
     },
     "metadata": {},
     "output_type": "display_data"
    }
   ],
   "source": [
    "# Crear el gráfico\n",
    "plt.figure(figsize=(8, 6))\n",
    "\n",
    "labels =['negative', 'neutral','positive']\n",
    "\n",
    "sns.heatmap(cm, annot=True, fmt='d', cmap='Blues', cbar=False,xticklabels=labels, yticklabels=labels)\n",
    "\n",
    "# Configurar etiquetas\n",
    "plt.title('Matriz de Confusión', fontsize=16)\n",
    "plt.xlabel('Predicted Labels', fontsize=14)\n",
    "plt.ylabel('True Labels', fontsize=14)\n",
    "plt.xticks(fontsize=12)\n",
    "plt.yticks(fontsize=12)\n",
    "\n",
    "# Mostrar el gráfico\n",
    "plt.show()"
   ]
  },
  {
   "cell_type": "markdown",
   "id": "167c7c4f95ce783e",
   "metadata": {},
   "source": [
    "Reporte de Clasificacion"
   ]
  },
  {
   "cell_type": "code",
   "execution_count": 59,
   "id": "25a4a0fd4775b83c",
   "metadata": {
    "ExecuteTime": {
     "end_time": "2025-01-23T00:40:28.943717Z",
     "start_time": "2025-01-23T00:40:28.081413Z"
    }
   },
   "outputs": [
    {
     "name": "stdout",
     "output_type": "stream",
     "text": [
      "              precision    recall  f1-score   support\n",
      "\n",
      "    negative       0.72      0.70      0.71      9688\n",
      "     neutral       0.80      0.86      0.83      9688\n",
      "    positive       0.77      0.74      0.75      9688\n",
      "\n",
      "    accuracy                           0.76     29064\n",
      "   macro avg       0.76      0.76      0.76     29064\n",
      "weighted avg       0.76      0.76      0.76     29064\n",
      "\n"
     ]
    }
   ],
   "source": [
    "print(classification_report(y_under, predicted))"
   ]
  },
  {
   "cell_type": "markdown",
   "id": "b9533c09-f376-445f-aafd-4322b5dff4d8",
   "metadata": {},
   "source": [
    "### RandomForestClassifier"
   ]
  },
  {
   "cell_type": "markdown",
   "id": "3e31769ed974167a",
   "metadata": {},
   "source": [
    "#### Datos Normales"
   ]
  },
  {
   "cell_type": "code",
   "execution_count": 61,
   "id": "58374b118bc918f3",
   "metadata": {
    "ExecuteTime": {
     "end_time": "2025-01-23T01:31:16.379677Z",
     "start_time": "2025-01-23T00:58:30.594726Z"
    }
   },
   "outputs": [
    {
     "name": "stdout",
     "output_type": "stream",
     "text": [
      "Exactitud de cada fold: [0.8550168  0.86205793 0.85365659 0.86044651 0.86052653]\n",
      "Exactitud promedio: 0.8583408701077536\n"
     ]
    }
   ],
   "source": [
    "# Crear instancia del modelo\n",
    "model = RandomForestClassifier()\n",
    "\n",
    "# Realizar validación cruzada\n",
    "scores = cross_val_score(model, X_train, y_train, cv=5)\n",
    "\n",
    "# Imprimir los resultados de la validación cruzada\n",
    "print(\"Exactitud de cada fold:\", scores)\n",
    "print(\"Exactitud promedio:\", np.mean(scores))"
   ]
  },
  {
   "cell_type": "code",
   "execution_count": 63,
   "id": "799c72d508d89e4a",
   "metadata": {
    "ExecuteTime": {
     "end_time": "2025-01-23T01:49:49.766072Z",
     "start_time": "2025-01-23T01:41:15.982070Z"
    }
   },
   "outputs": [
    {
     "data": {
      "text/html": [
       "<style>#sk-container-id-2 {color: black;background-color: white;}#sk-container-id-2 pre{padding: 0;}#sk-container-id-2 div.sk-toggleable {background-color: white;}#sk-container-id-2 label.sk-toggleable__label {cursor: pointer;display: block;width: 100%;margin-bottom: 0;padding: 0.3em;box-sizing: border-box;text-align: center;}#sk-container-id-2 label.sk-toggleable__label-arrow:before {content: \"▸\";float: left;margin-right: 0.25em;color: #696969;}#sk-container-id-2 label.sk-toggleable__label-arrow:hover:before {color: black;}#sk-container-id-2 div.sk-estimator:hover label.sk-toggleable__label-arrow:before {color: black;}#sk-container-id-2 div.sk-toggleable__content {max-height: 0;max-width: 0;overflow: hidden;text-align: left;background-color: #f0f8ff;}#sk-container-id-2 div.sk-toggleable__content pre {margin: 0.2em;color: black;border-radius: 0.25em;background-color: #f0f8ff;}#sk-container-id-2 input.sk-toggleable__control:checked~div.sk-toggleable__content {max-height: 200px;max-width: 100%;overflow: auto;}#sk-container-id-2 input.sk-toggleable__control:checked~label.sk-toggleable__label-arrow:before {content: \"▾\";}#sk-container-id-2 div.sk-estimator input.sk-toggleable__control:checked~label.sk-toggleable__label {background-color: #d4ebff;}#sk-container-id-2 div.sk-label input.sk-toggleable__control:checked~label.sk-toggleable__label {background-color: #d4ebff;}#sk-container-id-2 input.sk-hidden--visually {border: 0;clip: rect(1px 1px 1px 1px);clip: rect(1px, 1px, 1px, 1px);height: 1px;margin: -1px;overflow: hidden;padding: 0;position: absolute;width: 1px;}#sk-container-id-2 div.sk-estimator {font-family: monospace;background-color: #f0f8ff;border: 1px dotted black;border-radius: 0.25em;box-sizing: border-box;margin-bottom: 0.5em;}#sk-container-id-2 div.sk-estimator:hover {background-color: #d4ebff;}#sk-container-id-2 div.sk-parallel-item::after {content: \"\";width: 100%;border-bottom: 1px solid gray;flex-grow: 1;}#sk-container-id-2 div.sk-label:hover label.sk-toggleable__label {background-color: #d4ebff;}#sk-container-id-2 div.sk-serial::before {content: \"\";position: absolute;border-left: 1px solid gray;box-sizing: border-box;top: 0;bottom: 0;left: 50%;z-index: 0;}#sk-container-id-2 div.sk-serial {display: flex;flex-direction: column;align-items: center;background-color: white;padding-right: 0.2em;padding-left: 0.2em;position: relative;}#sk-container-id-2 div.sk-item {position: relative;z-index: 1;}#sk-container-id-2 div.sk-parallel {display: flex;align-items: stretch;justify-content: center;background-color: white;position: relative;}#sk-container-id-2 div.sk-item::before, #sk-container-id-2 div.sk-parallel-item::before {content: \"\";position: absolute;border-left: 1px solid gray;box-sizing: border-box;top: 0;bottom: 0;left: 50%;z-index: -1;}#sk-container-id-2 div.sk-parallel-item {display: flex;flex-direction: column;z-index: 1;position: relative;background-color: white;}#sk-container-id-2 div.sk-parallel-item:first-child::after {align-self: flex-end;width: 50%;}#sk-container-id-2 div.sk-parallel-item:last-child::after {align-self: flex-start;width: 50%;}#sk-container-id-2 div.sk-parallel-item:only-child::after {width: 0;}#sk-container-id-2 div.sk-dashed-wrapped {border: 1px dashed gray;margin: 0 0.4em 0.5em 0.4em;box-sizing: border-box;padding-bottom: 0.4em;background-color: white;}#sk-container-id-2 div.sk-label label {font-family: monospace;font-weight: bold;display: inline-block;line-height: 1.2em;}#sk-container-id-2 div.sk-label-container {text-align: center;}#sk-container-id-2 div.sk-container {/* jupyter's `normalize.less` sets `[hidden] { display: none; }` but bootstrap.min.css set `[hidden] { display: none !important; }` so we also need the `!important` here to be able to override the default hidden behavior on the sphinx rendered scikit-learn.org. See: https://github.com/scikit-learn/scikit-learn/issues/21755 */display: inline-block !important;position: relative;}#sk-container-id-2 div.sk-text-repr-fallback {display: none;}</style><div id=\"sk-container-id-2\" class=\"sk-top-container\"><div class=\"sk-text-repr-fallback\"><pre>RandomForestClassifier()</pre><b>In a Jupyter environment, please rerun this cell to show the HTML representation or trust the notebook. <br />On GitHub, the HTML representation is unable to render, please try loading this page with nbviewer.org.</b></div><div class=\"sk-container\" hidden><div class=\"sk-item\"><div class=\"sk-estimator sk-toggleable\"><input class=\"sk-toggleable__control sk-hidden--visually\" id=\"sk-estimator-id-2\" type=\"checkbox\" checked><label for=\"sk-estimator-id-2\" class=\"sk-toggleable__label sk-toggleable__label-arrow\">RandomForestClassifier</label><div class=\"sk-toggleable__content\"><pre>RandomForestClassifier()</pre></div></div></div></div></div>"
      ],
      "text/plain": [
       "RandomForestClassifier()"
      ]
     },
     "execution_count": 63,
     "metadata": {},
     "output_type": "execute_result"
    }
   ],
   "source": [
    "model.fit(X_train, y_train)"
   ]
  },
  {
   "cell_type": "code",
   "execution_count": 64,
   "id": "8891941d7ff083eb",
   "metadata": {
    "ExecuteTime": {
     "end_time": "2025-01-23T01:51:51.921866Z",
     "start_time": "2025-01-23T01:51:50.632565Z"
    }
   },
   "outputs": [],
   "source": [
    "y_pred = model.predict(X_test)"
   ]
  },
  {
   "cell_type": "markdown",
   "id": "ea7c934fe30b827f",
   "metadata": {},
   "source": [
    "Check de accuracy"
   ]
  },
  {
   "cell_type": "code",
   "execution_count": 65,
   "id": "7c22aac70a205698",
   "metadata": {
    "ExecuteTime": {
     "end_time": "2025-01-23T01:51:53.630039Z",
     "start_time": "2025-01-23T01:51:53.612382Z"
    }
   },
   "outputs": [
    {
     "name": "stdout",
     "output_type": "stream",
     "text": [
      "Model accuracy score with doors variable removed : 0.8605\n"
     ]
    }
   ],
   "source": [
    "print('Model accuracy score with doors variable removed : {0:0.4f}'. format(accuracy_score(y_test, y_pred)))"
   ]
  },
  {
   "cell_type": "markdown",
   "id": "bd1e43cc75b97d11",
   "metadata": {},
   "source": [
    "Matriz de Confusion"
   ]
  },
  {
   "cell_type": "code",
   "execution_count": 66,
   "id": "72ec5b3f391b590a",
   "metadata": {
    "ExecuteTime": {
     "end_time": "2025-01-23T01:51:56.337910Z",
     "start_time": "2025-01-23T01:51:56.291529Z"
    }
   },
   "outputs": [
    {
     "name": "stdout",
     "output_type": "stream",
     "text": [
      "Confusion matrix\n",
      "\n",
      " [[1093  405  955]\n",
      " [   5 6475  356]\n",
      " [  70  389 5874]]\n"
     ]
    }
   ],
   "source": [
    "cm = confusion_matrix(y_test, y_pred)\n",
    "\n",
    "print('Confusion matrix\\n\\n', cm)"
   ]
  },
  {
   "cell_type": "code",
   "execution_count": 67,
   "id": "2717956e2919c058",
   "metadata": {
    "ExecuteTime": {
     "end_time": "2025-01-23T01:51:58.652480Z",
     "start_time": "2025-01-23T01:51:58.296431Z"
    }
   },
   "outputs": [
    {
     "data": {
      "image/png": "[encoded data removed]",
      "text/plain": [
       "<Figure size 800x600 with 1 Axes>"
      ]
     },
     "metadata": {},
     "output_type": "display_data"
    }
   ],
   "source": [
    "# Crear el gráfico\n",
    "plt.figure(figsize=(8, 6))\n",
    "\n",
    "labels =['negative', 'neutral','positive']\n",
    "\n",
    "sns.heatmap(cm, annot=True, fmt='d', cmap='Blues', cbar=False,xticklabels=labels, yticklabels=labels)\n",
    "\n",
    "# Configurar etiquetas\n",
    "plt.title('Matriz de Confusión', fontsize=16)\n",
    "plt.xlabel('Predicted Labels', fontsize=14)\n",
    "plt.ylabel('True Labels', fontsize=14)\n",
    "plt.xticks(fontsize=12)\n",
    "plt.yticks(fontsize=12)\n",
    "\n",
    "# Mostrar el gráfico\n",
    "plt.show()"
   ]
  },
  {
   "cell_type": "markdown",
   "id": "1ce9fecd2a735445",
   "metadata": {},
   "source": [
    "Reporte de Clasificacion"
   ]
  },
  {
   "cell_type": "code",
   "execution_count": 68,
   "id": "bc29baac72f0b88c",
   "metadata": {
    "ExecuteTime": {
     "end_time": "2025-01-23T01:52:03.295728Z",
     "start_time": "2025-01-23T01:52:02.885234Z"
    }
   },
   "outputs": [
    {
     "name": "stdout",
     "output_type": "stream",
     "text": [
      "              precision    recall  f1-score   support\n",
      "\n",
      "    negative       0.94      0.45      0.60      2453\n",
      "     neutral       0.89      0.95      0.92      6836\n",
      "    positive       0.82      0.93      0.87      6333\n",
      "\n",
      "    accuracy                           0.86     15622\n",
      "   macro avg       0.88      0.77      0.80     15622\n",
      "weighted avg       0.87      0.86      0.85     15622\n",
      "\n"
     ]
    }
   ],
   "source": [
    "print(classification_report(y_test, y_pred))"
   ]
  },
  {
   "cell_type": "markdown",
   "id": "8c997ac5-daec-4387-a12a-199cf88d0fc0",
   "metadata": {},
   "source": [
    "#### Datos con sobremuestreo"
   ]
  },
  {
   "cell_type": "code",
   "execution_count": 69,
   "id": "88f2aa61b0bb7f9b",
   "metadata": {
    "ExecuteTime": {
     "end_time": "2025-01-23T02:31:42.197885Z",
     "start_time": "2025-01-23T01:52:19.567317Z"
    }
   },
   "outputs": [
    {
     "name": "stdout",
     "output_type": "stream",
     "text": [
      "Exactitud de cada fold: [0.92983934 0.93164039 0.95191961 0.95306294 0.96190877]\n",
      "Exactitud promedio: 0.9456742106229328\n"
     ]
    }
   ],
   "source": [
    "# Crear instancia del modelo\n",
    "model = RandomForestClassifier()\n",
    "\n",
    "# Realizar validación cruzada\n",
    "scores = cross_val_score(model, X_over, y_over, cv=5)\n",
    "\n",
    "# Imprimir los resultados de la validación cruzada\n",
    "print(\"Exactitud de cada fold:\", scores)\n",
    "print(\"Exactitud promedio:\", np.mean(scores))\n"
   ]
  },
  {
   "cell_type": "code",
   "execution_count": 71,
   "id": "ccf48b2ed0a154e",
   "metadata": {
    "ExecuteTime": {
     "end_time": "2025-01-23T03:14:00.535447Z",
     "start_time": "2025-01-23T02:32:31.107752Z"
    }
   },
   "outputs": [],
   "source": [
    "predicted = cross_val_predict(model, X_over, y_over, cv=5)"
   ]
  },
  {
   "cell_type": "markdown",
   "id": "125284dd156cf42d",
   "metadata": {},
   "source": [
    "Check the accuracy"
   ]
  },
  {
   "cell_type": "code",
   "execution_count": 72,
   "id": "18269765229f5582",
   "metadata": {
    "ExecuteTime": {
     "end_time": "2025-01-23T03:14:11.031210Z",
     "start_time": "2025-01-23T03:14:10.878603Z"
    }
   },
   "outputs": [
    {
     "name": "stdout",
     "output_type": "stream",
     "text": [
      "Model accuracy score with criterion gini index: 0.9453\n"
     ]
    }
   ],
   "source": [
    "print('Model accuracy score with criterion gini index: {0:0.4f}'.format(accuracy_score(y_over, predicted)))"
   ]
  },
  {
   "cell_type": "markdown",
   "id": "bbdc46eb02a395c6",
   "metadata": {},
   "source": [
    "Matriz de Confusion"
   ]
  },
  {
   "cell_type": "code",
   "execution_count": 73,
   "id": "69101da12766ae77",
   "metadata": {
    "ExecuteTime": {
     "end_time": "2025-01-23T03:14:14.152998Z",
     "start_time": "2025-01-23T03:14:13.700946Z"
    }
   },
   "outputs": [
    {
     "name": "stdout",
     "output_type": "stream",
     "text": [
      "Confusion matrix\n",
      "\n",
      " [[26948   217   532]\n",
      " [  240 26031  1426]\n",
      " [  622  1504 25571]]\n"
     ]
    }
   ],
   "source": [
    "cm = confusion_matrix(y_over, predicted)\n",
    "\n",
    "print('Confusion matrix\\n\\n', cm)\n"
   ]
  },
  {
   "cell_type": "code",
   "execution_count": 74,
   "id": "fba2ddf097c5ed0b",
   "metadata": {
    "ExecuteTime": {
     "end_time": "2025-01-23T03:14:16.276700Z",
     "start_time": "2025-01-23T03:14:15.961409Z"
    }
   },
   "outputs": [
    {
     "data": {
      "image/png": "[encoded data removed]",
      "text/plain": [
       "<Figure size 800x600 with 1 Axes>"
      ]
     },
     "metadata": {},
     "output_type": "display_data"
    }
   ],
   "source": [
    "# Crear el gráfico\n",
    "plt.figure(figsize=(8, 6))\n",
    "\n",
    "labels =['negative', 'neutral','positive']\n",
    "\n",
    "sns.heatmap(cm, annot=True, fmt='d', cmap='Blues', cbar=False,xticklabels=labels, yticklabels=labels)\n",
    "\n",
    "# Configurar etiquetas\n",
    "plt.title('Matriz de Confusión', fontsize=16)\n",
    "plt.xlabel('Predicted Labels', fontsize=14)\n",
    "plt.ylabel('True Labels', fontsize=14)\n",
    "plt.xticks(fontsize=12)\n",
    "plt.yticks(fontsize=12)\n",
    "\n",
    "# Mostrar el gráfico\n",
    "plt.show()\n"
   ]
  },
  {
   "cell_type": "markdown",
   "id": "18b04970a448249f",
   "metadata": {},
   "source": [
    "Reporte de Clasificacion"
   ]
  },
  {
   "cell_type": "code",
   "execution_count": 75,
   "id": "8c7a02f270895666",
   "metadata": {
    "ExecuteTime": {
     "end_time": "2025-01-23T03:14:23.247257Z",
     "start_time": "2025-01-23T03:14:19.191260Z"
    }
   },
   "outputs": [
    {
     "name": "stdout",
     "output_type": "stream",
     "text": [
      "              precision    recall  f1-score   support\n",
      "\n",
      "    negative       0.97      0.97      0.97     27697\n",
      "     neutral       0.94      0.94      0.94     27697\n",
      "    positive       0.93      0.92      0.93     27697\n",
      "\n",
      "    accuracy                           0.95     83091\n",
      "   macro avg       0.95      0.95      0.95     83091\n",
      "weighted avg       0.95      0.95      0.95     83091\n",
      "\n"
     ]
    }
   ],
   "source": [
    "print(classification_report(y_over, predicted))"
   ]
  },
  {
   "cell_type": "markdown",
   "id": "699d9165f7dcc8aa",
   "metadata": {},
   "source": [
    "#### Datos con Submuestreo"
   ]
  },
  {
   "cell_type": "code",
   "execution_count": 76,
   "id": "d95f88400fd95a10",
   "metadata": {
    "ExecuteTime": {
     "end_time": "2025-01-23T03:28:47.278481Z",
     "start_time": "2025-01-23T03:14:28.482979Z"
    }
   },
   "outputs": [
    {
     "name": "stdout",
     "output_type": "stream",
     "text": [
      "Exactitud de cada fold: [0.82711165 0.83364872 0.82212283 0.82539136 0.81693049]\n",
      "Exactitud promedio: 0.8250410091343074\n"
     ]
    }
   ],
   "source": [
    "# Crear instancia del modelo\n",
    "model = RandomForestClassifier()\n",
    "\n",
    "# Realizar validación cruzada\n",
    "scores = cross_val_score(model, X_under, y_under, cv=5)\n",
    "\n",
    "# Imprimir los resultados de la validación cruzada\n",
    "print(\"Exactitud de cada fold:\", scores)\n",
    "print(\"Exactitud promedio:\", np.mean(scores))\n"
   ]
  },
  {
   "cell_type": "code",
   "execution_count": 77,
   "id": "d70d2851feca00c4",
   "metadata": {
    "ExecuteTime": {
     "end_time": "2025-01-23T03:42:42.781281Z",
     "start_time": "2025-01-23T03:29:01.162812Z"
    }
   },
   "outputs": [],
   "source": [
    "predicted = cross_val_predict(model, X_under, y_under, cv=5)"
   ]
  },
  {
   "cell_type": "markdown",
   "id": "d980eb5376ffb0c9",
   "metadata": {},
   "source": [
    "Check de accuracy"
   ]
  },
  {
   "cell_type": "code",
   "execution_count": 78,
   "id": "7ac7a7924f45cabe",
   "metadata": {
    "ExecuteTime": {
     "end_time": "2025-01-23T03:42:50.217518Z",
     "start_time": "2025-01-23T03:42:50.189912Z"
    }
   },
   "outputs": [
    {
     "name": "stdout",
     "output_type": "stream",
     "text": [
      "Model accuracy score with criterion gini index: 0.8235\n"
     ]
    }
   ],
   "source": [
    "print('Model accuracy score with criterion gini index: {0:0.4f}'.format(accuracy_score(y_under, predicted)))"
   ]
  },
  {
   "cell_type": "markdown",
   "id": "8103adde30cbde0f",
   "metadata": {},
   "source": [
    "Matriz de Confusion"
   ]
  },
  {
   "cell_type": "code",
   "execution_count": 79,
   "id": "8859624912066f77",
   "metadata": {
    "ExecuteTime": {
     "end_time": "2025-01-23T03:42:52.707188Z",
     "start_time": "2025-01-23T03:42:52.625584Z"
    }
   },
   "outputs": [
    {
     "name": "stdout",
     "output_type": "stream",
     "text": [
      "Confusion matrix\n",
      "\n",
      " [[7382  870 1436]\n",
      " [ 805 8599  284]\n",
      " [1080  656 7952]]\n"
     ]
    }
   ],
   "source": [
    "cm = confusion_matrix(y_under, predicted)\n",
    "\n",
    "print('Confusion matrix\\n\\n', cm)"
   ]
  },
  {
   "cell_type": "code",
   "execution_count": 80,
   "id": "b82942a82720df1a",
   "metadata": {
    "ExecuteTime": {
     "end_time": "2025-01-23T03:42:58.395420Z",
     "start_time": "2025-01-23T03:42:58.266583Z"
    }
   },
   "outputs": [
    {
     "data": {
      "image/png": "[encoded data removed]",
      "text/plain": [
       "<Figure size 800x600 with 1 Axes>"
      ]
     },
     "metadata": {},
     "output_type": "display_data"
    }
   ],
   "source": [
    "# Crear el gráfico\n",
    "plt.figure(figsize=(8, 6))\n",
    "\n",
    "labels =['negative', 'neutral','positive']\n",
    "\n",
    "sns.heatmap(cm, annot=True, fmt='d', cmap='Blues', cbar=False,xticklabels=labels, yticklabels=labels)\n",
    "\n",
    "# Configurar etiquetas\n",
    "plt.title('Matriz de Confusión', fontsize=16)\n",
    "plt.xlabel('Predicted Labels', fontsize=14)\n",
    "plt.ylabel('True Labels', fontsize=14)\n",
    "plt.xticks(fontsize=12)\n",
    "plt.yticks(fontsize=12)\n",
    "\n",
    "# Mostrar el gráfico\n",
    "plt.show()\n"
   ]
  },
  {
   "cell_type": "markdown",
   "id": "b08461a306cc95a8",
   "metadata": {},
   "source": [
    "Reporte de Clasificacion"
   ]
  },
  {
   "cell_type": "code",
   "execution_count": 81,
   "id": "a665165d564f44f6",
   "metadata": {
    "ExecuteTime": {
     "end_time": "2025-01-23T03:43:04.264347Z",
     "start_time": "2025-01-23T03:43:03.533473Z"
    }
   },
   "outputs": [
    {
     "name": "stdout",
     "output_type": "stream",
     "text": [
      "              precision    recall  f1-score   support\n",
      "\n",
      "    negative       0.80      0.76      0.78      9688\n",
      "     neutral       0.85      0.89      0.87      9688\n",
      "    positive       0.82      0.82      0.82      9688\n",
      "\n",
      "    accuracy                           0.82     29064\n",
      "   macro avg       0.82      0.82      0.82     29064\n",
      "weighted avg       0.82      0.82      0.82     29064\n",
      "\n"
     ]
    }
   ],
   "source": [
    "print(classification_report(y_under, predicted))"
   ]
  },
  {
   "cell_type": "markdown",
   "id": "e48a04f67b0e2c21",
   "metadata": {},
   "source": [
    "### SVM"
   ]
  },
  {
   "cell_type": "code",
   "execution_count": 16,
   "id": "28376a1e9ceeac4e",
   "metadata": {
    "ExecuteTime": {
     "end_time": "2025-01-24T06:58:34.729263Z",
     "start_time": "2025-01-24T05:42:20.387052Z"
    }
   },
   "outputs": [
    {
     "name": "stdout",
     "output_type": "stream",
     "text": [
      "Exactitud de cada fold: [0.92054729 0.92486798 0.92238758 0.92150116 0.91870049]\n",
      "Exactitud promedio: 0.9216008993702735\n"
     ]
    }
   ],
   "source": [
    "# Crear instancia del modelo\n",
    "model = SVC()\n",
    "\n",
    "# Realizar validación cruzada\n",
    "scores = cross_val_score(model, X_train, y_train, cv=5)\n",
    "\n",
    "# Imprimir los resultados de la validación cruzada\n",
    "print(\"Exactitud de cada fold:\", scores)\n",
    "print(\"Exactitud promedio:\", np.mean(scores))\n"
   ]
  },
  {
   "cell_type": "code",
   "execution_count": 17,
   "id": "f6845de18030287e",
   "metadata": {
    "ExecuteTime": {
     "end_time": "2025-01-24T07:20:56.800177Z",
     "start_time": "2025-01-24T06:58:34.853476Z"
    }
   },
   "outputs": [
    {
     "data": {
      "text/html": [
       "<style>#sk-container-id-1 {color: black;background-color: white;}#sk-container-id-1 pre{padding: 0;}#sk-container-id-1 div.sk-toggleable {background-color: white;}#sk-container-id-1 label.sk-toggleable__label {cursor: pointer;display: block;width: 100%;margin-bottom: 0;padding: 0.3em;box-sizing: border-box;text-align: center;}#sk-container-id-1 label.sk-toggleable__label-arrow:before {content: \"▸\";float: left;margin-right: 0.25em;color: #696969;}#sk-container-id-1 label.sk-toggleable__label-arrow:hover:before {color: black;}#sk-container-id-1 div.sk-estimator:hover label.sk-toggleable__label-arrow:before {color: black;}#sk-container-id-1 div.sk-toggleable__content {max-height: 0;max-width: 0;overflow: hidden;text-align: left;background-color: #f0f8ff;}#sk-container-id-1 div.sk-toggleable__content pre {margin: 0.2em;color: black;border-radius: 0.25em;background-color: #f0f8ff;}#sk-container-id-1 input.sk-toggleable__control:checked~div.sk-toggleable__content {max-height: 200px;max-width: 100%;overflow: auto;}#sk-container-id-1 input.sk-toggleable__control:checked~label.sk-toggleable__label-arrow:before {content: \"▾\";}#sk-container-id-1 div.sk-estimator input.sk-toggleable__control:checked~label.sk-toggleable__label {background-color: #d4ebff;}#sk-container-id-1 div.sk-label input.sk-toggleable__control:checked~label.sk-toggleable__label {background-color: #d4ebff;}#sk-container-id-1 input.sk-hidden--visually {border: 0;clip: rect(1px 1px 1px 1px);clip: rect(1px, 1px, 1px, 1px);height: 1px;margin: -1px;overflow: hidden;padding: 0;position: absolute;width: 1px;}#sk-container-id-1 div.sk-estimator {font-family: monospace;background-color: #f0f8ff;border: 1px dotted black;border-radius: 0.25em;box-sizing: border-box;margin-bottom: 0.5em;}#sk-container-id-1 div.sk-estimator:hover {background-color: #d4ebff;}#sk-container-id-1 div.sk-parallel-item::after {content: \"\";width: 100%;border-bottom: 1px solid gray;flex-grow: 1;}#sk-container-id-1 div.sk-label:hover label.sk-toggleable__label {background-color: #d4ebff;}#sk-container-id-1 div.sk-serial::before {content: \"\";position: absolute;border-left: 1px solid gray;box-sizing: border-box;top: 0;bottom: 0;left: 50%;z-index: 0;}#sk-container-id-1 div.sk-serial {display: flex;flex-direction: column;align-items: center;background-color: white;padding-right: 0.2em;padding-left: 0.2em;position: relative;}#sk-container-id-1 div.sk-item {position: relative;z-index: 1;}#sk-container-id-1 div.sk-parallel {display: flex;align-items: stretch;justify-content: center;background-color: white;position: relative;}#sk-container-id-1 div.sk-item::before, #sk-container-id-1 div.sk-parallel-item::before {content: \"\";position: absolute;border-left: 1px solid gray;box-sizing: border-box;top: 0;bottom: 0;left: 50%;z-index: -1;}#sk-container-id-1 div.sk-parallel-item {display: flex;flex-direction: column;z-index: 1;position: relative;background-color: white;}#sk-container-id-1 div.sk-parallel-item:first-child::after {align-self: flex-end;width: 50%;}#sk-container-id-1 div.sk-parallel-item:last-child::after {align-self: flex-start;width: 50%;}#sk-container-id-1 div.sk-parallel-item:only-child::after {width: 0;}#sk-container-id-1 div.sk-dashed-wrapped {border: 1px dashed gray;margin: 0 0.4em 0.5em 0.4em;box-sizing: border-box;padding-bottom: 0.4em;background-color: white;}#sk-container-id-1 div.sk-label label {font-family: monospace;font-weight: bold;display: inline-block;line-height: 1.2em;}#sk-container-id-1 div.sk-label-container {text-align: center;}#sk-container-id-1 div.sk-container {/* jupyter's `normalize.less` sets `[hidden] { display: none; }` but bootstrap.min.css set `[hidden] { display: none !important; }` so we also need the `!important` here to be able to override the default hidden behavior on the sphinx rendered scikit-learn.org. See: https://github.com/scikit-learn/scikit-learn/issues/21755 */display: inline-block !important;position: relative;}#sk-container-id-1 div.sk-text-repr-fallback {display: none;}</style><div id=\"sk-container-id-1\" class=\"sk-top-container\"><div class=\"sk-text-repr-fallback\"><pre>SVC()</pre><b>In a Jupyter environment, please rerun this cell to show the HTML representation or trust the notebook. <br />On GitHub, the HTML representation is unable to render, please try loading this page with nbviewer.org.</b></div><div class=\"sk-container\" hidden><div class=\"sk-item\"><div class=\"sk-estimator sk-toggleable\"><input class=\"sk-toggleable__control sk-hidden--visually\" id=\"sk-estimator-id-1\" type=\"checkbox\" checked><label for=\"sk-estimator-id-1\" class=\"sk-toggleable__label sk-toggleable__label-arrow\">SVC</label><div class=\"sk-toggleable__content\"><pre>SVC()</pre></div></div></div></div></div>"
      ],
      "text/plain": [
       "SVC()"
      ]
     },
     "execution_count": 17,
     "metadata": {},
     "output_type": "execute_result"
    }
   ],
   "source": [
    "model.fit(X_train, y_train)"
   ]
  },
  {
   "cell_type": "code",
   "execution_count": 18,
   "id": "f91825479abc895f",
   "metadata": {
    "ExecuteTime": {
     "end_time": "2025-01-24T07:21:58.559673Z",
     "start_time": "2025-01-24T07:20:56.880283Z"
    }
   },
   "outputs": [],
   "source": [
    "y_pred = model.predict(X_test)"
   ]
  },
  {
   "cell_type": "markdown",
   "id": "a7e257d3956b85d5",
   "metadata": {},
   "source": [
    "Check the accuracy"
   ]
  },
  {
   "cell_type": "code",
   "execution_count": 19,
   "id": "42c37629b1181345",
   "metadata": {
    "ExecuteTime": {
     "end_time": "2025-01-24T07:21:58.646432Z",
     "start_time": "2025-01-24T07:21:58.628531Z"
    }
   },
   "outputs": [
    {
     "name": "stdout",
     "output_type": "stream",
     "text": [
      "Model accuracy score with doors variable removed : 0.9263\n"
     ]
    }
   ],
   "source": [
    "print('Model accuracy score with doors variable removed : {0:0.4f}'.format(accuracy_score(y_test, y_pred)))"
   ]
  },
  {
   "cell_type": "markdown",
   "id": "3eecca2b000a2518",
   "metadata": {},
   "source": [
    "Matriz de Confusion"
   ]
  },
  {
   "cell_type": "code",
   "execution_count": 20,
   "id": "d945b13c428d55ec",
   "metadata": {
    "ExecuteTime": {
     "end_time": "2025-01-24T07:21:58.755033Z",
     "start_time": "2025-01-24T07:21:58.711082Z"
    }
   },
   "outputs": [
    {
     "name": "stdout",
     "output_type": "stream",
     "text": [
      "Confusion matrix\n",
      "\n",
      " [[1766  230  457]\n",
      " [   6 6811   19]\n",
      " [ 175  265 5893]]\n"
     ]
    }
   ],
   "source": [
    "cm = confusion_matrix(y_test, y_pred)\n",
    "\n",
    "print('Confusion matrix\\n\\n', cm)"
   ]
  },
  {
   "cell_type": "code",
   "execution_count": 21,
   "id": "27a1c82a8c751193",
   "metadata": {
    "ExecuteTime": {
     "end_time": "2025-01-24T07:21:58.949841Z",
     "start_time": "2025-01-24T07:21:58.819226Z"
    }
   },
   "outputs": [
    {
     "data": {
      "image/png": "[encoded data removed]",
      "text/plain": [
       "<Figure size 800x600 with 1 Axes>"
      ]
     },
     "metadata": {},
     "output_type": "display_data"
    }
   ],
   "source": [
    "# Crear el gráfico\n",
    "plt.figure(figsize=(8, 6))\n",
    "\n",
    "labels = ['negative', 'neutral', 'positive']\n",
    "\n",
    "sns.heatmap(cm, annot=True, fmt='d', cmap='Blues', cbar=False, xticklabels=labels, yticklabels=labels)\n",
    "\n",
    "# Configurar etiquetas\n",
    "plt.title('Matriz de Confusión', fontsize=16)\n",
    "plt.xlabel('Predicted Labels', fontsize=14)\n",
    "plt.ylabel('True Labels', fontsize=14)\n",
    "plt.xticks(fontsize=12)\n",
    "plt.yticks(fontsize=12)\n",
    "\n",
    "# Mostrar el gráfico\n",
    "plt.show()"
   ]
  },
  {
   "cell_type": "markdown",
   "id": "801e005cbe384c67",
   "metadata": {},
   "source": [
    "Reporte de Clasificacion"
   ]
  },
  {
   "cell_type": "code",
   "execution_count": 22,
   "id": "c0ebc8d06cd00e15",
   "metadata": {
    "ExecuteTime": {
     "end_time": "2025-01-24T07:21:59.390540Z",
     "start_time": "2025-01-24T07:21:59.006843Z"
    }
   },
   "outputs": [
    {
     "name": "stdout",
     "output_type": "stream",
     "text": [
      "              precision    recall  f1-score   support\n",
      "\n",
      "    negative       0.91      0.72      0.80      2453\n",
      "     neutral       0.93      1.00      0.96      6836\n",
      "    positive       0.93      0.93      0.93      6333\n",
      "\n",
      "    accuracy                           0.93     15622\n",
      "   macro avg       0.92      0.88      0.90     15622\n",
      "weighted avg       0.93      0.93      0.92     15622\n",
      "\n"
     ]
    }
   ],
   "source": [
    "print(classification_report(y_test, y_pred))"
   ]
  },
  {
   "cell_type": "markdown",
   "id": "2295ae25240ccb2f",
   "metadata": {},
   "source": [
    "#### Datos con sobremuestreo"
   ]
  },
  {
   "cell_type": "code",
   "execution_count": 23,
   "id": "99f4bacba117b49a",
   "metadata": {
    "ExecuteTime": {
     "end_time": "2025-01-24T09:25:41.863982Z",
     "start_time": "2025-01-24T07:21:59.447819Z"
    }
   },
   "outputs": [
    {
     "name": "stdout",
     "output_type": "stream",
     "text": [
      "Exactitud de cada fold: [0.9570973  0.95757612 0.9687688  0.96702371 0.97580936]\n",
      "Exactitud promedio: 0.9652550596064715\n"
     ]
    }
   ],
   "source": [
    "# Crear instancia del modelo\n",
    "model = SVC()\n",
    "\n",
    "# Realizar validación cruzada\n",
    "scores = cross_val_score(model, X_over, y_over, cv=5)\n",
    "\n",
    "# Imprimir los resultados de la validación cruzada\n",
    "print(\"Exactitud de cada fold:\", scores)\n",
    "print(\"Exactitud promedio:\", np.mean(scores))"
   ]
  },
  {
   "cell_type": "code",
   "execution_count": 24,
   "id": "85ae3c54f8e9c309",
   "metadata": {
    "ExecuteTime": {
     "end_time": "2025-01-24T11:29:36.126294Z",
     "start_time": "2025-01-24T09:25:41.937425Z"
    }
   },
   "outputs": [],
   "source": [
    "predicted = cross_val_predict(model, X_over, y_over, cv=5)"
   ]
  },
  {
   "cell_type": "markdown",
   "id": "97681cc6595002e1",
   "metadata": {},
   "source": [
    "Check the accuracy"
   ]
  },
  {
   "cell_type": "code",
   "execution_count": 25,
   "id": "18f59d85b6159794",
   "metadata": {
    "ExecuteTime": {
     "end_time": "2025-01-24T11:29:36.265048Z",
     "start_time": "2025-01-24T11:29:36.194316Z"
    }
   },
   "outputs": [
    {
     "name": "stdout",
     "output_type": "stream",
     "text": [
      "Model accuracy score with criterion gini index: 0.9653\n"
     ]
    }
   ],
   "source": [
    "print('Model accuracy score with criterion gini index: {0:0.4f}'.format(accuracy_score(y_over, predicted)))"
   ]
  },
  {
   "cell_type": "markdown",
   "id": "75cfeefadbd5234d",
   "metadata": {},
   "source": [
    "Matriz de Confusion"
   ]
  },
  {
   "cell_type": "code",
   "execution_count": 26,
   "id": "4aeeac22004fffb0",
   "metadata": {
    "ExecuteTime": {
     "end_time": "2025-01-24T11:29:36.579844Z",
     "start_time": "2025-01-24T11:29:36.333010Z"
    }
   },
   "outputs": [
    {
     "name": "stdout",
     "output_type": "stream",
     "text": [
      "Confusion matrix\n",
      "\n",
      " [[27020   196   481]\n",
      " [   87 27524    86]\n",
      " [ 1112   925 25660]]\n"
     ]
    }
   ],
   "source": [
    "cm = confusion_matrix(y_over, predicted)\n",
    "\n",
    "print('Confusion matrix\\n\\n', cm)"
   ]
  },
  {
   "cell_type": "code",
   "execution_count": 27,
   "id": "dcfbb1a86213289c",
   "metadata": {
    "ExecuteTime": {
     "end_time": "2025-01-24T11:29:36.713476Z",
     "start_time": "2025-01-24T11:29:36.588258Z"
    }
   },
   "outputs": [
    {
     "data": {
      "image/png": "[encoded data removed]",
      "text/plain": [
       "<Figure size 800x600 with 1 Axes>"
      ]
     },
     "metadata": {},
     "output_type": "display_data"
    }
   ],
   "source": [
    "# Crear el gráfico\n",
    "plt.figure(figsize=(8, 6))\n",
    "\n",
    "labels = ['negative', 'neutral', 'positive']\n",
    "\n",
    "sns.heatmap(cm, annot=True, fmt='d', cmap='Blues', cbar=False, xticklabels=labels, yticklabels=labels)\n",
    "\n",
    "# Configurar etiquetas\n",
    "plt.title('Matriz de Confusión', fontsize=16)\n",
    "plt.xlabel('Predicted Labels', fontsize=14)\n",
    "plt.ylabel('True Labels', fontsize=14)\n",
    "plt.xticks(fontsize=12)\n",
    "plt.yticks(fontsize=12)\n",
    "\n",
    "# Mostrar el gráfico\n",
    "plt.show()"
   ]
  },
  {
   "cell_type": "markdown",
   "id": "82cebafa809d47c3",
   "metadata": {},
   "source": [
    "Reporte de clasificacion"
   ]
  },
  {
   "cell_type": "code",
   "execution_count": 29,
   "id": "51fbdc292917db8c",
   "metadata": {
    "ExecuteTime": {
     "end_time": "2025-01-24T11:40:34.353018Z",
     "start_time": "2025-01-24T11:40:30.894536Z"
    }
   },
   "outputs": [
    {
     "name": "stdout",
     "output_type": "stream",
     "text": [
      "              precision    recall  f1-score   support\n",
      "\n",
      "    negative       0.96      0.98      0.97     27697\n",
      "     neutral       0.96      0.99      0.98     27697\n",
      "    positive       0.98      0.93      0.95     27697\n",
      "\n",
      "    accuracy                           0.97     83091\n",
      "   macro avg       0.97      0.97      0.97     83091\n",
      "weighted avg       0.97      0.97      0.97     83091\n",
      "\n"
     ]
    }
   ],
   "source": [
    "print(classification_report(y_over, predicted))"
   ]
  },
  {
   "cell_type": "markdown",
   "id": "5e6fd0f001717849",
   "metadata": {},
   "source": [
    "#### Datos con Submuestreo"
   ]
  },
  {
   "cell_type": "code",
   "execution_count": 30,
   "id": "dfb2a8a6dbfd08a0",
   "metadata": {
    "ExecuteTime": {
     "end_time": "2025-01-24T11:52:37.801141Z",
     "start_time": "2025-01-24T11:40:46.103975Z"
    }
   },
   "outputs": [
    {
     "name": "stdout",
     "output_type": "stream",
     "text": [
      "Exactitud de cada fold: [0.88284879 0.88147256 0.8835369  0.88611732 0.87422574]\n",
      "Exactitud promedio: 0.8816402623684791\n"
     ]
    }
   ],
   "source": [
    "# Crear instancia del modelo\n",
    "model = SVC()\n",
    "\n",
    "# Realizar validación cruzada\n",
    "scores = cross_val_score(model, X_under, y_under, cv=5)\n",
    "\n",
    "# Imprimir los resultados de la validación cruzada\n",
    "print(\"Exactitud de cada fold:\", scores)\n",
    "print(\"Exactitud promedio:\", np.mean(scores))\n"
   ]
  },
  {
   "cell_type": "code",
   "execution_count": 31,
   "id": "f7ef05ace4384637",
   "metadata": {
    "ExecuteTime": {
     "end_time": "2025-01-24T12:04:20.476565Z",
     "start_time": "2025-01-24T11:52:37.870266Z"
    }
   },
   "outputs": [],
   "source": [
    "predicted = cross_val_predict(model, X_under, y_under, cv=5)\n"
   ]
  },
  {
   "cell_type": "markdown",
   "id": "7243d0ea9200cb0a",
   "metadata": {},
   "source": [
    "Check the accuracy"
   ]
  },
  {
   "cell_type": "code",
   "execution_count": 32,
   "id": "72cd564a7b30e19",
   "metadata": {
    "ExecuteTime": {
     "end_time": "2025-01-24T12:04:20.570929Z",
     "start_time": "2025-01-24T12:04:20.544863Z"
    }
   },
   "outputs": [
    {
     "name": "stdout",
     "output_type": "stream",
     "text": [
      "Model accuracy score with criterion gini index: 0.8816\n"
     ]
    }
   ],
   "source": [
    "print('Model accuracy score with criterion gini index: {0:0.4f}'.format(accuracy_score(y_under, predicted)))"
   ]
  },
  {
   "cell_type": "markdown",
   "id": "5f730e6b366a6111",
   "metadata": {},
   "source": [
    "Matriz de Confusion"
   ]
  },
  {
   "cell_type": "code",
   "execution_count": 33,
   "id": "918c3a90db40f606",
   "metadata": {
    "ExecuteTime": {
     "end_time": "2025-01-24T12:04:20.713157Z",
     "start_time": "2025-01-24T12:04:20.633759Z"
    }
   },
   "outputs": [
    {
     "name": "stdout",
     "output_type": "stream",
     "text": [
      "Confusion matrix\n",
      "\n",
      " [[8088  750  850]\n",
      " [ 249 9389   50]\n",
      " [ 918  623 8147]]\n"
     ]
    }
   ],
   "source": [
    "cm = confusion_matrix(y_under, predicted)\n",
    "\n",
    "print('Confusion matrix\\n\\n', cm)"
   ]
  },
  {
   "cell_type": "code",
   "execution_count": 34,
   "id": "e54be4d849d718b1",
   "metadata": {
    "ExecuteTime": {
     "end_time": "2025-01-24T12:04:20.847862Z",
     "start_time": "2025-01-24T12:04:20.719695Z"
    }
   },
   "outputs": [
    {
     "data": {
      "image/png": "[encoded data removed]",
      "text/plain": [
       "<Figure size 800x600 with 1 Axes>"
      ]
     },
     "metadata": {},
     "output_type": "display_data"
    }
   ],
   "source": [
    "# Crear el gráfico\n",
    "plt.figure(figsize=(8, 6))\n",
    "\n",
    "labels = ['negative', 'neutral', 'positive']\n",
    "\n",
    "sns.heatmap(cm, annot=True, fmt='d', cmap='Blues', cbar=False, xticklabels=labels, yticklabels=labels)\n",
    "\n",
    "# Configurar etiquetas\n",
    "plt.title('Matriz de Confusión', fontsize=16)\n",
    "plt.xlabel('Predicted Labels', fontsize=14)\n",
    "plt.ylabel('True Labels', fontsize=14)\n",
    "plt.xticks(fontsize=12)\n",
    "plt.yticks(fontsize=12)\n",
    "\n",
    "# Mostrar el gráfico\n",
    "plt.show()"
   ]
  },
  {
   "cell_type": "markdown",
   "id": "cb28ba5a084961f5",
   "metadata": {},
   "source": [
    "Reporte de clasificacion"
   ]
  },
  {
   "cell_type": "code",
   "execution_count": 36,
   "id": "6a909f0d55ab151e",
   "metadata": {
    "ExecuteTime": {
     "end_time": "2025-01-24T12:14:18.072353Z",
     "start_time": "2025-01-24T12:14:17.213993Z"
    }
   },
   "outputs": [
    {
     "name": "stdout",
     "output_type": "stream",
     "text": [
      "              precision    recall  f1-score   support\n",
      "\n",
      "    negative       0.87      0.83      0.85      9688\n",
      "     neutral       0.87      0.97      0.92      9688\n",
      "    positive       0.90      0.84      0.87      9688\n",
      "\n",
      "    accuracy                           0.88     29064\n",
      "   macro avg       0.88      0.88      0.88     29064\n",
      "weighted avg       0.88      0.88      0.88     29064\n",
      "\n"
     ]
    }
   ],
   "source": [
    "print(classification_report(y_under, predicted))"
   ]
  },
  {
   "cell_type": "markdown",
   "id": "42a47c52f88b7a18",
   "metadata": {},
   "source": [
    "## Conclusiones y Recomendaciones"
   ]
  },
  {
   "cell_type": "markdown",
   "id": "b3964b9a9622c54",
   "metadata": {},
   "source": [
    "### Conclusiones\n",
    "1. El modelo SVM es el más consistente y preciso en todos los escenarios, demostrando ser la mejor opción para este conjunto de datos.\n",
    "\n",
    "2. El sobremuestreo mejora el desempeño de los modelos significativamente, siendo una estrategia clave para abordar desequilibrios en los datos.\n",
    "\n",
    "3. El submuestreo, aunque mejora algunos resultados, no es tan efectivo como el sobremuestreo."
   ]
  },
  {
   "cell_type": "markdown",
   "id": "192592ec2d44e37e",
   "metadata": {},
   "source": [
    "### Recomendaciones\n",
    " 1. Dado que el sobremuestreo mostró un impacto positivo en los modelos de machine learning, considera aplicarlo en futuros análisis de sentimientos, especialmente si identificas un desbalance significativo entre las opiniones positivas, negativas y neutrales. Esto garantizará que el modelo capture mejor las características de las clases minoritarias.\n",
    "\n",
    "2. El modelo SVM ha demostrado ser consistente y eficaz en tus resultados. Por ello, es recomendable priorizarlo en futuros análisis de este tipo, especialmente cuando trabajes con conjuntos de datos similares, ya que puede capturar patrones más complejos relacionados con el tono y las emociones en los comentarios.\n",
    "\n",
    "3. Para enriquecer futuros análisis de sentimientos, incluye más variables como el tiempo de visualización del video, las palabras clave en los comentarios, o el tipo de reacción de los usuarios (me gusta, dislikes, etc.). Estas variables pueden ayudarte a tener una visión más completa de la percepción del público sobre el lanzamiento.\n"
   ]
  }
 ],
 "metadata": {
  "kernelspec": {
   "display_name": "Python 3 (ipykernel)",
   "language": "python",
   "name": "python3"
  },
  "language_info": {
   "codemirror_mode": {
    "name": "ipython",
    "version": 3
   },
   "file_extension": ".py",
   "mimetype": "text/x-python",
   "name": "python",
   "nbconvert_exporter": "python",
   "pygments_lexer": "ipython3",
   "version": "3.11.7"
  }
 },
 "nbformat": 4,
 "nbformat_minor": 5
}
