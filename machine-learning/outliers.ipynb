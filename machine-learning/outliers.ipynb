{
 "cells": [
  {
   "metadata": {},
   "cell_type": "markdown",
   "source": "# Z Score Method",
   "id": "815efd73827bd172"
  },
  {
   "cell_type": "code",
   "execution_count": null,
   "id": "initial_id",
   "metadata": {
    "collapsed": true
   },
   "outputs": [],
   "source": [
    "# Z Score Method\n",
    "\n",
    "#define the limits\n",
    "upper_limit = df['FWI'].mean() + 3*df['FWI'].std()\n",
    "lower_limit = df['FWI'].mean() - 3*df['FWI'].std()\n",
    "\n",
    "print(\"------------Limits--------------\")\n",
    "print(upper_limit)\n",
    "print(lower_limit)\n",
    "\n",
    "#find the outliers\n",
    "df.loc[(df['FWI'] > upper_limit) | (df['FWI'] < lower_limit)]\n"
   ]
  },
  {
   "metadata": {},
   "cell_type": "markdown",
   "source": "# IQR Method",
   "id": "3f1a12fc035daec"
  },
  {
   "metadata": {},
   "cell_type": "code",
   "outputs": [],
   "execution_count": null,
   "source": [
    "# IQR Method\n",
    "\n",
    "q1 = df['FWI'].quantile(0.25)\n",
    "q3 = df['FWI'].quantile(0.75)\n",
    "iqr = q3 - q1\n"
   ],
   "id": "a343704c6dd9b5f8"
  },
  {
   "metadata": {},
   "cell_type": "code",
   "outputs": [],
   "execution_count": null,
   "source": "q1, q3, iqr\n",
   "id": "b042608103c4eb12"
  },
  {
   "metadata": {},
   "cell_type": "markdown",
   "source": "# Options (Tramming or Capping)",
   "id": "4b4802eb1b3d39cd"
  },
  {
   "metadata": {},
   "cell_type": "code",
   "outputs": [],
   "execution_count": null,
   "source": [
    "#<-----------Before execute this code you need to choose Zscore or IQR ----------------->\n",
    "# triming - delete the outlier data\n",
    "new_df = df.loc[(df['FWI'] < upper_limit) & (df['FWI'] > lower_limit)]\n",
    "print('before removing outliers', len(df))\n",
    "print('after removing outliers',len(new_df))\n",
    "print('outliers', len(df)- len(new_df))"
   ],
   "id": "5451bd9ba8dd417c"
  },
  {
   "metadata": {},
   "cell_type": "code",
   "outputs": [],
   "execution_count": null,
   "source": [
    "# capping - change the outlier values to upper ( or) lower limit values\n",
    "new_df = df.copy()\n",
    "new_df.loc[(new_df['FWI'] > upper_limit),\"FWI\"] = upper_limit\n",
    "new_df.loc[(new_df['FWI'] < lower_limit),\"FWI\"] = lower_limit"
   ],
   "id": "a0d1c2728155025c"
  },
  {
   "metadata": {},
   "cell_type": "code",
   "outputs": [],
   "execution_count": null,
   "source": "sns.boxplot(new_df['FWI'])",
   "id": "cb5a66b59f6ad683"
  }
 ],
 "metadata": {
  "kernelspec": {
   "display_name": "Python 3",
   "language": "python",
   "name": "python3"
  },
  "language_info": {
   "codemirror_mode": {
    "name": "ipython",
    "version": 2
   },
   "file_extension": ".py",
   "mimetype": "text/x-python",
   "name": "python",
   "nbconvert_exporter": "python",
   "pygments_lexer": "ipython2",
   "version": "2.7.6"
  }
 },
 "nbformat": 4,
 "nbformat_minor": 5
}
