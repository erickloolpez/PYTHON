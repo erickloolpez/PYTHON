{
 "cells": [
  {
   "cell_type": "markdown",
   "metadata": {},
   "source": [
    "# Re-ranking semántico\n",
    "\n",
    "La **búsqueda por palabras clave**, comúnmente utilizada en motores de búsqueda, prioriza la similitud de palabras entre la consulta del usuario y los documentos disponibles, pero suele ignorar la **semántica** de las palabras. Por ejemplo, no distinguiría entre \"banco\" como institución financiera y \"banco\" como asiento, ya que no comprende las diferencias contextuales y semánticas entre palabras. Por el contrario, la búsqueda semántica sí entiende estas diferencias, brindando resultados más precisos y relevantes.\n",
    "\n",
    "Migrar completamente a sistemas de búsqueda semántica puede ser un reto para muchas empresas debido a la profunda integración de los sistemas basados en palabras clave. Una solución es **re-rankear** los resultados de la búsqueda por palabras clave usando un modelo de búsqueda semántica basado en **word embeddings**.\n",
    "\n",
    "**Cohere Rerank** ofrece una solución de re-ranking semántico fácil de integrar en sistemas existentes, necesitando solo unas pocas líneas de código, permitiendo así una transición suave hacia métodos de búsqueda más avanzados y precisos.\n",
    "\n",
    "Para obtener más información sobre `Cohere Rerank` y cómo puede beneficiar a tu sistema de búsqueda, te invito a visitar su [blog](https://txt.cohere.com/rerank/).\n"
   ]
  },
  {
   "cell_type": "markdown",
   "metadata": {},
   "source": [
    "> Al integrar la precisión contextual de la búsqueda semántica con la eficacia de la búsqueda por palabras clave, podemos superar las limitaciones inherentes de cada método, logrando así resultados de búsqueda más relevantes, precisos y ricos en contexto."
   ]
  },
  {
   "cell_type": "markdown",
   "metadata": {},
   "source": [
    "## Librerías"
   ]
  },
  {
   "cell_type": "code",
   "execution_count": 1,
   "metadata": {},
   "outputs": [
    {
     "data": {
      "text/plain": [
       "True"
      ]
     },
     "execution_count": 1,
     "metadata": {},
     "output_type": "execute_result"
    }
   ],
   "source": [
    "import cohere\n",
    "from dotenv import load_dotenv\n",
    "from langchain.retrievers import BM25Retriever\n",
    "from langchain.schema import Document\n",
    "\n",
    "from src.langchain_docs_loader import load_langchain_docs_splitted\n",
    "\n",
    "load_dotenv()"
   ]
  },
  {
   "cell_type": "markdown",
   "metadata": {},
   "source": [
    "## Carga de datos"
   ]
  },
  {
   "cell_type": "code",
   "execution_count": 2,
   "metadata": {},
   "outputs": [],
   "source": [
    "docs = load_langchain_docs_splitted()"
   ]
  },
  {
   "cell_type": "markdown",
   "metadata": {},
   "source": [
    "## Creación de herramienta de búsqueda por palabras clave\n",
    "\n",
    "BM25 es una función de ranking avanzada usada para clasificar documentos en sistemas de recuperación de información, basándose en su relevancia respecto a una consulta de búsqueda. A diferencia de la búsqueda por palabras clave básica, que solo considera la presencia o ausencia de palabras, BM25 calcula un score de relevancia para cada documento, teniendo en cuenta la frecuencia de aparición del término y su rareza en la colección de documentos."
   ]
  },
  {
   "cell_type": "code",
   "execution_count": 3,
   "metadata": {},
   "outputs": [],
   "source": [
    "keywordk_retriever = BM25Retriever.from_documents(docs)\n",
    "\n",
    "\n",
    "def keyword_document_search(query: str, k: int) -> list[Document]:\n",
    "    keywordk_retriever.k = k\n",
    "    return keywordk_retriever.get_relevant_documents(query)"
   ]
  },
  {
   "cell_type": "markdown",
   "metadata": {},
   "source": [
    "## Búsqueda de documentos relevantes por palabras clave"
   ]
  },
  {
   "cell_type": "code",
   "execution_count": 4,
   "metadata": {},
   "outputs": [
    {
     "name": "stdout",
     "output_type": "stream",
     "text": [
      "Keyword search results:\n",
      "1. https://python.langchain.com/docs/integrations/memory/remembrall\n",
      "2. https://python.langchain.com/docs/expression_language/\n",
      "3. https://python.langchain.com/docs/modules/memory/adding_memory\n",
      "4. https://python.langchain.com/docs/expression_language/cookbook/\n",
      "5. https://python.langchain.com/docs/modules/memory/\n",
      "6. https://python.langchain.com/docs/additional_resources/tutorials\n",
      "7. https://python.langchain.com/docs/additional_resources/tutorials\n",
      "8. https://python.langchain.com/docs/use_cases/question_answering/how_to/code/twitter-the-algorithm-analysis-deeplake\n",
      "9. https://python.langchain.com/docs/integrations/memory/motorhead_memory\n",
      "10. https://python.langchain.com/docs/use_cases/question_answering/how_to/chat_vector_db\n",
      "11. https://python.langchain.com/docs/guides/deployments/template_repos\n",
      "12. https://python.langchain.com/docs/integrations/vectorstores/elasticsearch\n",
      "13. https://python.langchain.com/docs/use_cases/question_answering/how_to/flare\n",
      "14. https://python.langchain.com/docs/modules/memory/adding_memory\n",
      "15. https://python.langchain.com/docs/integrations/providers/myscale\n",
      "16. https://python.langchain.com/docs/guides/langsmith/\n",
      "17. https://python.langchain.com/docs/use_cases/question_answering/how_to/multi_retrieval_qa_router\n",
      "18. https://python.langchain.com/docs/use_cases/question_answering/how_to/code/\n",
      "19. https://python.langchain.com/docs/integrations/document_loaders/reddit\n",
      "20. https://python.langchain.com/docs/use_cases/more/agents/agent_simulations/multi_player_dnd\n",
      "21. https://python.langchain.com/docs/modules/agents/agent_types/chat_conversation_agent\n",
      "22. https://python.langchain.com/docs/expression_language/cookbook/tools\n",
      "23. https://python.langchain.com/docs/integrations/vectorstores/neo4jvector\n",
      "24. https://python.langchain.com/docs/integrations/document_loaders/dropbox\n",
      "25. https://python.langchain.com/docs/integrations/providers/arangodb\n",
      "26. https://python.langchain.com/docs/additional_resources/youtube\n",
      "27. https://python.langchain.com/docs/use_cases/more/agents/agent_simulations/characters\n",
      "28. https://python.langchain.com/docs/use_cases/more/agents/agent_simulations/characters\n",
      "29. https://python.langchain.com/docs/integrations/chat/fireworks\n",
      "30. https://python.langchain.com/docs/use_cases/question_answering/how_to/vector_db_qa\n",
      "31. https://python.langchain.com/docs/integrations/vectorstores/timescalevector\n",
      "32. https://python.langchain.com/docs/integrations/chat/promptlayer_chatopenai\n",
      "33. https://python.langchain.com/docs/modules/memory/types/buffer\n",
      "34. https://python.langchain.com/docs/integrations/document_loaders/ifixit\n",
      "35. https://python.langchain.com/docs/integrations/document_loaders/ifixit\n",
      "36. https://python.langchain.com/docs/integrations/tools/metaphor_search\n",
      "37. https://python.langchain.com/docs/integrations/vectorstores/elasticsearch\n",
      "38. https://python.langchain.com/docs/use_cases/question_answering/how_to/flare\n",
      "39. https://python.langchain.com/docs/integrations/tools\n",
      "40. https://python.langchain.com/docs/integrations/chat/fireworks\n",
      "41. https://python.langchain.com/docs/integrations/document_loaders/rss\n",
      "42. https://python.langchain.com/docs/integrations/retrievers/docarray_retriever\n",
      "43. https://python.langchain.com/docs/integrations/retrievers/elastic_search_bm25\n",
      "44. https://python.langchain.com/docs/integrations/tools/dataforseo\n",
      "45. https://python.langchain.com/docs/integrations/tools\n",
      "46. https://python.langchain.com/docs/integrations/llms/fireworks\n",
      "47. https://python.langchain.com/docs/integrations/callbacks/promptlayer\n",
      "48. https://python.langchain.com/docs/use_cases/question_answering/how_to/conversational_retrieval_agents\n",
      "49. https://python.langchain.com/docs/integrations/document_loaders/sitemap\n",
      "50. https://python.langchain.com/docs/modules/data_connection/retrievers/self_query/supabase_self_query\n",
      "51. https://python.langchain.com/docs/modules/data_connection/\n",
      "52. https://python.langchain.com/docs/modules/model_io/prompts/prompt_templates/prompts_pipelining\n",
      "53. https://python.langchain.com/docs/integrations/vectorstores/marqo\n",
      "54. https://python.langchain.com/docs/guides/privacy/presidio_data_anonymization/reversible\n",
      "55. https://python.langchain.com/docs/guides/deployments/\n",
      "56. https://python.langchain.com/docs/use_cases/question_answering/how_to/local_retrieval_qa\n",
      "57. https://python.langchain.com/docs/integrations/document_loaders/hugging_face_dataset\n",
      "58. https://python.langchain.com/docs/integrations/memory\n",
      "59. https://python.langchain.com/docs/integrations/providers/neo4j\n",
      "60. https://python.langchain.com/docs/modules/data_connection/retrievers/web_research\n",
      "61. https://python.langchain.com/docs/modules/data_connection/retrievers/self_query/myscale_self_query\n",
      "62. https://python.langchain.com/docs/modules/data_connection/retrievers/self_query/myscale_self_query\n",
      "63. https://python.langchain.com/docs/integrations/text_embedding/sagemaker-endpoint\n",
      "64. https://python.langchain.com/docs/modules/data_connection/retrievers/self_query/timescalevector_self_query\n",
      "65. https://python.langchain.com/docs/use_cases/more/agents/agent_simulations/camel_role_playing\n",
      "66. https://python.langchain.com/docs/use_cases/more/agents/agents/camel_role_playing\n",
      "67. https://python.langchain.com/docs/integrations/providers/yeagerai\n",
      "68. https://python.langchain.com/docs/integrations/providers/langchain_decorators\n",
      "69. https://python.langchain.com/docs/modules/data_connection/document_transformers/\n",
      "70. https://python.langchain.com/docs/integrations/callbacks/streamlit\n",
      "71. https://python.langchain.com/docs/integrations/llms/\n",
      "72. https://python.langchain.com/docs/use_cases/chatbots\n",
      "73. https://python.langchain.com/docs/integrations/providers/gpt4all\n",
      "74. https://python.langchain.com/docs/use_cases/more/agents/agent_simulations/characters\n",
      "75. https://python.langchain.com/docs/integrations/llms/replicate\n",
      "76. https://python.langchain.com/docs/integrations/providers/weaviate\n",
      "77. https://python.langchain.com/docs/integrations/toolkits/office365\n",
      "78. https://python.langchain.com/docs/integrations/document_loaders/ifixit\n",
      "79. https://python.langchain.com/docs/modules/memory/types/vectorstore_retriever_memory\n",
      "80. https://python.langchain.com/docs/integrations/document_loaders\n",
      "81. https://python.langchain.com/docs/integrations/llms/octoai\n",
      "82. https://python.langchain.com/docs/integrations/vectorstores/supabase\n",
      "83. https://python.langchain.com/docs/integrations/document_loaders/ifixit\n",
      "84. https://python.langchain.com/docs/modules/agents/how_to/sharedmemory_for_tools\n",
      "85. https://python.langchain.com/docs/use_cases/extraction\n",
      "86. https://python.langchain.com/docs/modules/agents/how_to/add_memory_openai_functions\n",
      "87. https://python.langchain.com/docs/integrations/toolkits/gmail\n",
      "88. https://python.langchain.com/docs/modules/data_connection/retrievers/self_query/timescalevector_self_query\n",
      "89. https://python.langchain.com/docs/integrations/vectorstores\n",
      "90. https://python.langchain.com/docs/integrations/tools/searchapi\n",
      "91. https://python.langchain.com/docs/modules/data_connection/document_loaders/markdown\n",
      "92. https://python.langchain.com/docs/use_cases/question_answering/how_to/local_retrieval_qa\n",
      "93. https://python.langchain.com/docs/guides/safety/moderation\n",
      "94. https://python.langchain.com/docs/integrations/llms/\n",
      "95. https://python.langchain.com/docs/integrations/providers/searchapi\n",
      "96. https://python.langchain.com/docs/integrations/document_loaders/blackboard\n",
      "97. https://python.langchain.com/docs/integrations/retrievers\n",
      "98. https://python.langchain.com/docs/modules/data_connection/retrievers/contextual_compression/\n",
      "99. https://python.langchain.com/docs/integrations/providers/motherduck\n",
      "100. https://python.langchain.com/docs/modules/data_connection/document_transformers/text_splitters/split_by_token\n"
     ]
    }
   ],
   "source": [
    "relevant_keyword_documents = keyword_document_search(\n",
    "    query=\"How to integrate LCEL into my Retrieval augmented generation system with a keyword search retriever?\",\n",
    "    k=100,\n",
    ")\n",
    "\n",
    "print(\"Keyword search results:\")\n",
    "for i, document in enumerate(relevant_keyword_documents):\n",
    "    print(f\"{i+1}. {document.metadata['source']}\")"
   ]
  },
  {
   "cell_type": "markdown",
   "metadata": {},
   "source": [
    "## Re-ranking semántico de los documentos relevantes\n",
    "\n",
    "Una vez que hemos obtenido los documentos más relevantes para nuestra consulta de búsqueda, podemos re-rankearlos usando un modelo de búsqueda semántica basado en **word embeddings**.\n",
    "\n",
    "En este caso, utilizaremos `Cohere Rerank` para obtener los documentos más relevantes para nuestra consulta de búsqueda, re-rankeando los documentos obtenidos por BM25.\n",
    "\n",
    "Para que `Cohere Rerank` funcione, necesitarás una cuenta de `Cohere` y un `API key`. Puedes obtener tu `API key` [aquí](https://dashboard.cohere.com/api-keys)."
   ]
  },
  {
   "cell_type": "code",
   "execution_count": 5,
   "metadata": {},
   "outputs": [],
   "source": [
    "co = cohere.Client()"
   ]
  },
  {
   "cell_type": "code",
   "execution_count": 6,
   "metadata": {},
   "outputs": [
    {
     "name": "stdout",
     "output_type": "stream",
     "text": [
      "Reranked results:\n",
      "https://python.langchain.com/docs/expression_language/cookbook/\n",
      "https://python.langchain.com/docs/use_cases/question_answering/how_to/flare\n",
      "https://python.langchain.com/docs/use_cases/question_answering/how_to/chat_vector_db\n",
      "https://python.langchain.com/docs/modules/data_connection/\n",
      "https://python.langchain.com/docs/modules/agents/agent_types/chat_conversation_agent\n",
      "https://python.langchain.com/docs/integrations/vectorstores/neo4jvector\n",
      "https://python.langchain.com/docs/use_cases/question_answering/how_to/multi_retrieval_qa_router\n",
      "https://python.langchain.com/docs/integrations/memory/remembrall\n",
      "https://python.langchain.com/docs/integrations/retrievers\n",
      "https://python.langchain.com/docs/modules/data_connection/retrievers/web_research\n"
     ]
    }
   ],
   "source": [
    "reranked_hits = co.rerank(\n",
    "    query=\"How to integrate LCEL into my Retrieval augmented generation system with a keyword search retriever?\",\n",
    "    documents=[doc.page_content for doc in relevant_keyword_documents],\n",
    "    top_n=10,\n",
    "    model=\"rerank-multilingual-v2.0\",\n",
    ")\n",
    "\n",
    "print(\"Reranked results:\")\n",
    "for hit in reranked_hits:\n",
    "    print(relevant_keyword_documents[hit.index].metadata[\"source\"])"
   ]
  }
 ],
 "metadata": {
  "kernelspec": {
   "display_name": ".venv",
   "language": "python",
   "name": "python3"
  },
  "language_info": {
   "codemirror_mode": {
    "name": "ipython",
    "version": 3
   },
   "file_extension": ".py",
   "mimetype": "text/x-python",
   "name": "python",
   "nbconvert_exporter": "python",
   "pygments_lexer": "ipython3",
   "version": "3.11.2"
  },
  "orig_nbformat": 4
 },
 "nbformat": 4,
 "nbformat_minor": 2
}
