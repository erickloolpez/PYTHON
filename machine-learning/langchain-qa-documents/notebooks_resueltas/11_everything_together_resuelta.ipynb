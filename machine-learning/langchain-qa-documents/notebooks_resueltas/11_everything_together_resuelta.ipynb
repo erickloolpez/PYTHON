{
 "cells": [
  {
   "cell_type": "markdown",
   "metadata": {},
   "source": [
    "# Conceptos aprendidos\n",
    "\n",
    "![Conceptos aprendidos](../diagrams/slide_diagrama_06.png)"
   ]
  },
  {
   "cell_type": "markdown",
   "metadata": {},
   "source": [
    "## Librerías"
   ]
  },
  {
   "cell_type": "code",
   "execution_count": 1,
   "metadata": {},
   "outputs": [
    {
     "data": {
      "text/plain": [
       "True"
      ]
     },
     "execution_count": 1,
     "metadata": {},
     "output_type": "execute_result"
    }
   ],
   "source": [
    "from functools import partial\n",
    "from operator import itemgetter\n",
    "from typing import Sequence\n",
    "\n",
    "from dotenv import load_dotenv\n",
    "from langchain.base_language import BaseLanguageModel\n",
    "from langchain.chat_models import ChatOpenAI\n",
    "from langchain.document_transformers import LongContextReorder\n",
    "from langchain.embeddings import OpenAIEmbeddings\n",
    "from langchain.indexes import SQLRecordManager, index\n",
    "from langchain.prompts import ChatPromptTemplate, MessagesPlaceholder, PromptTemplate\n",
    "from langchain.retrievers import BM25Retriever, EnsembleRetriever\n",
    "from langchain.schema import BaseRetriever, Document, StrOutputParser\n",
    "from langchain.schema.messages import BaseMessageChunk\n",
    "from langchain.schema.runnable import Runnable, RunnableMap\n",
    "from langchain.text_splitter import RecursiveCharacterTextSplitter\n",
    "from langchain.vectorstores import Chroma\n",
    "\n",
    "from src.langchain_docs_loader import LangchainDocsLoader, num_tokens_from_string\n",
    "\n",
    "load_dotenv()"
   ]
  },
  {
   "cell_type": "markdown",
   "metadata": {},
   "source": [
    "## Procesamiento de datos"
   ]
  },
  {
   "cell_type": "code",
   "execution_count": 2,
   "metadata": {},
   "outputs": [],
   "source": [
    "text_splitter = RecursiveCharacterTextSplitter(\n",
    "    chunk_size=800,\n",
    "    chunk_overlap=50,\n",
    "    length_function=num_tokens_from_string,\n",
    ")"
   ]
  },
  {
   "cell_type": "code",
   "execution_count": 3,
   "metadata": {},
   "outputs": [
    {
     "data": {
      "text/plain": [
       "2867"
      ]
     },
     "execution_count": 3,
     "metadata": {},
     "output_type": "execute_result"
    }
   ],
   "source": [
    "keyword_docs = LangchainDocsLoader(\n",
    "    include_output_cells=True,\n",
    "    include_links_in_header=True,\n",
    ").load()\n",
    "\n",
    "splitted_docs = text_splitter.split_documents(keyword_docs)\n",
    "\n",
    "filtered_docs = [\n",
    "    doc\n",
    "    for doc in splitted_docs\n",
    "    if doc.page_content not in (\"```\", \"```text\", \"```python\")\n",
    "]\n",
    "\n",
    "len(filtered_docs)"
   ]
  },
  {
   "cell_type": "markdown",
   "metadata": {},
   "source": [
    "## Indexación"
   ]
  },
  {
   "cell_type": "markdown",
   "metadata": {},
   "source": [
    "### Almacenaje de documento en Vectorstore"
   ]
  },
  {
   "cell_type": "code",
   "execution_count": 4,
   "metadata": {},
   "outputs": [
    {
     "name": "stderr",
     "output_type": "stream",
     "text": [
      "Retrying langchain.embeddings.openai.embed_with_retry.<locals>._embed_with_retry in 4.0 seconds as it raised RateLimitError: Rate limit reached for default-text-embedding-ada-002 in organization org-vwqjdaXGZeEg6mWAVSflJXD9 on tokens per min. Limit: 1000000 / min. Current: 788782 / min. Contact us through our help center at help.openai.com if you continue to have issues..\n",
      "Retrying langchain.embeddings.openai.embed_with_retry.<locals>._embed_with_retry in 4.0 seconds as it raised RateLimitError: Rate limit reached for default-text-embedding-ada-002 in organization org-vwqjdaXGZeEg6mWAVSflJXD9 on tokens per min. Limit: 1000000 / min. Current: 712780 / min. Contact us through our help center at help.openai.com if you continue to have issues..\n",
      "Retrying langchain.embeddings.openai.embed_with_retry.<locals>._embed_with_retry in 4.0 seconds as it raised RateLimitError: Rate limit reached for default-text-embedding-ada-002 in organization org-vwqjdaXGZeEg6mWAVSflJXD9 on tokens per min. Limit: 1000000 / min. Current: 631346 / min. Contact us through our help center at help.openai.com if you continue to have issues..\n",
      "Retrying langchain.embeddings.openai.embed_with_retry.<locals>._embed_with_retry in 8.0 seconds as it raised RateLimitError: Rate limit reached for default-text-embedding-ada-002 in organization org-vwqjdaXGZeEg6mWAVSflJXD9 on tokens per min. Limit: 1000000 / min. Current: 554121 / min. Contact us through our help center at help.openai.com if you continue to have issues..\n"
     ]
    }
   ],
   "source": [
    "record_manager = SQLRecordManager(\n",
    "    db_url=\"sqlite:///:memory:\",\n",
    "    namespace=\"langchain\",\n",
    ")\n",
    "\n",
    "record_manager.create_schema()\n",
    "\n",
    "embeddings = OpenAIEmbeddings()\n",
    "\n",
    "vectorstore = Chroma(collection_name=\"langchain\", embedding_function=embeddings)\n",
    "\n",
    "indexing_result = index(\n",
    "    docs_source=filtered_docs,\n",
    "    record_manager=record_manager,\n",
    "    vector_store=vectorstore,\n",
    "    batch_size=1000,\n",
    "    cleanup=\"full\",\n",
    "    source_id_key=\"source\",\n",
    ")"
   ]
  },
  {
   "cell_type": "code",
   "execution_count": 5,
   "metadata": {},
   "outputs": [
    {
     "data": {
      "text/plain": [
       "{'num_added': 2851, 'num_updated': 0, 'num_skipped': 0, 'num_deleted': 0}"
      ]
     },
     "execution_count": 5,
     "metadata": {},
     "output_type": "execute_result"
    }
   ],
   "source": [
    "indexing_result"
   ]
  },
  {
   "cell_type": "markdown",
   "metadata": {},
   "source": [
    "### Obtención de los documentos almacenados"
   ]
  },
  {
   "cell_type": "markdown",
   "metadata": {},
   "source": [
    "Si nuestra base de documentos inicial contenía documentos duplicados, éstos se han eliminado en el proceso de indexación. Por lo tanto, el número de documentos almacenados en Vectorstore podría ser menor que el número de documentos de la base inicial.\n",
    "\n",
    "Al obtener los documentos almacenados en Vectorstore podemos tener una copia fidedigna de la base de datos inicial, pero sin duplicados. Esta copia puede ser utlizada para crear un nuevo índice o inicializar un retriever."
   ]
  },
  {
   "cell_type": "code",
   "execution_count": 6,
   "metadata": {},
   "outputs": [],
   "source": [
    "vector_keys = vectorstore.get(\n",
    "    ids=record_manager.list_keys(), include=[\"documents\", \"metadatas\"]\n",
    ")\n",
    "\n",
    "docs_in_vectorstore = [\n",
    "    Document(page_content=page_content, metadata=metadata)\n",
    "    for page_content, metadata in zip(\n",
    "        vector_keys[\"documents\"], vector_keys[\"metadatas\"]\n",
    "    )\n",
    "]"
   ]
  },
  {
   "cell_type": "markdown",
   "metadata": {},
   "source": [
    "## Inicialización de retrievers"
   ]
  },
  {
   "cell_type": "code",
   "execution_count": 7,
   "metadata": {},
   "outputs": [],
   "source": [
    "keyword_retriever = BM25Retriever.from_documents(docs_in_vectorstore)\n",
    "keyword_retriever.k = 5\n",
    "\n",
    "semantic_retriever = vectorstore.as_retriever(\n",
    "    search_type=\"mmr\",\n",
    "    search_kwargs={\n",
    "        \"k\": 5,\n",
    "        \"fetch_k\": 50,\n",
    "        \"lambda_mult\": 0.3,\n",
    "    },\n",
    ")\n",
    "\n",
    "retriever = EnsembleRetriever(\n",
    "    retrievers=[keyword_retriever, semantic_retriever],\n",
    "    weights=[0.3, 0.7],\n",
    ")"
   ]
  },
  {
   "cell_type": "markdown",
   "metadata": {},
   "source": [
    "## Creación de RAG"
   ]
  },
  {
   "cell_type": "markdown",
   "metadata": {},
   "source": [
    "### Prompts"
   ]
  },
  {
   "cell_type": "code",
   "execution_count": 8,
   "metadata": {},
   "outputs": [],
   "source": [
    "CONDENSE_QUESTION_TEMPLATE = \"\"\"\\\n",
    "Given the following conversation and a follow up question, rephrase the follow up \\\n",
    "question to be a standalone question.\n",
    "\n",
    "Chat History:\n",
    "====================\n",
    "{chat_history}\n",
    "====================\n",
    "\n",
    "Follow Up Input: {question}\n",
    "Standalone Question:\"\"\"\n",
    "\n",
    "SYSTEM_ANSWER_QUESTION_TEMPLATE = \"\"\"\\\n",
    "You are an expert programmer and problem-solver, tasked with answering any question \\\n",
    "about 'Langchain' with high quality answers and without making anything up.\n",
    "\n",
    "Generate a comprehensive and informative answer of 80 words or less for the \\\n",
    "given question based solely on the provided search results (URL and content). You must \\\n",
    "only use information from the provided search results. Use an unbiased and \\\n",
    "journalistic tone. Combine search results together into a coherent answer. Do not \\\n",
    "repeat text. Cite search results using [${{number}}] notation. Only cite the most \\\n",
    "relevant results that answer the question accurately. Place these citations at the end \\\n",
    "of the sentence or paragraph that reference them - do not put them all at the end. If \\\n",
    "different results refer to different entities within the same name, write separate \\\n",
    "answers for each entity.\n",
    "\n",
    "If there is nothing in the context relevant to the question at hand, just say \"Hmm, \\\n",
    "I'm not sure.\". Don't try to make up an answer. This is not a suggestion. This is a rule.\n",
    "\n",
    "Anything between the following `context` html blocks is retrieved from a knowledge \\\n",
    "bank, not part of the conversation with the user.\n",
    "\n",
    "<context>\n",
    "    {context}\n",
    "</context>\n",
    "\n",
    "REMBEMBER: If there is no relevant information within the context, just say \"Hmm, \\\n",
    "I'm not sure.\". Don't try to make up an answer. This is not a suggestion. This is a rule. \\\n",
    "Anything between the preceding 'context' html blocks is retrieved from a knowledge bank, \\\n",
    "not part of the conversation with the user.\n",
    "\n",
    "Take a deep breath and relax. You are an expert programmer and problem-solver. You can do this.\n",
    "You can cite all the relevant information from the search results. Let's go!\"\"\""
   ]
  },
  {
   "cell_type": "markdown",
   "metadata": {},
   "source": [
    "### Creación de cadena de retrieval"
   ]
  },
  {
   "cell_type": "code",
   "execution_count": 9,
   "metadata": {},
   "outputs": [],
   "source": [
    "def create_retriever_chain(\n",
    "    llm: BaseLanguageModel[BaseMessageChunk],\n",
    "    retriever: BaseRetriever,\n",
    "    use_chat_history: bool,\n",
    "):\n",
    "    CONDENSE_QUESTION_PROMPT = PromptTemplate.from_template(CONDENSE_QUESTION_TEMPLATE)\n",
    "    if not use_chat_history:\n",
    "        initial_chain = (itemgetter(\"question\")) | retriever\n",
    "        return initial_chain\n",
    "    else:\n",
    "        condense_question_chain = (\n",
    "            {\n",
    "                \"question\": itemgetter(\"question\"),\n",
    "                \"chat_history\": itemgetter(\"chat_history\"),\n",
    "            }\n",
    "            | CONDENSE_QUESTION_PROMPT\n",
    "            | llm\n",
    "            | StrOutputParser()\n",
    "        )\n",
    "        conversation_chain = condense_question_chain | retriever\n",
    "        return conversation_chain"
   ]
  },
  {
   "cell_type": "markdown",
   "metadata": {},
   "source": [
    "### Truncado de documentos recuperados a un número de documentos"
   ]
  },
  {
   "cell_type": "code",
   "execution_count": 10,
   "metadata": {},
   "outputs": [],
   "source": [
    "def get_k_or_less_documents(documents: list[Document], k: int):\n",
    "    if len(documents) <= k:\n",
    "        return documents\n",
    "    else:\n",
    "        return documents[:k]"
   ]
  },
  {
   "cell_type": "markdown",
   "metadata": {},
   "source": [
    "### Reordenado de documentos recuperados"
   ]
  },
  {
   "cell_type": "code",
   "execution_count": 11,
   "metadata": {},
   "outputs": [],
   "source": [
    "def reorder_documents(documents: list[Document]):\n",
    "    reorder = LongContextReorder()\n",
    "    return reorder.transform_documents(documents)"
   ]
  },
  {
   "cell_type": "markdown",
   "metadata": {},
   "source": [
    "###  Formateo de documentos recuperados"
   ]
  },
  {
   "cell_type": "code",
   "execution_count": 12,
   "metadata": {},
   "outputs": [],
   "source": [
    "def format_docs(docs: Sequence[Document]) -> str:\n",
    "    formatted_docs: list[str] = []\n",
    "    for i, doc in enumerate(docs):\n",
    "        doc_string = f\"<doc id='{i}'>{doc.page_content}</doc>\"\n",
    "        formatted_docs.append(doc_string)\n",
    "    return \"\\n\".join(formatted_docs)"
   ]
  },
  {
   "cell_type": "markdown",
   "metadata": {},
   "source": [
    "### Creación de cadena de respuesta"
   ]
  },
  {
   "cell_type": "code",
   "execution_count": 13,
   "metadata": {},
   "outputs": [],
   "source": [
    "def create_answer_chain(\n",
    "    llm: BaseLanguageModel[BaseMessageChunk],\n",
    "    retriever: BaseRetriever,\n",
    "    use_chat_history: bool,\n",
    "    k: int = 5,\n",
    ") -> Runnable:\n",
    "    retriever_chain = create_retriever_chain(llm, retriever, use_chat_history)\n",
    "\n",
    "    _get_k_or_less_documents = partial(get_k_or_less_documents, k=k)\n",
    "\n",
    "    context = RunnableMap(\n",
    "        {\n",
    "            \"context\": (\n",
    "                retriever_chain\n",
    "                | _get_k_or_less_documents\n",
    "                | reorder_documents\n",
    "                | format_docs\n",
    "            ),\n",
    "            \"question\": itemgetter(\"question\"),\n",
    "            \"chat_history\": itemgetter(\"chat_history\"),\n",
    "        }\n",
    "    )\n",
    "\n",
    "    prompt = ChatPromptTemplate.from_messages(\n",
    "        messages=[\n",
    "            (\"system\", SYSTEM_ANSWER_QUESTION_TEMPLATE),\n",
    "            MessagesPlaceholder(variable_name=\"chat_history\"),\n",
    "            (\"human\", \"{question}\"),\n",
    "        ]\n",
    "    )\n",
    "\n",
    "    response_synthesizer = prompt | llm | StrOutputParser()\n",
    "    response_chain = context | response_synthesizer\n",
    "\n",
    "    return response_chain"
   ]
  },
  {
   "cell_type": "markdown",
   "metadata": {},
   "source": [
    "## Interacción con el usuario"
   ]
  },
  {
   "cell_type": "markdown",
   "metadata": {},
   "source": [
    "### Inicialización del chatbot"
   ]
  },
  {
   "cell_type": "code",
   "execution_count": 14,
   "metadata": {},
   "outputs": [],
   "source": [
    "llm = ChatOpenAI(model=\"gpt-3.5-turbo-16k\", temperature=0.0)\n",
    "\n",
    "answer_chain = create_answer_chain(\n",
    "    llm=llm, retriever=retriever, use_chat_history=False, k=6\n",
    ")"
   ]
  },
  {
   "cell_type": "markdown",
   "metadata": {},
   "source": [
    "### Ejemplo 1"
   ]
  },
  {
   "cell_type": "code",
   "execution_count": 15,
   "metadata": {},
   "outputs": [],
   "source": [
    "question = \"How to use .stream method in my chain with code example?\""
   ]
  },
  {
   "cell_type": "code",
   "execution_count": 16,
   "metadata": {},
   "outputs": [
    {
     "name": "stdout",
     "output_type": "stream",
     "text": [
      "To use the `.stream` method in your chain, you can follow these steps:\n",
      "\n",
      "1. Import the necessary classes:\n",
      "```python\n",
      "from langchain.prompts import ChatPromptTemplate\n",
      "from langchain.chat_models import ChatOpenAI\n",
      "```\n",
      "\n",
      "2. Create an instance of the chat model:\n",
      "```python\n",
      "model = ChatOpenAI()\n",
      "```\n",
      "\n",
      "3. Define a prompt template using the `ChatPromptTemplate` class:\n",
      "```python\n",
      "prompt = ChatPromptTemplate.from_template(\"tell me a joke about {topic}\")\n",
      "```\n",
      "\n",
      "4. Combine the prompt and model into a chain:\n",
      "```python\n",
      "chain = prompt | model\n",
      "```\n",
      "\n",
      "5. Use the `.stream` method to iterate over the streamed response:\n",
      "```python\n",
      "for s in chain.stream({\"topic\": \"bears\"}):\n",
      "    print(s.content, end=\"\", flush=True)\n",
      "```\n",
      "\n",
      "This will stream back chunks of the response, allowing you to process the output as it becomes available. In the example above, it will print a bear-themed joke.\n",
      "\n",
      "Please note that this is just a basic example, and you can customize the prompt and model according to your specific use case.\n"
     ]
    }
   ],
   "source": [
    "print(\n",
    "    answer_chain.invoke(  # type: ignore\n",
    "        {\n",
    "            \"question\": question,\n",
    "            \"chat_history\": [],\n",
    "        }\n",
    "    )\n",
    ")"
   ]
  },
  {
   "cell_type": "code",
   "execution_count": 17,
   "metadata": {},
   "outputs": [
    {
     "name": "stdout",
     "output_type": "stream",
     "text": [
      "1. https://python.langchain.com/docs/modules/memory/adding_memory: This notebook goes over how to use the Memory class with an LLMChain.\n",
      "2. https://python.langchain.com/docs/integrations/providers/langchain_decorators: lanchchain decorators is a layer on the top of LangChain that provides syntactic sugar 🍭 for writing custom langchain prompts and chains\n",
      "3. https://python.langchain.com/docs/use_cases/question_answering/how_to/code/twitter-the-algorithm-analysis-deeplake: In this tutorial, we are going to use Langchain + Activeloop's Deep Lake with GPT4 to analyze the code base of the twitter algorithm.\n",
      "4. https://python.langchain.com/docs/integrations/memory/motorhead_memory: Motörhead is a memory server implemented in Rust. It automatically handles incremental summarization in the background and allows for stateless applications.\n",
      "5. https://python.langchain.com/docs/guides/safety/moderation: This notebook walks through examples of how to use a moderation chain, and several common ways for doing so. Moderation chains are useful for detecting text that could be hateful, violent, etc. This can be useful to apply on both user input, but also on the output of a Language Model. Some API providers, like OpenAI, specifically prohibit you, or your end users, from generating some types of harmful content. To comply with this (and to just generally prevent your application from being harmful) you may often want to append a moderation chain to any LLMChains, in order to make sure any output the LLM generates is not harmful.\n"
     ]
    }
   ],
   "source": [
    "keyword_docs = keyword_retriever.get_relevant_documents(\n",
    "    query=question,\n",
    ")\n",
    "\n",
    "for i, doc in enumerate(keyword_docs, start=1):\n",
    "    print(f\"{i}. {doc.metadata['source']}: {doc.metadata.get('description', '')}\")"
   ]
  },
  {
   "cell_type": "code",
   "execution_count": 18,
   "metadata": {},
   "outputs": [
    {
     "name": "stdout",
     "output_type": "stream",
     "text": [
      "1. https://python.langchain.com/docs/expression_language/interface: In an effort to make it as easy as possible to create custom chains, we've implemented a \"Runnable\" protocol that most components implement. This is a standard interface with a few different methods, which makes it easy to define custom chains as well as making it possible to invoke them in a standard way. The standard interface exposed includes:\n",
      "2. https://python.langchain.com/docs/use_cases/apis: Open In Collab\n",
      "3. https://python.langchain.com/docs/modules/callbacks/: Head to Integrations for documentation on built-in callbacks integrations with 3rd-party tools.\n",
      "4. https://python.langchain.com/docs/guides/deployments/template_repos: So, you've created a really cool chain - now what? How do you deploy it and make it easily shareable with the world?\n",
      "5. https://python.langchain.com/docs/modules/chains/document/map_reduce: The map reduce documents chain first applies an LLM chain to each document individually (the Map step), treating the chain output as a new document. It then passes all the new documents to a separate combine documents chain to get a single output (the Reduce step). It can optionally first compress, or collapse, the mapped documents to make sure that they fit in the combine documents chain (which will often pass them to an LLM). This compression step is performed recursively if necessary.\n"
     ]
    }
   ],
   "source": [
    "semantic_docs = semantic_retriever.get_relevant_documents(\n",
    "    query=question,\n",
    ")\n",
    "\n",
    "for i, doc in enumerate(semantic_docs, start=1):\n",
    "    print(f\"{i}. {doc.metadata['source']}: {doc.metadata.get('description', '')}\")"
   ]
  },
  {
   "cell_type": "code",
   "execution_count": 19,
   "metadata": {},
   "outputs": [
    {
     "name": "stdout",
     "output_type": "stream",
     "text": [
      "1. https://python.langchain.com/docs/expression_language/interface: In an effort to make it as easy as possible to create custom chains, we've implemented a \"Runnable\" protocol that most components implement. This is a standard interface with a few different methods, which makes it easy to define custom chains as well as making it possible to invoke them in a standard way. The standard interface exposed includes:\n",
      "2. https://python.langchain.com/docs/use_cases/apis: Open In Collab\n",
      "3. https://python.langchain.com/docs/modules/callbacks/: Head to Integrations for documentation on built-in callbacks integrations with 3rd-party tools.\n",
      "4. https://python.langchain.com/docs/guides/deployments/template_repos: So, you've created a really cool chain - now what? How do you deploy it and make it easily shareable with the world?\n",
      "5. https://python.langchain.com/docs/modules/chains/document/map_reduce: The map reduce documents chain first applies an LLM chain to each document individually (the Map step), treating the chain output as a new document. It then passes all the new documents to a separate combine documents chain to get a single output (the Reduce step). It can optionally first compress, or collapse, the mapped documents to make sure that they fit in the combine documents chain (which will often pass them to an LLM). This compression step is performed recursively if necessary.\n",
      "6. https://python.langchain.com/docs/modules/memory/adding_memory: This notebook goes over how to use the Memory class with an LLMChain.\n",
      "7. https://python.langchain.com/docs/integrations/providers/langchain_decorators: lanchchain decorators is a layer on the top of LangChain that provides syntactic sugar 🍭 for writing custom langchain prompts and chains\n",
      "8. https://python.langchain.com/docs/use_cases/question_answering/how_to/code/twitter-the-algorithm-analysis-deeplake: In this tutorial, we are going to use Langchain + Activeloop's Deep Lake with GPT4 to analyze the code base of the twitter algorithm.\n",
      "9. https://python.langchain.com/docs/integrations/memory/motorhead_memory: Motörhead is a memory server implemented in Rust. It automatically handles incremental summarization in the background and allows for stateless applications.\n",
      "10. https://python.langchain.com/docs/guides/safety/moderation: This notebook walks through examples of how to use a moderation chain, and several common ways for doing so. Moderation chains are useful for detecting text that could be hateful, violent, etc. This can be useful to apply on both user input, but also on the output of a Language Model. Some API providers, like OpenAI, specifically prohibit you, or your end users, from generating some types of harmful content. To comply with this (and to just generally prevent your application from being harmful) you may often want to append a moderation chain to any LLMChains, in order to make sure any output the LLM generates is not harmful.\n"
     ]
    }
   ],
   "source": [
    "ensemble_docs = retriever.get_relevant_documents(\n",
    "    query=question,\n",
    ")\n",
    "\n",
    "for i, doc in enumerate(ensemble_docs, start=1):\n",
    "    print(f\"{i}. {doc.metadata['source']}: {doc.metadata.get('description', '')}\")"
   ]
  },
  {
   "cell_type": "markdown",
   "metadata": {},
   "source": [
    "### Ejemplo 2"
   ]
  },
  {
   "cell_type": "code",
   "execution_count": 20,
   "metadata": {},
   "outputs": [],
   "source": [
    "question = \"How to use .batch method in my chain with code example?\""
   ]
  },
  {
   "cell_type": "code",
   "execution_count": 21,
   "metadata": {},
   "outputs": [
    {
     "name": "stdout",
     "output_type": "stream",
     "text": [
      "To use the `.batch` method in your chain, you can follow the code example below:\n",
      "\n",
      "```python\n",
      "results = agent_executor.batch([{\"input\": x} for x in inputs], return_exceptions=True)\n",
      "```\n",
      "\n",
      "In this example, `agent_executor` is the instance of your chain, and `inputs` is a list of input questions or queries that you want to pass to the chain. The `.batch` method allows you to process multiple inputs in parallel, which can be more efficient than processing them one by one. The `return_exceptions=True` parameter ensures that any exceptions raised during the processing of inputs are returned instead of raising an error.\n",
      "\n",
      "Please note that this code example assumes you have already set up your chain and have the necessary inputs ready.\n"
     ]
    }
   ],
   "source": [
    "print(\n",
    "    answer_chain.invoke(  # type: ignore\n",
    "        {\n",
    "            \"question\": question,\n",
    "            \"chat_history\": [],\n",
    "        }\n",
    "    )\n",
    ")"
   ]
  },
  {
   "cell_type": "code",
   "execution_count": 22,
   "metadata": {},
   "outputs": [
    {
     "name": "stdout",
     "output_type": "stream",
     "text": [
      "1. https://python.langchain.com/docs/modules/memory/adding_memory: This notebook goes over how to use the Memory class with an LLMChain.\n",
      "2. https://python.langchain.com/docs/integrations/providers/langchain_decorators: lanchchain decorators is a layer on the top of LangChain that provides syntactic sugar 🍭 for writing custom langchain prompts and chains\n",
      "3. https://python.langchain.com/docs/use_cases/question_answering/how_to/code/twitter-the-algorithm-analysis-deeplake: In this tutorial, we are going to use Langchain + Activeloop's Deep Lake with GPT4 to analyze the code base of the twitter algorithm.\n",
      "4. https://python.langchain.com/docs/integrations/memory/motorhead_memory: Motörhead is a memory server implemented in Rust. It automatically handles incremental summarization in the background and allows for stateless applications.\n",
      "5. https://python.langchain.com/docs/guides/safety/moderation: This notebook walks through examples of how to use a moderation chain, and several common ways for doing so. Moderation chains are useful for detecting text that could be hateful, violent, etc. This can be useful to apply on both user input, but also on the output of a Language Model. Some API providers, like OpenAI, specifically prohibit you, or your end users, from generating some types of harmful content. To comply with this (and to just generally prevent your application from being harmful) you may often want to append a moderation chain to any LLMChains, in order to make sure any output the LLM generates is not harmful.\n"
     ]
    }
   ],
   "source": [
    "keyword_docs = keyword_retriever.get_relevant_documents(\n",
    "    query=question,\n",
    ")\n",
    "\n",
    "for i, doc in enumerate(keyword_docs, start=1):\n",
    "    print(f\"{i}. {doc.metadata['source']}: {doc.metadata.get('description', '')}\")"
   ]
  },
  {
   "cell_type": "code",
   "execution_count": 23,
   "metadata": {},
   "outputs": [
    {
     "name": "stdout",
     "output_type": "stream",
     "text": [
      "1. https://python.langchain.com/docs/use_cases/question_answering/how_to/conversational_retrieval_agents: This is an agent specifically optimized for doing retrieval when necessary and also holding a conversation.\n",
      "2. https://python.langchain.com/docs/use_cases/qa_structured/integrations/sqlite: This example demonstrates the use of the SQLDatabaseChain for answering questions over a SQL database.\n",
      "3. https://python.langchain.com/docs/integrations/vectorstores/chroma: Chroma is a AI-native open-source vector database focused on developer productivity and happiness. Chroma is licensed under Apache 2.0.\n",
      "4. https://python.langchain.com/docs/guides/langsmith/walkthrough: Open In Collab\n",
      "5. https://python.langchain.com/docs/modules/callbacks/: Head to Integrations for documentation on built-in callbacks integrations with 3rd-party tools.\n"
     ]
    }
   ],
   "source": [
    "semantic_docs = semantic_retriever.get_relevant_documents(\n",
    "    query=question,\n",
    ")\n",
    "\n",
    "for i, doc in enumerate(semantic_docs, start=1):\n",
    "    print(f\"{i}. {doc.metadata['source']}: {doc.metadata.get('description', '')}\")"
   ]
  },
  {
   "cell_type": "code",
   "execution_count": 24,
   "metadata": {},
   "outputs": [
    {
     "name": "stdout",
     "output_type": "stream",
     "text": [
      "1. https://python.langchain.com/docs/use_cases/question_answering/how_to/conversational_retrieval_agents: This is an agent specifically optimized for doing retrieval when necessary and also holding a conversation.\n",
      "2. https://python.langchain.com/docs/use_cases/qa_structured/integrations/sqlite: This example demonstrates the use of the SQLDatabaseChain for answering questions over a SQL database.\n",
      "3. https://python.langchain.com/docs/integrations/vectorstores/chroma: Chroma is a AI-native open-source vector database focused on developer productivity and happiness. Chroma is licensed under Apache 2.0.\n",
      "4. https://python.langchain.com/docs/guides/langsmith/walkthrough: Open In Collab\n",
      "5. https://python.langchain.com/docs/modules/callbacks/: Head to Integrations for documentation on built-in callbacks integrations with 3rd-party tools.\n",
      "6. https://python.langchain.com/docs/modules/memory/adding_memory: This notebook goes over how to use the Memory class with an LLMChain.\n",
      "7. https://python.langchain.com/docs/integrations/providers/langchain_decorators: lanchchain decorators is a layer on the top of LangChain that provides syntactic sugar 🍭 for writing custom langchain prompts and chains\n",
      "8. https://python.langchain.com/docs/use_cases/question_answering/how_to/code/twitter-the-algorithm-analysis-deeplake: In this tutorial, we are going to use Langchain + Activeloop's Deep Lake with GPT4 to analyze the code base of the twitter algorithm.\n",
      "9. https://python.langchain.com/docs/integrations/memory/motorhead_memory: Motörhead is a memory server implemented in Rust. It automatically handles incremental summarization in the background and allows for stateless applications.\n",
      "10. https://python.langchain.com/docs/guides/safety/moderation: This notebook walks through examples of how to use a moderation chain, and several common ways for doing so. Moderation chains are useful for detecting text that could be hateful, violent, etc. This can be useful to apply on both user input, but also on the output of a Language Model. Some API providers, like OpenAI, specifically prohibit you, or your end users, from generating some types of harmful content. To comply with this (and to just generally prevent your application from being harmful) you may often want to append a moderation chain to any LLMChains, in order to make sure any output the LLM generates is not harmful.\n"
     ]
    }
   ],
   "source": [
    "ensemble_docs = retriever.get_relevant_documents(\n",
    "    query=question,\n",
    ")\n",
    "\n",
    "for i, doc in enumerate(ensemble_docs, start=1):\n",
    "    print(f\"{i}. {doc.metadata['source']}: {doc.metadata.get('description', '')}\")"
   ]
  }
 ],
 "metadata": {
  "kernelspec": {
   "display_name": ".venv",
   "language": "python",
   "name": "python3"
  },
  "language_info": {
   "codemirror_mode": {
    "name": "ipython",
    "version": 3
   },
   "file_extension": ".py",
   "mimetype": "text/x-python",
   "name": "python",
   "nbconvert_exporter": "python",
   "pygments_lexer": "ipython3",
   "version": "3.11.2"
  },
  "orig_nbformat": 4
 },
 "nbformat": 4,
 "nbformat_minor": 2
}
