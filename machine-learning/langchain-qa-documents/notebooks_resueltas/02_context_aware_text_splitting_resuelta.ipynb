{
 "cells": [
  {
   "cell_type": "markdown",
   "metadata": {},
   "source": [
    "# Fragmentación de texto con base en el contexto"
   ]
  },
  {
   "cell_type": "markdown",
   "metadata": {},
   "source": [
    "Una vez que se ha extraído el texto de un documento, es posible que se requiera dividirlo en fragmentos más pequeños, como oraciones o palabras, para su posterior análisis. En este notebook se presentan algunas técnicas para realizar esta tarea con base en el contexto."
   ]
  },
  {
   "cell_type": "markdown",
   "metadata": {},
   "source": [
    "## Librerías"
   ]
  },
  {
   "cell_type": "code",
   "execution_count": 2,
   "metadata": {},
   "outputs": [],
   "source": [
    "from functools import partial\n",
    "\n",
    "import pandas as pd\n",
    "import seaborn as sns\n",
    "import tiktoken\n",
    "from langchain.schema import Document\n",
    "from langchain.text_splitter import (\n",
    "    Language,\n",
    "    MarkdownHeaderTextSplitter,\n",
    "    RecursiveCharacterTextSplitter,\n",
    ")\n",
    "\n",
    "import sys\n",
    "import os\n",
    "\n",
    "# Add the parent directory to sys.path so 'src' can be imported\n",
    "sys.path.append(os.path.abspath(os.path.join(os.getcwd(), '..')))\n",
    "\n",
    "from src.langchain_docs_loader import LangchainDocsLoader"
   ]
  },
  {
   "cell_type": "markdown",
   "metadata": {},
   "source": [
    "Utilizaremos la función `print_example_doc_splits_from_docs` a través de este notebook para imprimir el contenido de los documentos cuya metadata `source` coincida con el valor proporcionado."
   ]
  },
  {
   "cell_type": "code",
   "execution_count": 3,
   "metadata": {},
   "outputs": [],
   "source": [
    "def print_example_doc_splits_from_docs(\n",
    "    docs: list[Document],\n",
    "    source: str,\n",
    ") -> None:\n",
    "    for doc in docs:\n",
    "        if doc.metadata[\"source\"] == source:\n",
    "            print(\"\\n\")\n",
    "            print(f\" {doc.metadata['source']} \".center(80, \"=\"))\n",
    "            print(\"\\n\")\n",
    "            print(doc.page_content)\n",
    "\n",
    "\n",
    "print_split_for_lcle = partial(\n",
    "    print_example_doc_splits_from_docs,\n",
    "    source=\"https://python.langchain.com/docs/expression_language/interface\",\n",
    ")"
   ]
  },
  {
   "cell_type": "markdown",
   "metadata": {},
   "source": [
    "## Carga de datos\n",
    "\n",
    "De aquí en adelante, utilizaremos el conjunto de documentos extraídos en el notebook [01_context_aware_text_extraction.ipynb](01_context_aware_text_extraction.ipynb)."
   ]
  },
  {
   "cell_type": "code",
   "execution_count": 4,
   "metadata": {},
   "outputs": [
    {
     "data": {
      "text/plain": [
       "'Loaded 1556 documents'"
      ]
     },
     "execution_count": 4,
     "metadata": {},
     "output_type": "execute_result"
    }
   ],
   "source": [
    "loader = LangchainDocsLoader(include_output_cells=True)\n",
    "docs = loader.load()\n",
    "f\"Loaded {len(docs)} documents\""
   ]
  },
  {
   "cell_type": "markdown",
   "metadata": {},
   "source": [
    "## Fragmentación de texto sin tener en cuenta el contexto\n",
    "\n",
    "La forma más sencilla de fragmentar texto es utilizando la función `split` de Python. Esta función recibe como parámetro un caracter o cadena de caracteres que se utilizará como separador. Por ejemplo, para fragmentar un texto en oraciones, se puede utilizar el caracter `.` como separador.\n",
    "\n",
    "Sin embargo, podemos ir un poco más allá y utilizar `RecursiveCharacterTextSplitter()` de langchain para dividir texto observando caracteres de forma recursiva. Esta herramienta intenta, de manera recursiva, dividir el texto por diferentes caracteres para encontrar uno que funcione, permitiendo así una fragmentación de texto más precisa y adaptable a diferentes contextos y formatos de texto, aunque no tenga en cuenta el contexto semántico del mismo."
   ]
  },
  {
   "cell_type": "code",
   "execution_count": 5,
   "metadata": {},
   "outputs": [],
   "source": [
    "text_splitter_without_context = RecursiveCharacterTextSplitter()\n",
    "\n",
    "splitted_documents_without_context = text_splitter_without_context.split_documents(docs)\n",
    "print_split_for_lcle(splitted_documents_without_context)"
   ]
  },
  {
   "cell_type": "markdown",
   "metadata": {},
   "source": [
    "## Fragmentación de texto con contexto de distrubución de `tokens`\n",
    "\n",
    "En muchas ocasiones, el contexto de cómo se distribuyen los `tokens` o `caracteres` en el texto puede ser de gran ayuda para decidir cómo fragmentar el texto. Veámoslo con un ejemplo.\n"
   ]
  },
  {
   "cell_type": "markdown",
   "metadata": {},
   "source": [
    "### Funciones de apoyo"
   ]
  },
  {
   "cell_type": "code",
   "execution_count": 6,
   "metadata": {},
   "outputs": [],
   "source": [
    "def num_tokens_from_string(string: str, encoding_name: str = \"cl100k_base\") -> int:\n",
    "    \"\"\"Returns the number of tokens in a text string.\"\"\"\n",
    "    encoding = tiktoken.get_encoding(encoding_name)\n",
    "    num_tokens = len(encoding.encode(string))\n",
    "    return num_tokens\n",
    "\n",
    "\n",
    "def num_tokens_from_document(\n",
    "    document: Document, encoding_name: str = \"cl100k_base\"\n",
    ") -> int:\n",
    "    \"\"\"Returns the number of tokens in a document.\"\"\"\n",
    "    return num_tokens_from_string(document.page_content, encoding_name)"
   ]
  },
  {
   "cell_type": "markdown",
   "metadata": {},
   "source": [
    "### Estadísticas de tokens en los textos"
   ]
  },
  {
   "cell_type": "markdown",
   "metadata": {},
   "source": [
    "Calculemos algunas estadísticas de los `tokens` en los textos utilizando `pandas`."
   ]
  },
  {
   "cell_type": "code",
   "execution_count": 7,
   "metadata": {},
   "outputs": [
    {
     "data": {
      "text/plain": [
       "count    1.556000e+03\n",
       "mean     1.277735e+04\n",
       "std      1.831544e+05\n",
       "min      0.000000e+00\n",
       "25%      4.977500e+02\n",
       "50%      1.111500e+03\n",
       "75%      2.136250e+03\n",
       "max      4.766073e+06\n",
       "dtype: float64"
      ]
     },
     "execution_count": 7,
     "metadata": {},
     "output_type": "execute_result"
    }
   ],
   "source": [
    "tokens_per_document = pd.Series([num_tokens_from_document(doc) for doc in docs])\n",
    "tokens_per_document.describe()"
   ]
  },
  {
   "cell_type": "markdown",
   "metadata": {},
   "source": [
    "La amplia variabilidad en el número de tokens por documento sugiere que se está tratando con documentos de longitudes muy diversas, desde muy cortos hasta muy largos. Esto podría afectar a los análisis subsiguientes y debería tenerse en cuenta al desarrollar modelos de procesamiento de lenguaje natural, ajustando posiblemente los métodos de preprocesamiento o utilizando técnicas que puedan manejar eficientemente documentos de diferentes longitudes. Además, el sesgo a la derecha en la distribución sugiere que, aunque la mayoría de los documentos son relativamente cortos, hay algunos documentos extremadamente largos que podrían ser atípicos y necesitar un tratamiento especial."
   ]
  },
  {
   "cell_type": "markdown",
   "metadata": {},
   "source": [
    "### Visualización de distribución de tokens sin outliers"
   ]
  },
  {
   "cell_type": "code",
   "execution_count": 8,
   "metadata": {},
   "outputs": [
    {
     "data": {
      "text/plain": [
       "[Text(0.5, 0, 'Number of tokens'),\n",
       " Text(0, 0.5, 'Number of documents'),\n",
       " Text(0.5, 1.0, 'Number of tokens per document')]"
      ]
     },
     "execution_count": 8,
     "metadata": {},
     "output_type": "execute_result"
    },
    {
     "data": {
      "image/png": "[encoded data removed]",
      "text/plain": [
       "<Figure size 640x480 with 1 Axes>"
      ]
     },
     "metadata": {},
     "output_type": "display_data"
    }
   ],
   "source": [
    "# Calculate Q1, Q3, and IQR\n",
    "Q1 = tokens_per_document.quantile(0.25)\n",
    "Q3 = tokens_per_document.quantile(0.75)\n",
    "IQR = Q3 - Q1\n",
    "\n",
    "upper_bound = Q3 + 1.5 * IQR\n",
    "\n",
    "# We only filter outliers by upper bound since we don't have problems with short documents.\n",
    "filtered_tokens = tokens_per_document[(tokens_per_document <= upper_bound)]\n",
    "\n",
    "# Plot the important sections of the histogram\n",
    "sns.set_theme(style=\"whitegrid\")\n",
    "fig = sns.histplot(filtered_tokens, kde=True)\n",
    "fig.set(\n",
    "    xlabel=\"Number of tokens\",\n",
    "    ylabel=\"Number of documents\",\n",
    "    title=\"Number of tokens per document\",\n",
    ")"
   ]
  },
  {
   "cell_type": "markdown",
   "metadata": {},
   "source": [
    "### Fragmentación de texto con base en la distribución de tokens\n",
    "\n",
    "Considerando los resultados anteriores, podemos utilizar la información de la distribución de tokens para fragmentar el texto de forma más precisa. Para ello, utilizaremos la función `RecursiveCharacterTextSplitter()` de langchain, pero ahora especificaremos los parámetros `chunk_size` y `chunk_overlap`."
   ]
  },
  {
   "cell_type": "code",
   "execution_count": 9,
   "metadata": {},
   "outputs": [],
   "source": [
    "splitter = RecursiveCharacterTextSplitter(\n",
    "    chunk_size=1000,\n",
    "    chunk_overlap=50,\n",
    "    length_function=num_tokens_from_string,\n",
    ")\n",
    "\n",
    "splitted_with_little_context = splitter.split_documents(docs)\n",
    "print_split_for_lcle(splitted_with_little_context)"
   ]
  },
  {
   "cell_type": "markdown",
   "metadata": {},
   "source": [
    "## Fragmentación de texto con contexto\n",
    "\n",
    "Con el dominio del problema podemos fragmentar el texto de manera más precisa."
   ]
  },
  {
   "cell_type": "markdown",
   "metadata": {},
   "source": [
    "### Fragmentación de texto con base en una especificación de lenguaje como contexto\n",
    "\n",
    "En nuestro ejemplo, nuestros documentos son `Markdown`, por lo que podríamos fragmentar el documento en función de los caracteres que se utilizan para definir los encabezados de las secciones y otros elementos de formato.\n",
    "\n",
    "En este caso, la función internamente utiliza los siguientes patrones para fragmentar el texto:\n",
    "\n",
    "```python\n",
    "[\n",
    "    # First, try to split along Markdown headings (starting with level 2)\n",
    "    \"\\n#{1,6} \",\n",
    "    # Note the alternative syntax for headings (below) is not handled here\n",
    "    # Heading level 2\n",
    "    # ---------------\n",
    "    # End of code block\n",
    "    \"```\\n\",\n",
    "    # Horizontal lines\n",
    "    \"\\n\\\\*\\\\*\\\\*+\\n\",\n",
    "    \"\\n---+\\n\",\n",
    "    \"\\n___+\\n\",\n",
    "    # Note that this splitter doesn't handle horizontal lines defined\n",
    "    # by *three or more* of ***, ---, or ___, but this is not handled\n",
    "    \"\\n\\n\",\n",
    "    \"\\n\",\n",
    "    \" \",\n",
    "    \"\",\n",
    "]\n",
    "```"
   ]
  },
  {
   "cell_type": "code",
   "execution_count": 10,
   "metadata": {},
   "outputs": [],
   "source": [
    "md_language_splitter = RecursiveCharacterTextSplitter.from_language(\n",
    "    language=Language.MARKDOWN,\n",
    "    chunk_size=1000,\n",
    "    chunk_overlap=50,\n",
    "    length_function=num_tokens_from_string,\n",
    ")\n",
    "md_language_splits = md_language_splitter.split_documents(docs)\n",
    "print_split_for_lcle(md_language_splits)"
   ]
  },
  {
   "cell_type": "markdown",
   "metadata": {},
   "source": [
    "### Fragmentación de texto utilizando encabezados como contexto"
   ]
  },
  {
   "cell_type": "markdown",
   "metadata": {},
   "source": [
    "En contraste con el ejemplo anterior, en este caso utilizaremos únicamente los encabezados de los documentos como contexto para fragmentar el texto. Estos encabezados pasarán a formar parte de los meta-datos de los fragmentos.\n",
    "\n",
    "Dentro de cada fragmento de encabezado, podríamos repetir el proceso de fragmentación de texto con base en la distribución de tokens o en una especificación de lenguaje como contexto."
   ]
  },
  {
   "cell_type": "code",
   "execution_count": 11,
   "metadata": {},
   "outputs": [],
   "source": [
    "md_headers_splits: list[Document] = []\n",
    "\n",
    "for doc in docs:\n",
    "    md_header_splitter = MarkdownHeaderTextSplitter(\n",
    "        headers_to_split_on=[\n",
    "            (\"#\", \"Header 1\"),\n",
    "            (\"##\", \"Header 2\"),\n",
    "        ]\n",
    "    )\n",
    "    text_splitter = RecursiveCharacterTextSplitter.from_language(\n",
    "        language=Language.MARKDOWN,\n",
    "        chunk_size=1000,  # try then with 150\n",
    "        chunk_overlap=50,\n",
    "        length_function=num_tokens_from_string,\n",
    "    )\n",
    "\n",
    "    splits = md_header_splitter.split_text(doc.page_content)\n",
    "\n",
    "    splits = text_splitter.split_documents(splits)\n",
    "    splits = [\n",
    "        Document(\n",
    "            page_content=split.page_content,\n",
    "            metadata={\n",
    "                **split.metadata,\n",
    "                **doc.metadata,\n",
    "            },\n",
    "        )\n",
    "        for split in splits\n",
    "    ]\n",
    "    md_headers_splits.extend(splits)\n",
    "\n",
    "print_split_for_lcle(md_headers_splits)"
   ]
  }
 ],
 "metadata": {
  "kernelspec": {
   "display_name": "env",
   "language": "python",
   "name": "python3"
  },
  "language_info": {
   "codemirror_mode": {
    "name": "ipython",
    "version": 3
   },
   "file_extension": ".py",
   "mimetype": "text/x-python",
   "name": "python",
   "nbconvert_exporter": "python",
   "pygments_lexer": "ipython3",
   "version": "3.12.7"
  },
  "orig_nbformat": 4
 },
 "nbformat": 4,
 "nbformat_minor": 2
}
