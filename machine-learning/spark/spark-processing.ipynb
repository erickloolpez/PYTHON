{
  "nbformat": 4,
  "nbformat_minor": 0,
  "metadata": {
    "colab": {
      "provenance": []
    },
    "kernelspec": {
      "name": "python3",
      "display_name": "Python 3"
    },
    "language_info": {
      "name": "python"
    }
  },
  "cells": [
    {
      "cell_type": "markdown",
      "source": [
        "<img src=\"http://spark.apache.org/images/spark-logo.png\"/>"
      ],
      "metadata": {
        "id": "b8S92-TObKph"
      }
    },
    {
      "cell_type": "code",
      "execution_count": 56,
      "metadata": {
        "colab": {
          "base_uri": "https://localhost:8080/"
        },
        "id": "YF3wCCzha8sp",
        "outputId": "57418d3b-e5d1-4554-8411-4c471eb5f208"
      },
      "outputs": [
        {
          "output_type": "stream",
          "name": "stdout",
          "text": [
            "Requirement already satisfied: pyspark in /usr/local/lib/python3.11/dist-packages (3.5.5)\n",
            "Requirement already satisfied: py4j==0.10.9.7 in /usr/local/lib/python3.11/dist-packages (from pyspark) (0.10.9.7)\n",
            "Requirement already satisfied: findspark in /usr/local/lib/python3.11/dist-packages (2.0.1)\n"
          ]
        }
      ],
      "source": [
        "# Installing required packages\n",
        "!pip install pyspark\n",
        "!pip install findspark"
      ]
    },
    {
      "cell_type": "code",
      "source": [
        "# PySpark is the Spark API for Python. In this lab, we use PySpark to initialize the spark context.\n",
        "\n",
        "from pyspark import SparkContext, SparkConf\n",
        "from pyspark.sql import SparkSession"
      ],
      "metadata": {
        "id": "03Yb-tIUbV-W"
      },
      "execution_count": 57,
      "outputs": []
    },
    {
      "cell_type": "markdown",
      "source": [
        "## Task 1 - Spark session\n",
        "\n",
        "In this exercise, you will create and initialize the Spark session needed to load the dataframes and operate on it"
      ],
      "metadata": {
        "id": "U7yoaHjPbdIs"
      }
    },
    {
      "cell_type": "markdown",
      "source": [
        "### Task 1.1: Creating the spark session and context"
      ],
      "metadata": {
        "id": "jYIQqV_TblTu"
      }
    },
    {
      "cell_type": "code",
      "source": [
        "# Creating a spark context class\n",
        "sc = SparkContext()\n",
        "\n",
        "# Creating a spark session\n",
        "spark = SparkSession \\\n",
        "    .builder \\\n",
        "    .appName(\"Introducción to dataframes\") \\\n",
        "    .config(\"spark.some.config.option\", \"some-value\") \\\n",
        "    .getOrCreate()"
      ],
      "metadata": {
        "id": "546UZVoebdnD",
        "colab": {
          "base_uri": "https://localhost:8080/",
          "height": 252
        },
        "outputId": "7c60c19f-b8b1-4ee2-9bee-d4f1da57e480"
      },
      "execution_count": 59,
      "outputs": [
        {
          "output_type": "error",
          "ename": "ValueError",
          "evalue": "Cannot run multiple SparkContexts at once; existing SparkContext(app=pyspark-shell, master=local[*]) created by __init__ at <ipython-input-3-02e6965e0434>:2 ",
          "traceback": [
            "\u001b[0;31m---------------------------------------------------------------------------\u001b[0m",
            "\u001b[0;31mValueError\u001b[0m                                Traceback (most recent call last)",
            "\u001b[0;32m<ipython-input-59-02e6965e0434>\u001b[0m in \u001b[0;36m<cell line: 0>\u001b[0;34m()\u001b[0m\n\u001b[1;32m      1\u001b[0m \u001b[0;31m# Creating a spark context class\u001b[0m\u001b[0;34m\u001b[0m\u001b[0;34m\u001b[0m\u001b[0m\n\u001b[0;32m----> 2\u001b[0;31m \u001b[0msc\u001b[0m \u001b[0;34m=\u001b[0m \u001b[0mSparkContext\u001b[0m\u001b[0;34m(\u001b[0m\u001b[0;34m)\u001b[0m\u001b[0;34m\u001b[0m\u001b[0;34m\u001b[0m\u001b[0m\n\u001b[0m\u001b[1;32m      3\u001b[0m \u001b[0;34m\u001b[0m\u001b[0m\n\u001b[1;32m      4\u001b[0m \u001b[0;31m# Creating a spark session\u001b[0m\u001b[0;34m\u001b[0m\u001b[0;34m\u001b[0m\u001b[0m\n\u001b[1;32m      5\u001b[0m \u001b[0mspark\u001b[0m \u001b[0;34m=\u001b[0m \u001b[0mSparkSession\u001b[0m\u001b[0;31m \u001b[0m\u001b[0;31m\\\u001b[0m\u001b[0;34m\u001b[0m\u001b[0;34m\u001b[0m\u001b[0m\n",
            "\u001b[0;32m/usr/local/lib/python3.11/dist-packages/pyspark/context.py\u001b[0m in \u001b[0;36m__init__\u001b[0;34m(self, master, appName, sparkHome, pyFiles, environment, batchSize, serializer, conf, gateway, jsc, profiler_cls, udf_profiler_cls, memory_profiler_cls)\u001b[0m\n\u001b[1;32m    199\u001b[0m             )\n\u001b[1;32m    200\u001b[0m \u001b[0;34m\u001b[0m\u001b[0m\n\u001b[0;32m--> 201\u001b[0;31m         \u001b[0mSparkContext\u001b[0m\u001b[0;34m.\u001b[0m\u001b[0m_ensure_initialized\u001b[0m\u001b[0;34m(\u001b[0m\u001b[0mself\u001b[0m\u001b[0;34m,\u001b[0m \u001b[0mgateway\u001b[0m\u001b[0;34m=\u001b[0m\u001b[0mgateway\u001b[0m\u001b[0;34m,\u001b[0m \u001b[0mconf\u001b[0m\u001b[0;34m=\u001b[0m\u001b[0mconf\u001b[0m\u001b[0;34m)\u001b[0m\u001b[0;34m\u001b[0m\u001b[0;34m\u001b[0m\u001b[0m\n\u001b[0m\u001b[1;32m    202\u001b[0m         \u001b[0;32mtry\u001b[0m\u001b[0;34m:\u001b[0m\u001b[0;34m\u001b[0m\u001b[0;34m\u001b[0m\u001b[0m\n\u001b[1;32m    203\u001b[0m             self._do_init(\n",
            "\u001b[0;32m/usr/local/lib/python3.11/dist-packages/pyspark/context.py\u001b[0m in \u001b[0;36m_ensure_initialized\u001b[0;34m(cls, instance, gateway, conf)\u001b[0m\n\u001b[1;32m    447\u001b[0m \u001b[0;34m\u001b[0m\u001b[0m\n\u001b[1;32m    448\u001b[0m                     \u001b[0;31m# Raise error if there is already a running Spark context\u001b[0m\u001b[0;34m\u001b[0m\u001b[0;34m\u001b[0m\u001b[0m\n\u001b[0;32m--> 449\u001b[0;31m                     raise ValueError(\n\u001b[0m\u001b[1;32m    450\u001b[0m                         \u001b[0;34m\"Cannot run multiple SparkContexts at once; \"\u001b[0m\u001b[0;34m\u001b[0m\u001b[0;34m\u001b[0m\u001b[0m\n\u001b[1;32m    451\u001b[0m                         \u001b[0;34m\"existing SparkContext(app=%s, master=%s)\"\u001b[0m\u001b[0;34m\u001b[0m\u001b[0;34m\u001b[0m\u001b[0m\n",
            "\u001b[0;31mValueError\u001b[0m: Cannot run multiple SparkContexts at once; existing SparkContext(app=pyspark-shell, master=local[*]) created by __init__ at <ipython-input-3-02e6965e0434>:2 "
          ]
        }
      ]
    },
    {
      "cell_type": "markdown",
      "source": [
        "### Task 1.2: Initialize Spark session\n",
        "To work with dataframes we just need to verify that the spark session instance has been created."
      ],
      "metadata": {
        "id": "qDb88i4TbpCc"
      }
    },
    {
      "cell_type": "code",
      "source": [
        "spark"
      ],
      "metadata": {
        "colab": {
          "base_uri": "https://localhost:8080/",
          "height": 219
        },
        "id": "eQLSxNbqbm0q",
        "outputId": "40412800-1c39-4d44-f0f2-f050105e50fc"
      },
      "execution_count": 60,
      "outputs": [
        {
          "output_type": "execute_result",
          "data": {
            "text/plain": [
              "<pyspark.sql.session.SparkSession at 0x7d5b58623510>"
            ],
            "text/html": [
              "\n",
              "            <div>\n",
              "                <p><b>SparkSession - in-memory</b></p>\n",
              "                \n",
              "        <div>\n",
              "            <p><b>SparkContext</b></p>\n",
              "\n",
              "            <p><a href=\"http://4661ba3f4545:4040\">Spark UI</a></p>\n",
              "\n",
              "            <dl>\n",
              "              <dt>Version</dt>\n",
              "                <dd><code>v3.5.5</code></dd>\n",
              "              <dt>Master</dt>\n",
              "                <dd><code>local[*]</code></dd>\n",
              "              <dt>AppName</dt>\n",
              "                <dd><code>pyspark-shell</code></dd>\n",
              "            </dl>\n",
              "        </div>\n",
              "        \n",
              "            </div>\n",
              "        "
            ]
          },
          "metadata": {},
          "execution_count": 60
        }
      ]
    },
    {
      "cell_type": "markdown",
      "source": [
        "## Task 2 - Load the data in a Spark dataframe\n",
        "In this section, you will first read the CSV file into a Spark DataFrame called sdf.\n",
        "\n",
        "This DataFrame includes 32 observations on 11 variables:"
      ],
      "metadata": {
        "id": "FVUBs3ECb_VO"
      }
    },
    {
      "cell_type": "code",
      "source": [
        "# Load the file 'mtcars.csv' in Google Colab\n",
        "\n",
        "from google.colab import files\n",
        "uploaded = files.upload()"
      ],
      "metadata": {
        "colab": {
          "base_uri": "https://localhost:8080/",
          "height": 73
        },
        "id": "cUbyTgDVb9rl",
        "outputId": "8b7513bf-d774-4d25-ecf5-53376b1fce7d"
      },
      "execution_count": 61,
      "outputs": [
        {
          "output_type": "display_data",
          "data": {
            "text/plain": [
              "<IPython.core.display.HTML object>"
            ],
            "text/html": [
              "\n",
              "     <input type=\"file\" id=\"files-0d86f3a2-131c-4daf-8c13-8e71f091e484\" name=\"files[]\" multiple disabled\n",
              "        style=\"border:none\" />\n",
              "     <output id=\"result-0d86f3a2-131c-4daf-8c13-8e71f091e484\">\n",
              "      Upload widget is only available when the cell has been executed in the\n",
              "      current browser session. Please rerun this cell to enable.\n",
              "      </output>\n",
              "      <script>// Copyright 2017 Google LLC\n",
              "//\n",
              "// Licensed under the Apache License, Version 2.0 (the \"License\");\n",
              "// you may not use this file except in compliance with the License.\n",
              "// You may obtain a copy of the License at\n",
              "//\n",
              "//      http://www.apache.org/licenses/LICENSE-2.0\n",
              "//\n",
              "// Unless required by applicable law or agreed to in writing, software\n",
              "// distributed under the License is distributed on an \"AS IS\" BASIS,\n",
              "// WITHOUT WARRANTIES OR CONDITIONS OF ANY KIND, either express or implied.\n",
              "// See the License for the specific language governing permissions and\n",
              "// limitations under the License.\n",
              "\n",
              "/**\n",
              " * @fileoverview Helpers for google.colab Python module.\n",
              " */\n",
              "(function(scope) {\n",
              "function span(text, styleAttributes = {}) {\n",
              "  const element = document.createElement('span');\n",
              "  element.textContent = text;\n",
              "  for (const key of Object.keys(styleAttributes)) {\n",
              "    element.style[key] = styleAttributes[key];\n",
              "  }\n",
              "  return element;\n",
              "}\n",
              "\n",
              "// Max number of bytes which will be uploaded at a time.\n",
              "const MAX_PAYLOAD_SIZE = 100 * 1024;\n",
              "\n",
              "function _uploadFiles(inputId, outputId) {\n",
              "  const steps = uploadFilesStep(inputId, outputId);\n",
              "  const outputElement = document.getElementById(outputId);\n",
              "  // Cache steps on the outputElement to make it available for the next call\n",
              "  // to uploadFilesContinue from Python.\n",
              "  outputElement.steps = steps;\n",
              "\n",
              "  return _uploadFilesContinue(outputId);\n",
              "}\n",
              "\n",
              "// This is roughly an async generator (not supported in the browser yet),\n",
              "// where there are multiple asynchronous steps and the Python side is going\n",
              "// to poll for completion of each step.\n",
              "// This uses a Promise to block the python side on completion of each step,\n",
              "// then passes the result of the previous step as the input to the next step.\n",
              "function _uploadFilesContinue(outputId) {\n",
              "  const outputElement = document.getElementById(outputId);\n",
              "  const steps = outputElement.steps;\n",
              "\n",
              "  const next = steps.next(outputElement.lastPromiseValue);\n",
              "  return Promise.resolve(next.value.promise).then((value) => {\n",
              "    // Cache the last promise value to make it available to the next\n",
              "    // step of the generator.\n",
              "    outputElement.lastPromiseValue = value;\n",
              "    return next.value.response;\n",
              "  });\n",
              "}\n",
              "\n",
              "/**\n",
              " * Generator function which is called between each async step of the upload\n",
              " * process.\n",
              " * @param {string} inputId Element ID of the input file picker element.\n",
              " * @param {string} outputId Element ID of the output display.\n",
              " * @return {!Iterable<!Object>} Iterable of next steps.\n",
              " */\n",
              "function* uploadFilesStep(inputId, outputId) {\n",
              "  const inputElement = document.getElementById(inputId);\n",
              "  inputElement.disabled = false;\n",
              "\n",
              "  const outputElement = document.getElementById(outputId);\n",
              "  outputElement.innerHTML = '';\n",
              "\n",
              "  const pickedPromise = new Promise((resolve) => {\n",
              "    inputElement.addEventListener('change', (e) => {\n",
              "      resolve(e.target.files);\n",
              "    });\n",
              "  });\n",
              "\n",
              "  const cancel = document.createElement('button');\n",
              "  inputElement.parentElement.appendChild(cancel);\n",
              "  cancel.textContent = 'Cancel upload';\n",
              "  const cancelPromise = new Promise((resolve) => {\n",
              "    cancel.onclick = () => {\n",
              "      resolve(null);\n",
              "    };\n",
              "  });\n",
              "\n",
              "  // Wait for the user to pick the files.\n",
              "  const files = yield {\n",
              "    promise: Promise.race([pickedPromise, cancelPromise]),\n",
              "    response: {\n",
              "      action: 'starting',\n",
              "    }\n",
              "  };\n",
              "\n",
              "  cancel.remove();\n",
              "\n",
              "  // Disable the input element since further picks are not allowed.\n",
              "  inputElement.disabled = true;\n",
              "\n",
              "  if (!files) {\n",
              "    return {\n",
              "      response: {\n",
              "        action: 'complete',\n",
              "      }\n",
              "    };\n",
              "  }\n",
              "\n",
              "  for (const file of files) {\n",
              "    const li = document.createElement('li');\n",
              "    li.append(span(file.name, {fontWeight: 'bold'}));\n",
              "    li.append(span(\n",
              "        `(${file.type || 'n/a'}) - ${file.size} bytes, ` +\n",
              "        `last modified: ${\n",
              "            file.lastModifiedDate ? file.lastModifiedDate.toLocaleDateString() :\n",
              "                                    'n/a'} - `));\n",
              "    const percent = span('0% done');\n",
              "    li.appendChild(percent);\n",
              "\n",
              "    outputElement.appendChild(li);\n",
              "\n",
              "    const fileDataPromise = new Promise((resolve) => {\n",
              "      const reader = new FileReader();\n",
              "      reader.onload = (e) => {\n",
              "        resolve(e.target.result);\n",
              "      };\n",
              "      reader.readAsArrayBuffer(file);\n",
              "    });\n",
              "    // Wait for the data to be ready.\n",
              "    let fileData = yield {\n",
              "      promise: fileDataPromise,\n",
              "      response: {\n",
              "        action: 'continue',\n",
              "      }\n",
              "    };\n",
              "\n",
              "    // Use a chunked sending to avoid message size limits. See b/62115660.\n",
              "    let position = 0;\n",
              "    do {\n",
              "      const length = Math.min(fileData.byteLength - position, MAX_PAYLOAD_SIZE);\n",
              "      const chunk = new Uint8Array(fileData, position, length);\n",
              "      position += length;\n",
              "\n",
              "      const base64 = btoa(String.fromCharCode.apply(null, chunk));\n",
              "      yield {\n",
              "        response: {\n",
              "          action: 'append',\n",
              "          file: file.name,\n",
              "          data: base64,\n",
              "        },\n",
              "      };\n",
              "\n",
              "      let percentDone = fileData.byteLength === 0 ?\n",
              "          100 :\n",
              "          Math.round((position / fileData.byteLength) * 100);\n",
              "      percent.textContent = `${percentDone}% done`;\n",
              "\n",
              "    } while (position < fileData.byteLength);\n",
              "  }\n",
              "\n",
              "  // All done.\n",
              "  yield {\n",
              "    response: {\n",
              "      action: 'complete',\n",
              "    }\n",
              "  };\n",
              "}\n",
              "\n",
              "scope.google = scope.google || {};\n",
              "scope.google.colab = scope.google.colab || {};\n",
              "scope.google.colab._files = {\n",
              "  _uploadFiles,\n",
              "  _uploadFilesContinue,\n",
              "};\n",
              "})(self);\n",
              "</script> "
            ]
          },
          "metadata": {}
        },
        {
          "output_type": "stream",
          "name": "stdout",
          "text": [
            "Saving Building_Permits.csv to Building_Permits (1).csv\n"
          ]
        }
      ]
    },
    {
      "cell_type": "code",
      "source": [
        "# Read the file using `read` function in Spark.\n",
        "# You must load the 'mtcars.csv' in Google Colab in the contet folder.\n",
        "\n",
        "sdf = spark.read.csv('Building_Permits.csv',header=True, inferSchema=True)"
      ],
      "metadata": {
        "id": "SUNA9YBicB5q"
      },
      "execution_count": 112,
      "outputs": []
    },
    {
      "cell_type": "code",
      "source": [
        "sdf.show(5)"
      ],
      "metadata": {
        "colab": {
          "base_uri": "https://localhost:8080/"
        },
        "id": "qrsYBErIcNEH",
        "outputId": "787eed73-4977-48c5-ce20-f16c49e3b8f3"
      },
      "execution_count": 113,
      "outputs": [
        {
          "output_type": "stream",
          "name": "stdout",
          "text": [
            "+-------------+-----------+----------------------+--------------------+-----+---+-------------+--------------------+-----------+-------------+----+-----------+--------------------+--------------+-------------------+----------+-----------+--------------+--------------------------------+-----------------------+--------------------------+--------------------------+-----------------------------+----------------+----------------------+--------------+------------+-------------------+--------------+-----------------+--------------+--------+---------------+--------------------------+--------------------------------------+--------------------------+--------------------------------------+-----------+-------------------+-----------------------------------+-------+--------------------+-------------+\n",
            "|Permit Number|Permit Type|Permit Type Definition|Permit Creation Date|Block|Lot|Street Number|Street Number Suffix|Street Name|Street Suffix|Unit|Unit Suffix|         Description|Current Status|Current Status Date|Filed Date|Issued Date|Completed Date|First Construction Document Date|Structural Notification|Number of Existing Stories|Number of Proposed Stories|Voluntary Soft-Story Retrofit|Fire Only Permit|Permit Expiration Date|Estimated Cost|Revised Cost|       Existing Use|Existing Units|     Proposed Use|Proposed Units|Plansets|TIDF Compliance|Existing Construction Type|Existing Construction Type Description|Proposed Construction Type|Proposed Construction Type Description|Site Permit|Supervisor District|Neighborhoods - Analysis Boundaries|Zipcode|            Location|    Record ID|\n",
            "+-------------+-----------+----------------------+--------------------+-----+---+-------------+--------------------+-----------+-------------+----+-----------+--------------------+--------------+-------------------+----------+-----------+--------------+--------------------------------+-----------------------+--------------------------+--------------------------+-----------------------------+----------------+----------------------+--------------+------------+-------------------+--------------+-----------------+--------------+--------+---------------+--------------------------+--------------------------------------+--------------------------+--------------------------------------+-----------+-------------------+-----------------------------------+-------+--------------------+-------------+\n",
            "| 201505065519|          4|          sign - erect|          05/06/2015| 0326|023|          140|                NULL|      Ellis|           St|NULL|       NULL|ground fl facade:...|       expired|         12/21/2017|05/06/2015| 11/09/2015|          NULL|                      11/09/2015|                   NULL|                         6|                      NULL|                         NULL|            NULL|            11/03/2016|          4000|        4000|tourist hotel/motel|           143|             NULL|          NULL|       2|           NULL|                         3|                         constr type 3|                      NULL|                                  NULL|       NULL|                  3|                         Tenderloin|  94102|(37.7857192566807...|1380611233945|\n",
            "| 201604195146|          4|          sign - erect|          04/19/2016| 0306|007|          440|                NULL|      Geary|           St|   0|       NULL|remove (e) awning...|        issued|         08/03/2017|04/19/2016| 08/03/2017|          NULL|                      08/03/2017|                   NULL|                         7|                      NULL|                         NULL|            NULL|            12/03/2017|             1|         500|tourist hotel/motel|          NULL|             NULL|          NULL|       2|           NULL|                         3|                         constr type 3|                      NULL|                                  NULL|       NULL|                  3|                         Tenderloin|  94102|(37.7873398060073...|1420164406718|\n",
            "| 201605278609|          3|  additions alterat...|          05/27/2016| 0595|203|         1647|                NULL|    Pacific|           Av|NULL|       NULL|installation of s...|     withdrawn|         09/26/2017|05/27/2016|       NULL|          NULL|                            NULL|                   NULL|                         6|                         6|                         NULL|            NULL|                  NULL|         20000|        NULL|       retail sales|            39|     retail sales|            39|       2|           NULL|                         1|                         constr type 1|                         1|                         constr type 1|       NULL|                  3|                       Russian Hill|  94109|(37.7946573324287...|1424856504716|\n",
            "| 201611072166|          8|  otc alterations p...|          11/07/2016| 0156|011|         1230|                NULL|    Pacific|           Av|   0|       NULL|repair dryrot & s...|      complete|         07/24/2017|11/07/2016| 07/18/2017|    07/24/2017|                      07/18/2017|                   NULL|                         2|                         2|                         NULL|            NULL|            07/13/2018|          2000|        2000|  1 family dwelling|             1|1 family dwelling|             1|       2|           NULL|                         5|                        wood frame (5)|                         5|                        wood frame (5)|       NULL|                  3|                           Nob Hill|  94109|(37.7959586790916...|1443574295566|\n",
            "| 201611283529|          6|           demolitions|          11/28/2016| 0342|001|          950|                NULL|     Market|           St|NULL|       NULL|demolish retail/o...|        issued|         12/01/2017|11/28/2016| 12/01/2017|          NULL|                      11/20/2017|                   NULL|                         3|                      NULL|                         NULL|            NULL|            12/01/2018|        100000|      100000|       retail sales|          NULL|             NULL|          NULL|       2|           NULL|                         3|                         constr type 3|                      NULL|                                  NULL|       NULL|                  6|                         Tenderloin|  94102|(37.7831526189730...| 144548169992|\n",
            "+-------------+-----------+----------------------+--------------------+-----+---+-------------+--------------------+-----------+-------------+----+-----------+--------------------+--------------+-------------------+----------+-----------+--------------+--------------------------------+-----------------------+--------------------------+--------------------------+-----------------------------+----------------+----------------------+--------------+------------+-------------------+--------------+-----------------+--------------+--------+---------------+--------------------------+--------------------------------------+--------------------------+--------------------------------------+-----------+-------------------+-----------------------------------+-------+--------------------+-------------+\n",
            "only showing top 5 rows\n",
            "\n"
          ]
        }
      ]
    },
    {
      "cell_type": "markdown",
      "source": [
        "## Cuente el número de filas que existe en dataframe."
      ],
      "metadata": {
        "id": "Cq1AUYjucruv"
      }
    },
    {
      "cell_type": "code",
      "source": [
        "print(sdf.count())"
      ],
      "metadata": {
        "colab": {
          "base_uri": "https://localhost:8080/"
        },
        "id": "MUtYRd-wcsb4",
        "outputId": "8ab9beff-353e-4a65-aca0-b9295b322d2d"
      },
      "execution_count": 114,
      "outputs": [
        {
          "output_type": "stream",
          "name": "stdout",
          "text": [
            "198900\n"
          ]
        }
      ]
    },
    {
      "cell_type": "markdown",
      "source": [
        "## Cuente el número de columnas del dataframe."
      ],
      "metadata": {
        "id": "Kikbp8ZWc4qT"
      }
    },
    {
      "cell_type": "code",
      "source": [
        "print(len(sdf.columns))"
      ],
      "metadata": {
        "colab": {
          "base_uri": "https://localhost:8080/"
        },
        "id": "BlNRbJL5c5aJ",
        "outputId": "4f3c46fa-edbb-4421-dbf8-a74f22c7358e"
      },
      "execution_count": 115,
      "outputs": [
        {
          "output_type": "stream",
          "name": "stdout",
          "text": [
            "43\n"
          ]
        }
      ]
    },
    {
      "cell_type": "markdown",
      "source": [
        "## Retorne las etiquetas de las columnas del dataframe."
      ],
      "metadata": {
        "id": "nslFpvlEc6G9"
      }
    },
    {
      "cell_type": "code",
      "source": [
        "print(sdf.columns)"
      ],
      "metadata": {
        "colab": {
          "base_uri": "https://localhost:8080/"
        },
        "id": "Rdd3-y2jc8xw",
        "outputId": "d2dd4bdc-9915-42fa-9f8d-311597c786c9"
      },
      "execution_count": 116,
      "outputs": [
        {
          "output_type": "stream",
          "name": "stdout",
          "text": [
            "['Permit Number', 'Permit Type', 'Permit Type Definition', 'Permit Creation Date', 'Block', 'Lot', 'Street Number', 'Street Number Suffix', 'Street Name', 'Street Suffix', 'Unit', 'Unit Suffix', 'Description', 'Current Status', 'Current Status Date', 'Filed Date', 'Issued Date', 'Completed Date', 'First Construction Document Date', 'Structural Notification', 'Number of Existing Stories', 'Number of Proposed Stories', 'Voluntary Soft-Story Retrofit', 'Fire Only Permit', 'Permit Expiration Date', 'Estimated Cost', 'Revised Cost', 'Existing Use', 'Existing Units', 'Proposed Use', 'Proposed Units', 'Plansets', 'TIDF Compliance', 'Existing Construction Type', 'Existing Construction Type Description', 'Proposed Construction Type', 'Proposed Construction Type Description', 'Site Permit', 'Supervisor District', 'Neighborhoods - Analysis Boundaries', 'Zipcode', 'Location', 'Record ID']\n"
          ]
        }
      ]
    },
    {
      "cell_type": "markdown",
      "source": [
        "## Muestre las estadísticas resumen del dataset."
      ],
      "metadata": {
        "id": "TEo-_MoidATa"
      }
    },
    {
      "cell_type": "code",
      "source": [
        "sdf.describe().show(truncate=False)"
      ],
      "metadata": {
        "colab": {
          "base_uri": "https://localhost:8080/"
        },
        "id": "HRH8qgRgdAut",
        "outputId": "c20d4a80-21ba-4f63-92ea-b4138560e905"
      },
      "execution_count": 117,
      "outputs": [
        {
          "output_type": "stream",
          "name": "stdout",
          "text": [
            "+-------+---------------------+------------------+--------------------------------+--------------------+------------------+-----------------+------------------+--------------------+-----------+-------------+-----------------+------------------+---------------------------------------------------------------------------------------------------------------------------------------------------------------------------------------------------------------------------------------------------------------------------------+--------------------+-------------------------------------+--------------------+--------------------------------------------------------------------------+-------------------------------------------------------------------+-------------------------------------------------------------------------------------------+---------------------------------------------------------------+--------------------------+--------------------------+-----------------------------+--------------------+----------------------+-----------------+--------------------+--------------------+-------------------+--------------------+-------------------+--------------------+------------------+--------------------------+--------------------------------------+--------------------------+--------------------------------------+-----------------+-------------------+-----------------------------------+-----------------+---------------------------------------+-----------------------------------------+\n",
            "|summary|Permit Number        |Permit Type       |Permit Type Definition          |Permit Creation Date|Block             |Lot              |Street Number     |Street Number Suffix|Street Name|Street Suffix|Unit             |Unit Suffix       |Description                                                                                                                                                                                                                                                                      |Current Status      |Current Status Date                  |Filed Date          |Issued Date                                                               |Completed Date                                                     |First Construction Document Date                                                           |Structural Notification                                        |Number of Existing Stories|Number of Proposed Stories|Voluntary Soft-Story Retrofit|Fire Only Permit    |Permit Expiration Date|Estimated Cost   |Revised Cost        |Existing Use        |Existing Units     |Proposed Use        |Proposed Units     |Plansets            |TIDF Compliance   |Existing Construction Type|Existing Construction Type Description|Proposed Construction Type|Proposed Construction Type Description|Site Permit      |Supervisor District|Neighborhoods - Analysis Boundaries|Zipcode          |Location                               |Record ID                                |\n",
            "+-------+---------------------+------------------+--------------------------------+--------------------+------------------+-----------------+------------------+--------------------+-----------+-------------+-----------------+------------------+---------------------------------------------------------------------------------------------------------------------------------------------------------------------------------------------------------------------------------------------------------------------------------+--------------------+-------------------------------------+--------------------+--------------------------------------------------------------------------+-------------------------------------------------------------------+-------------------------------------------------------------------------------------------+---------------------------------------------------------------+--------------------------+--------------------------+-----------------------------+--------------------+----------------------+-----------------+--------------------+--------------------+-------------------+--------------------+-------------------+--------------------+------------------+--------------------------+--------------------------------------+--------------------------+--------------------------------------+-----------------+-------------------+-----------------------------------+-----------------+---------------------------------------+-----------------------------------------+\n",
            "|count  |198900               |198900            |198900                          |198900              |198900            |198900           |198900            |2216                |198900     |196132       |29479            |1961              |198610                                                                                                                                                                                                                                                                           |198900              |198900                               |198899              |184088                                                                    |97867                                                              |183677                                                                                     |8485                                                           |155140                    |155493                    |1721                         |19176               |145825                |160106           |192466              |157566              |147395             |156316              |148023             |161449              |1938              |154585                    |155047                                |155443                    |155548                                |7131             |196199             |196686                             |196931           |197023                                 |198772                                   |\n",
            "|mean   |2.0152055401496118E11|7.522322775263952 |NULL                            |NULL                |2651.8876519273667|30.55886484815283|1121.7289441930618|0.0                 |NULL       |NULL         |78.51718172258218|81.4              |1371.5                                                                                                                                                                                                                                                                           |6.6903882952380955E7|1.551371762475E11                    |3.889684551853913E11|2.61585069837E11                                                          |6.6821530251E10                                                    |220.0                                                                                      |6.9751181201175E11                                             |1.7543517191635642E7      |5.716048028595209         |2.0965719662708185E9         |1.8612209992525036E9|11.831168831168831    |169831.2772488433|132746.3797223405   |79340.48277966102   |631.2511785941379  |17141.597559055117  |149.32846526391793 |129.1854008221035   |9330.291382517049 |44.35410243788699         |1423.0411676646706                    |8.949207397194659         |3.8769470404984423                    |4.621301775147929|5.53430191824816   |242.6623488773748                  |93841.94431362534|73397.51665312753                      |1.1582139777596555E12                    |\n",
            "|stddev |1.46608740355202E8   |1.4574508401441226|NULL                            |NULL                |2151.056534956311 |45.55706624211123|1135.7689482833778|NULL                |NULL       |NULL         |326.9813244213947|171.60626769180408|1918.4967205253874                                                                                                                                                                                                                                                               |9.690610505934946E7 |4.178607998161677E11                 |5.990036485178826E11|5.503477777171222E11                                                      |9.470514315156462E10                                               |0.0                                                                                        |8.057723991758365E11                                           |4.870923668309926E9       |8.559223426032446         |5.298488822702145E10         |4.920809243667278E10|15.432145324204255    |3649113.760303735|3591934.2165315524  |1038458.0450068339  |100728.96681082876 |78454.4264995802    |8082.969741906502  |15917.145804638234  |153834.00141502524|5542.219628556474         |27823.77535608208                     |941.6111510697763         |3.1204149693560175                    |18.15754320363191|2.887526292829655  |8081.095689708277                  |5091.600943842214|39010.01828475288                      |4.9556051048761926E11                    |\n",
            "|min    |201301027037         |1                 |additions alterations or repairs|01/02/2013          |0000              |000              |0                 |0                   |01st       |Al           |0                |#R-2              |\"\"\"518 waller\"\" - change of use from office to bike shop                                                                                                                                                                                                                         |  1015              |  max excavation 4'-0\"\" below grade.\"|  4 speakers        |  23 speaker/strobes and 2 strobes. ref app #201405286857. n/a for maher.\"| & (10) (n) purcell cabinets w/(5) (n)  & (1) f duw & (2) dul unit\"| & 18 strobes. ref #2014.0408.2701 (flr 13) & 2014.0415.3219 (flr 12). n/a maher ordinance\"| & 4 door holders. ref pa #2014.0630.9996. n/a maher ordinance\"|  \"\"no structural work\"\".\"| -122.40360509745858)\"    | -122.4116030898728)\"        |0                   |01/01/2015            |01/01/2015       |0                   |0                   |0                  |0                   |0                  |0                   |0                 |0                         |0                                     |0                         |0                                     |0                |0                  |0                                  |0                |(37.70816952820484, -122.4495824817392)|(37.708990707862405, -122.42098540362373)|\n",
            "|max    |M893447              |8                 |wall or painted sign            |12/31/2015          |9999              |999              |8400              |½                   |Zoo        |Wy           |6004             |Y                 |~kf21&partial demo and construction of new demising walls o the 2nd fl within the existing berry building in china basin. demo consists of removal of doors, walls, finishes, fixtures, partial ceiling. new constructino consists of new corridor walls and 1 demising partition|withdrawn           |withdrawn                            |withdrawn           |withdrawn                                                                 |suspend                                                            |withdrawn                                                                                  |withdrawn                                                      |issued                    |withdrawn                 |in common area new laundry   |utility             |hw heaters            |new landscaping  |repair fire escape.\"|workshop residential|workshop commercial|workshop residential|workshop commercial|warehouse,no frnitur|vacant lot        |tourist hotel/motel       |wood frame (5)                        |wood frame (5)            |wood frame (5)                        |wood frame (5)   |wood frame (5)     |wood frame (5)                     |wood frame (5)   |wood frame (5)                         |wood frame (5)                           |\n",
            "+-------+---------------------+------------------+--------------------------------+--------------------+------------------+-----------------+------------------+--------------------+-----------+-------------+-----------------+------------------+---------------------------------------------------------------------------------------------------------------------------------------------------------------------------------------------------------------------------------------------------------------------------------+--------------------+-------------------------------------+--------------------+--------------------------------------------------------------------------+-------------------------------------------------------------------+-------------------------------------------------------------------------------------------+---------------------------------------------------------------+--------------------------+--------------------------+-----------------------------+--------------------+----------------------+-----------------+--------------------+--------------------+-------------------+--------------------+-------------------+--------------------+------------------+--------------------------+--------------------------------------+--------------------------+--------------------------------------+-----------------+-------------------+-----------------------------------+-----------------+---------------------------------------+-----------------------------------------+\n",
            "\n"
          ]
        }
      ]
    },
    {
      "cell_type": "markdown",
      "source": [
        "## Muestre el esquema del dataframe."
      ],
      "metadata": {
        "id": "NfB-oqsZdC7X"
      }
    },
    {
      "cell_type": "code",
      "source": [
        "sdf.printSchema()"
      ],
      "metadata": {
        "colab": {
          "base_uri": "https://localhost:8080/"
        },
        "id": "f9SgITNHdET5",
        "outputId": "78192298-a6b0-4df1-92ba-878e8fd7814f"
      },
      "execution_count": 118,
      "outputs": [
        {
          "output_type": "stream",
          "name": "stdout",
          "text": [
            "root\n",
            " |-- Permit Number: string (nullable = true)\n",
            " |-- Permit Type: integer (nullable = true)\n",
            " |-- Permit Type Definition: string (nullable = true)\n",
            " |-- Permit Creation Date: string (nullable = true)\n",
            " |-- Block: string (nullable = true)\n",
            " |-- Lot: string (nullable = true)\n",
            " |-- Street Number: integer (nullable = true)\n",
            " |-- Street Number Suffix: string (nullable = true)\n",
            " |-- Street Name: string (nullable = true)\n",
            " |-- Street Suffix: string (nullable = true)\n",
            " |-- Unit: integer (nullable = true)\n",
            " |-- Unit Suffix: string (nullable = true)\n",
            " |-- Description: string (nullable = true)\n",
            " |-- Current Status: string (nullable = true)\n",
            " |-- Current Status Date: string (nullable = true)\n",
            " |-- Filed Date: string (nullable = true)\n",
            " |-- Issued Date: string (nullable = true)\n",
            " |-- Completed Date: string (nullable = true)\n",
            " |-- First Construction Document Date: string (nullable = true)\n",
            " |-- Structural Notification: string (nullable = true)\n",
            " |-- Number of Existing Stories: string (nullable = true)\n",
            " |-- Number of Proposed Stories: string (nullable = true)\n",
            " |-- Voluntary Soft-Story Retrofit: string (nullable = true)\n",
            " |-- Fire Only Permit: string (nullable = true)\n",
            " |-- Permit Expiration Date: string (nullable = true)\n",
            " |-- Estimated Cost: string (nullable = true)\n",
            " |-- Revised Cost: string (nullable = true)\n",
            " |-- Existing Use: string (nullable = true)\n",
            " |-- Existing Units: string (nullable = true)\n",
            " |-- Proposed Use: string (nullable = true)\n",
            " |-- Proposed Units: string (nullable = true)\n",
            " |-- Plansets: string (nullable = true)\n",
            " |-- TIDF Compliance: string (nullable = true)\n",
            " |-- Existing Construction Type: string (nullable = true)\n",
            " |-- Existing Construction Type Description: string (nullable = true)\n",
            " |-- Proposed Construction Type: string (nullable = true)\n",
            " |-- Proposed Construction Type Description: string (nullable = true)\n",
            " |-- Site Permit: string (nullable = true)\n",
            " |-- Supervisor District: string (nullable = true)\n",
            " |-- Neighborhoods - Analysis Boundaries: string (nullable = true)\n",
            " |-- Zipcode: string (nullable = true)\n",
            " |-- Location: string (nullable = true)\n",
            " |-- Record ID: string (nullable = true)\n",
            "\n"
          ]
        }
      ]
    },
    {
      "cell_type": "markdown",
      "source": [
        "## Verifique que el tipo de datos de cada variable es el correcto. Caso contrario corríjalo."
      ],
      "metadata": {
        "id": "tms8R8SWdE6N"
      }
    },
    {
      "cell_type": "code",
      "source": [
        "from pyspark.sql.types import IntegerType, DoubleType, StringType\n",
        "sdf= sdf.withColumn('Plansets', col('Plansets').cast(IntegerType()))"
      ],
      "metadata": {
        "id": "VUVApGngdIBa"
      },
      "execution_count": 119,
      "outputs": []
    },
    {
      "cell_type": "markdown",
      "source": [
        "## Cuente cuantos valores faltantes tiene en cada variable."
      ],
      "metadata": {
        "id": "qoxFL-zqdIbD"
      }
    },
    {
      "cell_type": "code",
      "source": [
        "from pyspark.sql.functions import col, count, when, isnull, mean, median, stddev\n",
        "missing_counts = sdf.select([count(when(isnull(c), c)).alias(c) for c in sdf.columns])\n",
        "missing_counts.show(vertical=True, truncate=False)"
      ],
      "metadata": {
        "colab": {
          "base_uri": "https://localhost:8080/"
        },
        "id": "hsbf-3zUdLUA",
        "outputId": "6e73cb87-ba66-45e5-8856-6cb9ee2a73d9"
      },
      "execution_count": 120,
      "outputs": [
        {
          "output_type": "stream",
          "name": "stdout",
          "text": [
            "-RECORD 0----------------------------------------\n",
            " Permit Number                          | 0      \n",
            " Permit Type                            | 0      \n",
            " Permit Type Definition                 | 0      \n",
            " Permit Creation Date                   | 0      \n",
            " Block                                  | 0      \n",
            " Lot                                    | 0      \n",
            " Street Number                          | 0      \n",
            " Street Number Suffix                   | 196684 \n",
            " Street Name                            | 0      \n",
            " Street Suffix                          | 2768   \n",
            " Unit                                   | 169421 \n",
            " Unit Suffix                            | 196939 \n",
            " Description                            | 290    \n",
            " Current Status                         | 0      \n",
            " Current Status Date                    | 0      \n",
            " Filed Date                             | 1      \n",
            " Issued Date                            | 14812  \n",
            " Completed Date                         | 101033 \n",
            " First Construction Document Date       | 15223  \n",
            " Structural Notification                | 190415 \n",
            " Number of Existing Stories             | 43760  \n",
            " Number of Proposed Stories             | 43407  \n",
            " Voluntary Soft-Story Retrofit          | 197179 \n",
            " Fire Only Permit                       | 179724 \n",
            " Permit Expiration Date                 | 53075  \n",
            " Estimated Cost                         | 38794  \n",
            " Revised Cost                           | 6434   \n",
            " Existing Use                           | 41334  \n",
            " Existing Units                         | 51505  \n",
            " Proposed Use                           | 42584  \n",
            " Proposed Units                         | 50877  \n",
            " Plansets                               | 38093  \n",
            " TIDF Compliance                        | 196962 \n",
            " Existing Construction Type             | 44315  \n",
            " Existing Construction Type Description | 43853  \n",
            " Proposed Construction Type             | 43457  \n",
            " Proposed Construction Type Description | 43352  \n",
            " Site Permit                            | 191769 \n",
            " Supervisor District                    | 2701   \n",
            " Neighborhoods - Analysis Boundaries    | 2214   \n",
            " Zipcode                                | 1969   \n",
            " Location                               | 1877   \n",
            " Record ID                              | 128    \n",
            "\n"
          ]
        }
      ]
    },
    {
      "cell_type": "markdown",
      "source": [
        "## Solvente los valores faltantes de cada variable. Aplique eliminación de filas y reemplazo de valores (valor promedio o categoría más frecuente)."
      ],
      "metadata": {
        "id": "bpal35wmdN8I"
      }
    },
    {
      "cell_type": "markdown",
      "source": [
        "### Creacion de una funcion que considere un umbral para eliminar las columnas con demasiados nulos."
      ],
      "metadata": {
        "id": "UFOcdW7gnrrx"
      }
    },
    {
      "cell_type": "code",
      "source": [
        "from pyspark.sql.functions import count, when, isnull, col\n",
        "from pyspark.sql.types import NumericType, StringType\n",
        "\n",
        "def eliminar_columnas_con_nulos(sdf, umbral_eliminacion=0.5):\n",
        "    \"\"\"\n",
        "    Elimina columnas con un porcentaje de valores nulos mayor al umbral especificado\n",
        "\n",
        "    Parámetros:\n",
        "    - sdf: DataFrame de Spark\n",
        "    - umbral_eliminacion: Porcentaje (0-1) a partir del cual se elimina la columna\n",
        "\n",
        "    Retorna:\n",
        "    - DataFrame con columnas eliminadas\n",
        "    - Lista de columnas eliminadas\n",
        "    \"\"\"\n",
        "\n",
        "    # 1. Calcular total de filas\n",
        "    total_filas = sdf.count()\n",
        "\n",
        "    # 2. Calcular valores nulos por columna\n",
        "    missing_counts = sdf.select([count(when(isnull(c), c)).alias(c) for c in sdf.columns])\n",
        "    missing_dict = missing_counts.first().asDict()\n",
        "\n",
        "    # 3. Identificar columnas a eliminar\n",
        "    columnas_a_eliminar = [\n",
        "        col_name for col_name, missing_count in missing_dict.items()\n",
        "        if (missing_count / total_filas) > umbral_eliminacion\n",
        "    ]\n",
        "\n",
        "    # 4. Mostrar información sobre las columnas afectadas\n",
        "    print(f\"\\nAnálisis de valores nulos (umbral de eliminación: {umbral_eliminacion*100}%)\")\n",
        "    print(f\"Total de filas en el dataset: {total_filas}\")\n",
        "    print(f\"\\nColumnas a eliminar ({len(columnas_a_eliminar)}):\")\n",
        "\n",
        "    for col_name in columnas_a_eliminar:\n",
        "        porcentaje_nulos = (missing_dict[col_name] / total_filas) * 100\n",
        "        print(f\"- {col_name}: {missing_dict[col_name]} nulos ({porcentaje_nulos:.1f}%)\")\n",
        "\n",
        "    # 5. Eliminar columnas\n",
        "    if columnas_a_eliminar:\n",
        "        sdf_limpio = sdf.drop(*columnas_a_eliminar)\n",
        "        print(\"\\nColumnas eliminadas exitosamente\")\n",
        "    else:\n",
        "        sdf_limpio = sdf\n",
        "        print(\"\\nNo se eliminaron columnas (ninguna superó el umbral)\")\n",
        "\n",
        "    # 6. Mostrar resumen final\n",
        "    print(f\"\\nResumen final:\")\n",
        "    print(f\"- Columnas originales: {len(sdf.columns)}\")\n",
        "    print(f\"- Columnas eliminadas: {len(columnas_a_eliminar)}\")\n",
        "    print(f\"- Columnas restantes: {len(sdf_limpio.columns)}\")\n",
        "\n",
        "    return sdf_limpio, columnas_a_eliminar\n",
        "\n",
        "# Ejemplo de uso:\n",
        "# df_limpio, columnas_eliminadas = eliminar_columnas_con_nulos(sdf, umbral_eliminacion=0.7)"
      ],
      "metadata": {
        "id": "J4mrhe5LkjY4"
      },
      "execution_count": 121,
      "outputs": []
    },
    {
      "cell_type": "code",
      "source": [
        "df_limpio, columnas_eliminadas = eliminar_columnas_con_nulos(sdf, umbral_eliminacion=0.8)"
      ],
      "metadata": {
        "colab": {
          "base_uri": "https://localhost:8080/"
        },
        "id": "rhjBWaDGkqEZ",
        "outputId": "ed42cdbc-fa65-447c-89cd-3d03163107f3"
      },
      "execution_count": 122,
      "outputs": [
        {
          "output_type": "stream",
          "name": "stdout",
          "text": [
            "\n",
            "Análisis de valores nulos (umbral de eliminación: 80.0%)\n",
            "Total de filas en el dataset: 198900\n",
            "\n",
            "Columnas a eliminar (8):\n",
            "- Street Number Suffix: 196684 nulos (98.9%)\n",
            "- Unit: 169421 nulos (85.2%)\n",
            "- Unit Suffix: 196939 nulos (99.0%)\n",
            "- Structural Notification: 190415 nulos (95.7%)\n",
            "- Voluntary Soft-Story Retrofit: 197179 nulos (99.1%)\n",
            "- Fire Only Permit: 179724 nulos (90.4%)\n",
            "- TIDF Compliance: 196962 nulos (99.0%)\n",
            "- Site Permit: 191769 nulos (96.4%)\n",
            "\n",
            "Columnas eliminadas exitosamente\n",
            "\n",
            "Resumen final:\n",
            "- Columnas originales: 43\n",
            "- Columnas eliminadas: 8\n",
            "- Columnas restantes: 35\n"
          ]
        }
      ]
    },
    {
      "cell_type": "markdown",
      "source": [
        "### Verificacion del df menos las 8 columnas eliminadas determinadas por la funcion anterior."
      ],
      "metadata": {
        "id": "dmfS98-2n2LT"
      }
    },
    {
      "cell_type": "code",
      "source": [
        "print(len(df_limpio.columns))"
      ],
      "metadata": {
        "colab": {
          "base_uri": "https://localhost:8080/"
        },
        "id": "7AxMnFGL3vj3",
        "outputId": "0b441e1a-7e0b-4b89-91f3-41be57204235"
      },
      "execution_count": 99,
      "outputs": [
        {
          "output_type": "stream",
          "name": "stdout",
          "text": [
            "35\n"
          ]
        }
      ]
    },
    {
      "cell_type": "code",
      "source": [
        "from pyspark.sql.functions import col, count, when, isnull, mean, median, stddev\n",
        "missing_counts = df_limpio.select([count(when(isnull(c), c)).alias(c) for c in df_limpio.columns])\n",
        "missing_counts.show(vertical=True, truncate=False)"
      ],
      "metadata": {
        "colab": {
          "base_uri": "https://localhost:8080/"
        },
        "id": "By3zvuUyk0u1",
        "outputId": "262db356-6657-4598-8e05-c70968382d52"
      },
      "execution_count": 123,
      "outputs": [
        {
          "output_type": "stream",
          "name": "stdout",
          "text": [
            "-RECORD 0----------------------------------------\n",
            " Permit Number                          | 0      \n",
            " Permit Type                            | 0      \n",
            " Permit Type Definition                 | 0      \n",
            " Permit Creation Date                   | 0      \n",
            " Block                                  | 0      \n",
            " Lot                                    | 0      \n",
            " Street Number                          | 0      \n",
            " Street Name                            | 0      \n",
            " Street Suffix                          | 2768   \n",
            " Description                            | 290    \n",
            " Current Status                         | 0      \n",
            " Current Status Date                    | 0      \n",
            " Filed Date                             | 1      \n",
            " Issued Date                            | 14812  \n",
            " Completed Date                         | 101033 \n",
            " First Construction Document Date       | 15223  \n",
            " Number of Existing Stories             | 43760  \n",
            " Number of Proposed Stories             | 43407  \n",
            " Permit Expiration Date                 | 53075  \n",
            " Estimated Cost                         | 38794  \n",
            " Revised Cost                           | 6434   \n",
            " Existing Use                           | 41334  \n",
            " Existing Units                         | 51505  \n",
            " Proposed Use                           | 42584  \n",
            " Proposed Units                         | 50877  \n",
            " Plansets                               | 38093  \n",
            " Existing Construction Type             | 44315  \n",
            " Existing Construction Type Description | 43853  \n",
            " Proposed Construction Type             | 43457  \n",
            " Proposed Construction Type Description | 43352  \n",
            " Supervisor District                    | 2701   \n",
            " Neighborhoods - Analysis Boundaries    | 2214   \n",
            " Zipcode                                | 1969   \n",
            " Location                               | 1877   \n",
            " Record ID                              | 128    \n",
            "\n"
          ]
        }
      ]
    },
    {
      "cell_type": "markdown",
      "source": [
        "### Funcion para rellenar las columnas restantes con la media."
      ],
      "metadata": {
        "id": "ZkUewnaxoGdl"
      }
    },
    {
      "cell_type": "code",
      "source": [
        "from pyspark.sql.functions import mean, count, when, isnull, col\n",
        "from pyspark.sql.types import NumericType, StringType\n",
        "\n",
        "def auto_impute_missing(sdf, missing_percentage=0.3):\n",
        "    \"\"\"\n",
        "    Función para imputar automáticamente columnas con muchos valores faltantes\n",
        "\n",
        "    Parámetros:\n",
        "    - sdf: DataFrame de Spark\n",
        "    - missing_percentage: Umbral porcentual para considerar \"muchos\" valores faltantes (0-1)\n",
        "\n",
        "    Retorna:\n",
        "    - DataFrame con valores imputados\n",
        "    - Diccionario con los valores usados para imputación\n",
        "    \"\"\"\n",
        "\n",
        "    # 1. Calcular umbral absoluto\n",
        "    total_rows = df_limpio.count()\n",
        "    missing_threshold = missing_percentage * total_rows\n",
        "\n",
        "    # 2. Identificar columnas con muchos faltantes\n",
        "    missing_counts = df_limpio.select([count(when(isnull(c), c)).alias(c) for c in df_limpio.columns])\n",
        "    missing_dict = missing_counts.first().asDict()\n",
        "\n",
        "    high_missing_cols = [\n",
        "        col_name for col_name, missing_count in missing_dict.items()\n",
        "        #if missing_count > missing_threshold and missing_count > 0\n",
        "        if missing_count > 0\n",
        "    ]\n",
        "\n",
        "    print(f\"\\nColumnas con >{missing_percentage*100}% valores faltantes ({len(high_missing_cols)}):\")\n",
        "    for column in high_missing_cols:\n",
        "        print(f\"- {column}: {missing_dict[column]} faltantes ({missing_dict[column]/total_rows*100:.1f}%)\")\n",
        "\n",
        "    # 3. Calcular valores de imputación\n",
        "    impute_values = {}\n",
        "\n",
        "    for column_name in high_missing_cols:\n",
        "        try:\n",
        "            col_type = sdf.schema[column_name].dataType\n",
        "\n",
        "            # Columnas numéricas\n",
        "            if isinstance(col_type, NumericType):\n",
        "                col_mean = sdf.agg(mean(column_name)).collect()[0][0]\n",
        "                impute_values[column_name] = col_mean\n",
        "\n",
        "            # Columnas categóricas\n",
        "            elif isinstance(col_type, StringType):\n",
        "                try:\n",
        "                    mode_df = (sdf.filter(col(column_name).isNotNull())\n",
        "                               .groupBy(column_name)\n",
        "                               .count()\n",
        "                               .orderBy('count', ascending=False))\n",
        "\n",
        "                    if mode_df.count() > 0:\n",
        "                        mode_value = mode_df.first()[0]\n",
        "                        impute_values[column_name] = mode_value\n",
        "                    else:\n",
        "                        impute_values[column_name] = \"Unknown\"\n",
        "                except:\n",
        "                    impute_values[column_name] = \"Unknown\"\n",
        "\n",
        "            # Otros tipos (date, boolean, etc.)\n",
        "            else:\n",
        "                impute_values[column_name] = None\n",
        "                print(f\"  [!] Columna '{column_name}' de tipo {col_type} - No se aplicó imputación automática\")\n",
        "\n",
        "        except Exception as e:\n",
        "            print(f\"  [!] Error procesando columna '{column_name}': {str(e)}\")\n",
        "            impute_values[column_name] = None\n",
        "\n",
        "    # Filtrar solo columnas con valores de imputación válidos\n",
        "    valid_impute = {k: v for k, v in impute_values.items() if v is not None}\n",
        "\n",
        "    # 4. Aplicar imputación\n",
        "    if valid_impute:\n",
        "        print(\"\\nValores de imputación a aplicar:\")\n",
        "        for col_name, val in valid_impute.items():\n",
        "            print(f\"- {col_name}: {val}\")\n",
        "\n",
        "        return df_limpio.fillna(valid_impute), valid_impute\n",
        "    else:\n",
        "        print(\"\\nNo se aplicó imputación a ninguna columna\")\n",
        "        return df_limpio, {}\n",
        "\n",
        "# Uso de la función\n",
        "sdf_filled, imputation_values = auto_impute_missing(df_limpio, missing_percentage=0.1)\n",
        "\n",
        "# Mostrar resultados (parte corregida)\n",
        "print(\"\\nResumen de imputación:\")\n",
        "for col_name, val in imputation_values.items():  # Usando col_name en lugar de col\n",
        "    null_count = sdf_filled.filter(col(col_name).isNull()).count()  # Usando la función col()\n",
        "    print(f\"- {col_name}: {null_count} faltantes después de imputación (valor usado: {val})\")"
      ],
      "metadata": {
        "colab": {
          "base_uri": "https://localhost:8080/"
        },
        "id": "5L4vQYfalEkU",
        "outputId": "12086ccb-7166-4e85-a9a3-386adc15a58b"
      },
      "execution_count": 124,
      "outputs": [
        {
          "output_type": "stream",
          "name": "stdout",
          "text": [
            "\n",
            "Columnas con >10.0% valores faltantes (25):\n",
            "- Street Suffix: 2768 faltantes (1.4%)\n",
            "- Description: 290 faltantes (0.1%)\n",
            "- Filed Date: 1 faltantes (0.0%)\n",
            "- Issued Date: 14812 faltantes (7.4%)\n",
            "- Completed Date: 101033 faltantes (50.8%)\n",
            "- First Construction Document Date: 15223 faltantes (7.7%)\n",
            "- Number of Existing Stories: 43760 faltantes (22.0%)\n",
            "- Number of Proposed Stories: 43407 faltantes (21.8%)\n",
            "- Permit Expiration Date: 53075 faltantes (26.7%)\n",
            "- Estimated Cost: 38794 faltantes (19.5%)\n",
            "- Revised Cost: 6434 faltantes (3.2%)\n",
            "- Existing Use: 41334 faltantes (20.8%)\n",
            "- Existing Units: 51505 faltantes (25.9%)\n",
            "- Proposed Use: 42584 faltantes (21.4%)\n",
            "- Proposed Units: 50877 faltantes (25.6%)\n",
            "- Plansets: 38093 faltantes (19.2%)\n",
            "- Existing Construction Type: 44315 faltantes (22.3%)\n",
            "- Existing Construction Type Description: 43853 faltantes (22.0%)\n",
            "- Proposed Construction Type: 43457 faltantes (21.8%)\n",
            "- Proposed Construction Type Description: 43352 faltantes (21.8%)\n",
            "- Supervisor District: 2701 faltantes (1.4%)\n",
            "- Neighborhoods - Analysis Boundaries: 2214 faltantes (1.1%)\n",
            "- Zipcode: 1969 faltantes (1.0%)\n",
            "- Location: 1877 faltantes (0.9%)\n",
            "- Record ID: 128 faltantes (0.1%)\n",
            "\n",
            "Valores de imputación a aplicar:\n",
            "- Street Suffix: St\n",
            "- Description: street space\n",
            "- Filed Date: 09/15/2017\n",
            "- Issued Date: 06/15/2016\n",
            "- Completed Date: 10/30/2015\n",
            "- First Construction Document Date: 11/07/2016\n",
            "- Number of Existing Stories: 2\n",
            "- Number of Proposed Stories: 2\n",
            "- Permit Expiration Date: 02/28/2018\n",
            "- Estimated Cost: 1\n",
            "- Revised Cost: 1\n",
            "- Existing Use: 1 family dwelling\n",
            "- Existing Units: 1\n",
            "- Proposed Use: 1 family dwelling\n",
            "- Proposed Units: 1\n",
            "- Plansets: 129.18539615812745\n",
            "- Existing Construction Type: 5\n",
            "- Existing Construction Type Description: wood frame (5)\n",
            "- Proposed Construction Type: 5\n",
            "- Proposed Construction Type Description: wood frame (5)\n",
            "- Supervisor District: 3\n",
            "- Neighborhoods - Analysis Boundaries: Financial District/South Beach\n",
            "- Zipcode: 94110\n",
            "- Location: (37.79226164705184, -122.4034859571375)\n",
            "- Record ID: 6\n",
            "\n",
            "Resumen de imputación:\n",
            "- Street Suffix: 0 faltantes después de imputación (valor usado: St)\n",
            "- Description: 0 faltantes después de imputación (valor usado: street space)\n",
            "- Filed Date: 0 faltantes después de imputación (valor usado: 09/15/2017)\n",
            "- Issued Date: 0 faltantes después de imputación (valor usado: 06/15/2016)\n",
            "- Completed Date: 0 faltantes después de imputación (valor usado: 10/30/2015)\n",
            "- First Construction Document Date: 0 faltantes después de imputación (valor usado: 11/07/2016)\n",
            "- Number of Existing Stories: 0 faltantes después de imputación (valor usado: 2)\n",
            "- Number of Proposed Stories: 0 faltantes después de imputación (valor usado: 2)\n",
            "- Permit Expiration Date: 0 faltantes después de imputación (valor usado: 02/28/2018)\n",
            "- Estimated Cost: 0 faltantes después de imputación (valor usado: 1)\n",
            "- Revised Cost: 0 faltantes después de imputación (valor usado: 1)\n",
            "- Existing Use: 0 faltantes después de imputación (valor usado: 1 family dwelling)\n",
            "- Existing Units: 0 faltantes después de imputación (valor usado: 1)\n",
            "- Proposed Use: 0 faltantes después de imputación (valor usado: 1 family dwelling)\n",
            "- Proposed Units: 0 faltantes después de imputación (valor usado: 1)\n",
            "- Plansets: 0 faltantes después de imputación (valor usado: 129.18539615812745)\n",
            "- Existing Construction Type: 0 faltantes después de imputación (valor usado: 5)\n",
            "- Existing Construction Type Description: 0 faltantes después de imputación (valor usado: wood frame (5))\n",
            "- Proposed Construction Type: 0 faltantes después de imputación (valor usado: 5)\n",
            "- Proposed Construction Type Description: 0 faltantes después de imputación (valor usado: wood frame (5))\n",
            "- Supervisor District: 0 faltantes después de imputación (valor usado: 3)\n",
            "- Neighborhoods - Analysis Boundaries: 0 faltantes después de imputación (valor usado: Financial District/South Beach)\n",
            "- Zipcode: 0 faltantes después de imputación (valor usado: 94110)\n",
            "- Location: 0 faltantes después de imputación (valor usado: (37.79226164705184, -122.4034859571375))\n",
            "- Record ID: 0 faltantes después de imputación (valor usado: 6)\n"
          ]
        }
      ]
    },
    {
      "cell_type": "markdown",
      "source": [
        "### Verificacion final de los resultados."
      ],
      "metadata": {
        "id": "pvgQ1eNGoNiP"
      }
    },
    {
      "cell_type": "code",
      "source": [
        "from pyspark.sql.functions import col, count, when, isnull, mean, median, stddev\n",
        "missing_counts = sdf_filled.select([count(when(isnull(c), c)).alias(c) for c in sdf_filled.columns])\n",
        "missing_counts.show(vertical=True, truncate=False)"
      ],
      "metadata": {
        "colab": {
          "base_uri": "https://localhost:8080/"
        },
        "id": "eqWHCmymlkQU",
        "outputId": "4f01d5d4-f400-4a3b-ca12-696513ac92a9"
      },
      "execution_count": 125,
      "outputs": [
        {
          "output_type": "stream",
          "name": "stdout",
          "text": [
            "-RECORD 0-------------------------------------\n",
            " Permit Number                          | 0   \n",
            " Permit Type                            | 0   \n",
            " Permit Type Definition                 | 0   \n",
            " Permit Creation Date                   | 0   \n",
            " Block                                  | 0   \n",
            " Lot                                    | 0   \n",
            " Street Number                          | 0   \n",
            " Street Name                            | 0   \n",
            " Street Suffix                          | 0   \n",
            " Description                            | 0   \n",
            " Current Status                         | 0   \n",
            " Current Status Date                    | 0   \n",
            " Filed Date                             | 0   \n",
            " Issued Date                            | 0   \n",
            " Completed Date                         | 0   \n",
            " First Construction Document Date       | 0   \n",
            " Number of Existing Stories             | 0   \n",
            " Number of Proposed Stories             | 0   \n",
            " Permit Expiration Date                 | 0   \n",
            " Estimated Cost                         | 0   \n",
            " Revised Cost                           | 0   \n",
            " Existing Use                           | 0   \n",
            " Existing Units                         | 0   \n",
            " Proposed Use                           | 0   \n",
            " Proposed Units                         | 0   \n",
            " Plansets                               | 0   \n",
            " Existing Construction Type             | 0   \n",
            " Existing Construction Type Description | 0   \n",
            " Proposed Construction Type             | 0   \n",
            " Proposed Construction Type Description | 0   \n",
            " Supervisor District                    | 0   \n",
            " Neighborhoods - Analysis Boundaries    | 0   \n",
            " Zipcode                                | 0   \n",
            " Location                               | 0   \n",
            " Record ID                              | 0   \n",
            "\n"
          ]
        }
      ]
    },
    {
      "cell_type": "markdown",
      "source": [
        "## Indique cuantas filas de datos tiene al final de la actividad anterior."
      ],
      "metadata": {
        "id": "GBVmoL47dQzO"
      }
    },
    {
      "cell_type": "code",
      "source": [
        "print(sdf_filled.count())"
      ],
      "metadata": {
        "colab": {
          "base_uri": "https://localhost:8080/"
        },
        "id": "MHNUlog4dRQY",
        "outputId": "3293132d-9696-4ca6-acdc-a4d47a6ad663"
      },
      "execution_count": 126,
      "outputs": [
        {
          "output_type": "stream",
          "name": "stdout",
          "text": [
            "198900\n"
          ]
        }
      ]
    },
    {
      "cell_type": "markdown",
      "source": [
        "## Determine el valor máximo de la columna ‘Number of Existing Stories’."
      ],
      "metadata": {
        "id": "TDtUL1TbdVCH"
      }
    },
    {
      "cell_type": "code",
      "source": [
        "max_stories = sdf_filled.agg({'Number of Existing Stories': 'max'}).collect()[0][0]\n",
        "print(f\"\\nValor máximo de 'Number of Existing Stories': {max_stories}\")"
      ],
      "metadata": {
        "colab": {
          "base_uri": "https://localhost:8080/"
        },
        "id": "8Qmr5hWbdVkY",
        "outputId": "331b1072-3204-4cc9-d1f5-773415d02673"
      },
      "execution_count": 127,
      "outputs": [
        {
          "output_type": "stream",
          "name": "stdout",
          "text": [
            "\n",
            "Valor máximo de 'Number of Existing Stories': issued\n"
          ]
        }
      ]
    },
    {
      "cell_type": "markdown",
      "source": [
        "## Determine el valor mínimo de la columna ‘Estimated Cost’."
      ],
      "metadata": {
        "id": "8KBH0fgrdX6b"
      }
    },
    {
      "cell_type": "code",
      "source": [
        "min_cost = sdf_filled.agg({'Estimated Cost': 'min'}).collect()[0][0]\n",
        "print(f\"Valor mínimo de 'Estimated Cost': {min_cost}\")"
      ],
      "metadata": {
        "colab": {
          "base_uri": "https://localhost:8080/"
        },
        "id": "qJ9CuVT7dYJQ",
        "outputId": "ec9a9604-56cb-4260-f9bf-f115ef25d279"
      },
      "execution_count": 128,
      "outputs": [
        {
          "output_type": "stream",
          "name": "stdout",
          "text": [
            "Valor mínimo de 'Estimated Cost': 01/01/2015\n"
          ]
        }
      ]
    },
    {
      "cell_type": "markdown",
      "source": [
        "## Determine la media de ‘Existing Units’."
      ],
      "metadata": {
        "id": "XbaFZX7PdbLh"
      }
    },
    {
      "cell_type": "code",
      "source": [
        "mean_units = sdf_filled.agg({'Existing Units': 'mean'}).collect()[0][0]\n",
        "print(f\"Media de 'Existing Units': {mean_units:.2f}\")"
      ],
      "metadata": {
        "colab": {
          "base_uri": "https://localhost:8080/"
        },
        "id": "aeTpAt4TdbqH",
        "outputId": "4bb5c2d0-6844-4d35-9b5f-d8b046d9a332"
      },
      "execution_count": 129,
      "outputs": [
        {
          "output_type": "stream",
          "name": "stdout",
          "text": [
            "Media de 'Existing Units': 467.11\n"
          ]
        }
      ]
    },
    {
      "cell_type": "markdown",
      "source": [
        "## Determine la mediana de ‘Plansets’."
      ],
      "metadata": {
        "id": "6x3ULfc6dd2m"
      }
    },
    {
      "cell_type": "code",
      "source": [
        "median_stories = sdf_filled.approxQuantile('Plansets', [0.5], 0.01)[0]\n",
        "print(f\"Mediana de 'Plansets': {median_stories}\")"
      ],
      "metadata": {
        "colab": {
          "base_uri": "https://localhost:8080/"
        },
        "id": "qDFckDJBdePz",
        "outputId": "e57f38ee-e064-4e32-c7cc-db830b1102e3"
      },
      "execution_count": 130,
      "outputs": [
        {
          "output_type": "stream",
          "name": "stdout",
          "text": [
            "Mediana de 'Plansets': 2.0\n"
          ]
        }
      ]
    },
    {
      "cell_type": "markdown",
      "source": [
        "## Determine la desviación estándar de ‘Estimated Cost’. Interprete el resultado."
      ],
      "metadata": {
        "id": "_dkh6ZygdgT4"
      }
    },
    {
      "cell_type": "code",
      "source": [
        "stddev_cost = sdf_filled.agg({'Estimated Cost': 'stddev'}).collect()[0][0]\n",
        "print(f\"\\nDesviación estándar de 'Estimated Cost': {stddev_cost:.2f}\")\n",
        "print(\"Interpretación: Indica la dispersión de los costos estimados alrededor de la media.\")\n",
        "print(f\"Un valor alto ({stddev_cost:.2f}) sugiere que los costos varían significativamente entre proyectos.\")"
      ],
      "metadata": {
        "colab": {
          "base_uri": "https://localhost:8080/"
        },
        "id": "hBEFVdDqdhic",
        "outputId": "b5aa36d8-6c4c-4f0c-80d3-15f739f0721e"
      },
      "execution_count": 131,
      "outputs": [
        {
          "output_type": "stream",
          "name": "stdout",
          "text": [
            "\n",
            "Desviación estándar de 'Estimated Cost': 3272566.48\n",
            "Interpretación: Indica la dispersión de los costos estimados alrededor de la media.\n",
            "Un valor alto (3272566.48) sugiere que los costos varían significativamente entre proyectos.\n"
          ]
        }
      ]
    },
    {
      "cell_type": "markdown",
      "source": [
        "## Calcule la matriz de correlación de las variables numéricas del dataframe."
      ],
      "metadata": {
        "id": "v9_MX3YxdjdV"
      }
    },
    {
      "cell_type": "code",
      "source": [
        "from pyspark.ml.stat import Correlation\n",
        "from pyspark.ml.feature import VectorAssembler\n",
        "\n",
        "numeric_cols = [c for c, dtype in sdf_filled.dtypes if dtype in ['int', 'double', 'float']]\n",
        "\n",
        "print(\"\\nColumnas numéricas para matriz de correlación:\")\n",
        "print(numeric_cols)\n",
        "\n",
        "if len(numeric_cols) >= 2:  # Necesitamos al menos 2 columnas numéricas\n",
        "    assembler = VectorAssembler(inputCols=numeric_cols, outputCol=\"features\")\n",
        "    df_vector = assembler.transform(sdf_filled).select(\"features\")\n",
        "\n",
        "    matrix = Correlation.corr(df_vector, \"features\").collect()[0][0]\n",
        "    print(\"\\nMatriz de correlación:\")\n",
        "    print(matrix.toArray())\n",
        "\n",
        "else:\n",
        "    print(\"\\nNo hay suficientes columnas numéricas para calcular correlación.\")\n"
      ],
      "metadata": {
        "colab": {
          "base_uri": "https://localhost:8080/"
        },
        "id": "0C1spU5p8kTj",
        "outputId": "96651ad4-a2bc-42f1-c4a2-d90b2506d300"
      },
      "execution_count": 133,
      "outputs": [
        {
          "output_type": "stream",
          "name": "stdout",
          "text": [
            "\n",
            "Columnas numéricas para matriz de correlación:\n",
            "['Permit Type', 'Street Number', 'Plansets']\n",
            "\n",
            "Matriz de correlación:\n",
            "[[ 1.00000000e+00 -2.28088096e-03 -8.22764556e-03]\n",
            " [-2.28088096e-03  1.00000000e+00 -2.05544647e-05]\n",
            " [-8.22764556e-03 -2.05544647e-05  1.00000000e+00]]\n"
          ]
        }
      ]
    },
    {
      "cell_type": "markdown",
      "source": [
        "Las tres variables no están correlacionadas entre sí. Es decir, cambios en una variable no implican cambios sistemáticos en las otras. Esto puede ser útil si, por ejemplo, se está haciendo un modelo predictivo y se quiere evitar multicolinealidad entre variables independientes."
      ],
      "metadata": {
        "id": "dbSc3iU-9SnD"
      }
    },
    {
      "cell_type": "code",
      "source": [
        "spark.stop()"
      ],
      "metadata": {
        "id": "_VTDAnC19Vky"
      },
      "execution_count": 134,
      "outputs": []
    }
  ]
}