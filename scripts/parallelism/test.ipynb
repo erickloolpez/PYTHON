{
 "cells": [
  {
   "cell_type": "code",
   "execution_count": null,
   "id": "518d12bf-e479-484e-82af-26135fa6462c",
   "metadata": {},
   "outputs": [],
   "source": [
    "import ijson\n",
    "\n",
    "with open(\"cpu/diferencias.json\", \"r\", encoding=\"utf-8\") as f:\n",
    "    objetos = ijson.items(f, \"item\")  # o use \"item\" si es una lista, o navegue con \"root.item\" si está anidado\n",
    "\n",
    "    for i, obj in enumerate(objetos):\n",
    "        print(obj)  # cada obj es un dict individual\n",
    "        if i >= 10: break  # para ver los primeros\n"
   ]
  },
  {
   "cell_type": "code",
   "execution_count": null,
   "id": "90bb5d97-015d-497b-b59f-29a20d3a7038",
   "metadata": {},
   "outputs": [],
   "source": []
  },
  {
   "cell_type": "code",
   "execution_count": null,
   "id": "a17c7eb2-0c30-4d14-ab6c-2465d1699d6a",
   "metadata": {},
   "outputs": [],
   "source": []
  }
 ],
 "metadata": {
  "kernelspec": {
   "display_name": "Python [conda env:myenv]",
   "language": "python",
   "name": "conda-env-myenv-py"
  },
  "language_info": {
   "codemirror_mode": {
    "name": "ipython",
    "version": 3
   },
   "file_extension": ".py",
   "mimetype": "text/x-python",
   "name": "python",
   "nbconvert_exporter": "python",
   "pygments_lexer": "ipython3",
   "version": "3.9.21"
  }
 },
 "nbformat": 4,
 "nbformat_minor": 5
}
